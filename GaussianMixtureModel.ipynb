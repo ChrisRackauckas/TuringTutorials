{
 "cells": [
  {
   "cell_type": "markdown",
   "metadata": {},
   "source": [
    "# Unsupervised Learning using Bayesian Mixture Models"
   ]
  },
  {
   "cell_type": "markdown",
   "metadata": {},
   "source": [
    "The following tutorial illustrates the use *Turing* for clustering data using a Bayesian mixture model. The aim of this task is to infer a latent grouping (hidden structure) from unlabelled data.\n",
    "\n",
    "---\n",
    "\n",
    "More specifically, we are for example interested in discovering the grouping illustrated in figure below. This example consists of 2-D data points, i.e. $\\boldsymbol{x} = \\{x_i\\}_{i=1}^N \\,, x_i \\in \\mathcal{R}^2$, which are distributed according to Gaussian distributions."
   ]
  },
  {
   "cell_type": "code",
   "execution_count": null,
   "metadata": {},
   "outputs": [
    {
     "name": "stderr",
     "output_type": "stream",
     "text": [
      "┌ Info: Recompiling stale cache file /Users/martin/.julia/compiled/v1.0/Distributions/xILW0.ji for Distributions [31c24e10-a181-5473-b8eb-7969acd0382f]\n",
      "└ @ Base loading.jl:1184\n"
     ]
    }
   ],
   "source": [
    "using Distributions, StatPlots, Random\n",
    "\n",
    "# Set a random seed.\n",
    "Random.seed!(3)\n",
    "\n",
    "# Construct 100 data points for each cluster.\n",
    "N = 30\n",
    "\n",
    "# Parameters for each cluster, we assume that each cluster is Gaussian distributed in the example.\n",
    "μs = [-3.5, 0.0, 5.0]\n",
    "σs = [1.0, 0.6, 1.5]\n",
    "\n",
    "# Construct the data points.\n",
    "x = mapreduce(c -> rand(MvNormal([μs[c], μs[c]], σs[c]), N), hcat, 1:3)\n",
    "\n",
    "# Visualization.\n",
    "scatter(x[1,:], x[2,:], legend = false, title = \"Synthetic Dataset\")"
   ]
  },
  {
   "cell_type": "markdown",
   "metadata": {},
   "source": [
    "## Gaussian Mixture Model in Turing"
   ]
  },
  {
   "cell_type": "markdown",
   "metadata": {},
   "source": [
    "To cluster the data points shown above, we use a model that consists of three mixture components (clusters) and assigns each datum to one of the components. The assignment thereof determines the distribution that the data point is generated from.\n",
    "\n",
    "---\n",
    "\n",
    "In particular, in a Bayesian Gaussian mixture model with $1 \\leq k \\leq K$ components for 1-D data each data point $x_i$ with $1 \\leq i \\leq N$ is generated according to the following generative process.\n",
    "First we draw the parameters for each cluster, i.e.\n",
    "\n",
    "$$\n",
    "\\mu_k \\sim Normal() \\, , \\;  \\forall k \\\\\n",
    "\\sigma_k \\sim InverseGamma(a, b) \\, , \\;  \\forall k \\\\\n",
    "$$\n",
    "and then draw mixing weight for the $K$ clusters from a Dirichlet distribution, i.e.\n",
    "\n",
    "$$\n",
    "    w \\sim Dirichlet(K, \\alpha) \\, . \\\\\n",
    "$$\n",
    "After having constructed all the necessary model parameters, we can generate an observation by first selecting one of the clusters and then drawing the datum accordingly, i.e.\n",
    "$$\n",
    "    z_i \\sim Categorical(w) \\, , \\;  \\forall i \\\\\n",
    "    x_i \\sim Normal(\\mu_{z_i}, \\sigma_{z_i}) \\, , \\;  \\forall i\n",
    "$$\n",
    "\n",
    "---"
   ]
  },
  {
   "cell_type": "markdown",
   "metadata": {},
   "source": [
    "For simplicity, we will first take a look at an implementation of a GMM for which we assume to know the true scale parameters of the Normal distributions."
   ]
  },
  {
   "cell_type": "code",
   "execution_count": 3,
   "metadata": {},
   "outputs": [],
   "source": [
    "using Turing, MCMCChain"
   ]
  },
  {
   "cell_type": "code",
   "execution_count": 11,
   "metadata": {},
   "outputs": [
    {
     "data": {
      "text/plain": [
       "GaussianMixtureModel (generic function with 7 methods)"
      ]
     },
     "execution_count": 11,
     "metadata": {},
     "output_type": "execute_result"
    }
   ],
   "source": [
    "@model GaussianMixtureModel(x, σ, C, N) = begin\n",
    "\n",
    "    # Draw the paramters for cluster 1\n",
    "    μ1 ~ Normal()\n",
    "    \n",
    "    # Draw the paramters for cluster 2\n",
    "    μ2 ~ Normal()\n",
    "    \n",
    "    # Draw the paramters for cluster 3\n",
    "    μ3 ~ Normal()\n",
    "    \n",
    "    μ = [μ1, μ2, μ3]\n",
    "    \n",
    "    # Draw weights for the K clusters from a Dirichlet distribution.\n",
    "    α = 1.0\n",
    "    w ~ Dirichlet(C, α)\n",
    "    \n",
    "    # Draw assignments for each datum and generate it from a multivariate normal.\n",
    "    k = zeros(Int, N)\n",
    "    for i in 1:N\n",
    "        k[i] ~ Categorical(w)\n",
    "        x[:,i] ~ MvNormal([μ[k[i]], μ[k[i]]], σ[k[i]])\n",
    "    end\n",
    "    return k\n",
    "end"
   ]
  },
  {
   "cell_type": "code",
   "execution_count": 13,
   "metadata": {},
   "outputs": [
    {
     "data": {
      "text/plain": [
       ":forward_diff"
      ]
     },
     "execution_count": 13,
     "metadata": {},
     "output_type": "execute_result"
    }
   ],
   "source": [
    "Turing.setadbackend(:forward_diff)"
   ]
  },
  {
   "cell_type": "code",
   "execution_count": null,
   "metadata": {},
   "outputs": [],
   "source": [
    "gmm_model = GaussianMixtureModel(x, σs, 3, N*3)\n",
    "gmm_sampler = Gibbs(1000, PG(100, 1, :k), HMC(1, 0.05, 10, :w, :μ1, :μ2, :μ3))\n",
    "tchain = sample(gmm_model, gmm_sampler)"
   ]
  },
  {
   "cell_type": "code",
   "execution_count": 6,
   "metadata": {},
   "outputs": [
    {
     "ename": "UndefVarError",
     "evalue": "UndefVarError: tchain not defined",
     "output_type": "error",
     "traceback": [
      "UndefVarError: tchain not defined",
      "",
      "Stacktrace:",
      " [1] top-level scope at In[6]:1"
     ]
    }
   ],
   "source": [
    "scatter(x[1,:], x[2,:], legend = false, title = \"Labelling on Synthetic Dataset\", zcolor = mean(tchain[:k]))"
   ]
  }
 ],
 "metadata": {
  "kernelspec": {
   "display_name": "Julia 1.0.0",
   "language": "julia",
   "name": "julia-1.0"
  },
  "language_info": {
   "file_extension": ".jl",
   "mimetype": "application/julia",
   "name": "julia",
   "version": "1.0.0"
  }
 },
 "nbformat": 4,
 "nbformat_minor": 2
}
