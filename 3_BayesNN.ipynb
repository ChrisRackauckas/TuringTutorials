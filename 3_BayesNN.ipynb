{
 "cells": [
  {
   "cell_type": "markdown",
   "metadata": {},
   "source": [
    "# Bayesian Neural Networks"
   ]
  },
  {
   "cell_type": "markdown",
   "metadata": {},
   "source": [
    "In this tutorial, we demonstrate how one can implement a Bayesian Neural Network using a combination of Turing and [Flux](https://github.com/FluxML/Flux.jl), a suite of tools machine learning. We will use Flux to specify the neural network's layers and Turing to implement the probabalistic inference, with the goal of implementing a classification algorithm.\n",
    "\n",
    "We will begin with importing the relevant libraries."
   ]
  },
  {
   "cell_type": "code",
   "execution_count": null,
   "metadata": {},
   "outputs": [],
   "source": [
    "# Import libraries.\n",
    "using Turing, Flux, Plots, Random"
   ]
  },
  {
   "cell_type": "markdown",
   "metadata": {},
   "source": [
    "Our goal here is to use a Bayesian neural network to classify points in an artificial dataset. The code below generates data points arranged in a box-like pattern and displays a graph of the dataset we'll be working with."
   ]
  },
  {
   "cell_type": "code",
   "execution_count": null,
   "metadata": {},
   "outputs": [],
   "source": [
    "# Number of points to generate.\n",
    "N = 80\n",
    "M = round(Int, N / 4)\n",
    "Random.seed!(1234)\n",
    "\n",
    "# Generate artificial data.\n",
    "x1s = rand(M) * 4.5; x2s = rand(M) * 4.5; \n",
    "xt1s = Array([[x1s[i] + 0.5; x2s[i] + 0.5] for i = 1:M])\n",
    "x1s = rand(M) * 4.5; x2s = rand(M) * 4.5; \n",
    "append!(xt1s, Array([[x1s[i] - 5; x2s[i] - 5] for i = 1:M]))\n",
    "\n",
    "x1s = rand(M) * 4.5; x2s = rand(M) * 4.5; \n",
    "xt0s = Array([[x1s[i] + 0.5; x2s[i] - 5] for i = 1:M])\n",
    "x1s = rand(M) * 4.5; x2s = rand(M) * 4.5; \n",
    "append!(xt0s, Array([[x1s[i] - 5; x2s[i] + 0.5] for i = 1:M]))\n",
    "\n",
    "# Store all the data for later.\n",
    "xs = [xt1s; xt0s]\n",
    "ts = [ones(2*M); zeros(2*M)]\n",
    "\n",
    "# Plot data points.\n",
    "function plot_data()\n",
    "    x1 = map(e -> e[1], xt1s)\n",
    "    y1 = map(e -> e[2], xt1s)\n",
    "    x2 = map(e -> e[1], xt0s)\n",
    "    y2 = map(e -> e[2], xt0s)\n",
    "\n",
    "    Plots.scatter(x1,y1, color=\"red\")\n",
    "    Plots.scatter!(x2, y2, color=\"blue\")\n",
    "end\n",
    "\n",
    "plot_data()"
   ]
  },
  {
   "cell_type": "markdown",
   "metadata": {},
   "source": [
    "## Building a Neural Network\n",
    "\n",
    "The next step is to define a [feedforward neural network](https://en.wikipedia.org/wiki/Feedforward_neural_network) where we express our parameters as distribtuions, and not single points as with traditional neural networks. The two functions below, `unpack` and `nn_forward` are helper functions we need when we specify our model in Turing.\n",
    "\n",
    "`unpack` takes a vector of parameters and partitions them between weights and biases. `nn_forward` constructs a neural network with the variables generated in `unpack` and returns a prediction based on the weights provided.\n",
    "\n",
    "The `unpack` and `nn_forward` functions are explicity designed to create a neural network with two hidden layers and one output layer, as shown below."
   ]
  },
  {
   "cell_type": "markdown",
   "metadata": {},
   "source": [
    "<img width=\"320\" alt=\"nn-diagram\" src=\"https://user-images.githubusercontent.com/422990/47970321-bd172080-e038-11e8-9c6d-6c2bd790bd8a.png\">"
   ]
  },
  {
   "cell_type": "markdown",
   "metadata": {},
   "source": [
    "The end of this tutorial provides some code that can be used to generate more general network shapes."
   ]
  },
  {
   "cell_type": "code",
   "execution_count": null,
   "metadata": {},
   "outputs": [],
   "source": [
    "# Turn a vector into a set of weights and biases.\n",
    "function unpack(nn_params::AbstractVector)\n",
    "    W₁ = reshape(nn_params[1:6], 3, 2);   \n",
    "    b₁ = reshape(nn_params[7:9], 3)\n",
    "    \n",
    "    W₂ = reshape(nn_params[10:15], 2, 3); \n",
    "    b₂ = reshape(nn_params[16:17], 2)\n",
    "    \n",
    "    Wₒ = reshape(nn_params[18:19], 1, 2); \n",
    "    bₒ = reshape(nn_params[20:20], 1)   \n",
    "    return W₁, b₁, W₂, b₂, Wₒ, bₒ\n",
    "end\n",
    "\n",
    "# Construct a neural network using Flux and return a predicted value.\n",
    "function nn_forward(xs, nn_params::AbstractVector)\n",
    "    W₁, b₁, W₂, b₂, Wₒ, bₒ = unpack(nn_params)\n",
    "    nn = Chain(Dense(W₁, b₁, tanh),\n",
    "               Dense(W₂, b₂, tanh),\n",
    "               Dense(Wₒ, bₒ, σ))\n",
    "    return nn(xs)\n",
    "end;"
   ]
  },
  {
   "cell_type": "markdown",
   "metadata": {},
   "source": [
    "The probabalistic model specification below creates a `params` variable, which has 20 normally distributed variables. Each entry in the `params` vector represents weights and biases of our neural net."
   ]
  },
  {
   "cell_type": "code",
   "execution_count": null,
   "metadata": {},
   "outputs": [],
   "source": [
    "# Create a regularization term and a Gaussain prior variance term.\n",
    "alpha = 0.09\n",
    "sig = sqrt(1.0 / alpha)\n",
    "\n",
    "# Specify the probabalistic model.\n",
    "@model bayes_nn(xs, ts) = begin\n",
    "    # Create the weight and bias vector.\n",
    "    nn_params ~ MvNormal(zeros(20), sig .* ones(20))\n",
    "    \n",
    "    # Calculate predictions for the inputs given the weights\n",
    "    # and biases in theta.\n",
    "    preds = nn_forward(xs, nn_params)\n",
    "    \n",
    "    # Observe each prediction.\n",
    "    for i = 1:length(ts)\n",
    "        ts[i] ~ Bernoulli(preds[i])\n",
    "    end\n",
    "end;"
   ]
  },
  {
   "cell_type": "markdown",
   "metadata": {},
   "source": [
    "Inference can now be performed by calling `sample`. We use the `HMC` sampler here."
   ]
  },
  {
   "cell_type": "code",
   "execution_count": null,
   "metadata": {},
   "outputs": [],
   "source": [
    "# Perform inference.\n",
    "N = 5000\n",
    "ch = sample(bayes_nn(hcat(xs...), ts), HMC(N, 0.05, 4));"
   ]
  },
  {
   "cell_type": "markdown",
   "metadata": {},
   "source": [
    "Now we extract the weights and biases from the sampled chain. We'll use these primarily in determining how good a classifier our model is."
   ]
  },
  {
   "cell_type": "code",
   "execution_count": null,
   "metadata": {},
   "outputs": [],
   "source": [
    "# Extract all weight and bias parameters.\n",
    "theta = ch[:nn_params];"
   ]
  },
  {
   "cell_type": "markdown",
   "metadata": {},
   "source": [
    "## Prediction Visualization\n",
    "\n",
    "We can use [MAP estimation](https://en.wikipedia.org/wiki/Maximum_a_posteriori_estimation) to classify our population by using the set of weights that provided the highest log posterior."
   ]
  },
  {
   "cell_type": "code",
   "execution_count": null,
   "metadata": {},
   "outputs": [],
   "source": [
    "# Plot the data we have.\n",
    "plot_data()\n",
    "\n",
    "# Find the index that provided the highest log posterior in the chain.\n",
    "_, i = findmax(ch[:lp])\n",
    "\n",
    "# Plot the posterior distribution with a contour plot.\n",
    "x_range = collect(range(-6,stop=6,length=25))\n",
    "y_range = collect(range(-6,stop=6,length=25))\n",
    "Z = [nn_forward([x, y], theta[i])[1] for x=x_range, y=y_range]\n",
    "contour!(x_range, y_range, Z)"
   ]
  },
  {
   "cell_type": "markdown",
   "metadata": {},
   "source": [
    "The contour plot above shows that the MAP method is not too bad at classifying our data."
   ]
  },
  {
   "cell_type": "markdown",
   "metadata": {},
   "source": [
    "Now we can visualize our predictions.\n",
    "\n",
    "$$ p(\\tilde{x} | X, \\alpha) = \\int_{\\theta} p(\\tilde{x} | \\theta) p(\\theta | X, \\alpha) \\approx \\sum_{\\theta \\sim p(\\theta | X, \\alpha)}f_{\\theta}(\\tilde{x}) $$\n",
    "\n",
    "The `nn_predict` function takes the average predicted value from a network parameterized by weights drawn from the MCMC chain."
   ]
  },
  {
   "cell_type": "code",
   "execution_count": null,
   "metadata": {},
   "outputs": [],
   "source": [
    "# Return the average predicted value across\n",
    "# multiple weights.\n",
    "function nn_predict(x, theta, num)\n",
    "    mean([nn_forward(x, theta[i])[1] for i in 1:10:num])\n",
    "end;"
   ]
  },
  {
   "cell_type": "markdown",
   "metadata": {},
   "source": [
    "Next, we use the `nn_predict` function to predict the value at a sample of points where the `x` and `y` coordinates range between -6 and 6. As we can see below, we still have a satisfactory fit to our data."
   ]
  },
  {
   "cell_type": "code",
   "execution_count": null,
   "metadata": {},
   "outputs": [],
   "source": [
    "# Plot the average prediction.\n",
    "plot_data()\n",
    "\n",
    "n_end = 1500\n",
    "x_range = collect(range(-6,stop=6,length=25))\n",
    "y_range = collect(range(-6,stop=6,length=25))\n",
    "Z = [nn_predict([x, y], theta, n_end)[1] for x=x_range, y=y_range]\n",
    "contour!(x_range, y_range, Z)"
   ]
  },
  {
   "cell_type": "markdown",
   "metadata": {},
   "source": [
    "If you are interested in how the predictive power of our Bayesian neural network evolved between samples, the following graph displays an animation of the contour plot generated from the network weights in samples 1 to 1,000. "
   ]
  },
  {
   "cell_type": "code",
   "execution_count": null,
   "metadata": {},
   "outputs": [],
   "source": [
    "# Number of iterations to plot.\n",
    "n_end = 500\n",
    "\n",
    "anim = @animate for i=1:n_end\n",
    "    plot_data()\n",
    "    Z = [nn_forward([x, y], theta[i])[1] for x=x_range, y=y_range]\n",
    "    contour!(x_range, y_range, Z, title=\"Iteration $i\")\n",
    "end every 5;"
   ]
  },
  {
   "cell_type": "markdown",
   "metadata": {},
   "source": [
    "![3_bayesnn_anim](https://user-images.githubusercontent.com/422990/47970525-93132d80-e03b-11e8-91d3-65d330fd4e1d.gif)"
   ]
  },
  {
   "cell_type": "markdown",
   "metadata": {},
   "source": [
    "## Generic Bayesian Neural Networks\n",
    "\n",
    "The below code is intended for use in more general applications, where you need to be able to change the basic network shape fluidly. The code above is highly rigid, and adapting it for other architectures would be time consuming. Currently the code below only supports networks of `Dense` layers.\n",
    "\n",
    "Here, we solve the same problem as above, but with three additional 2x2 `tanh` hidden layers. You can modify the `network_shape` variable to specify differing architectures. A tuple `(3,2, :tanh)` means you want to construct a `Dense` layer with 3 outputs, 2 inputs, and a `tanh` activation function. You can provide any activation function found in Flux by entering it as a `Symbol` (e.g., the `tanh` function is entered in the third part of the tuple as `:tanh`)."
   ]
  },
  {
   "cell_type": "code",
   "execution_count": null,
   "metadata": {},
   "outputs": [],
   "source": [
    "# Specify the network architecture.\n",
    "network_shape = [\n",
    "    (3,2, :tanh),\n",
    "    (2,3, :tanh), \n",
    "    (2,2, :tanh), \n",
    "    (2,2, :tanh), \n",
    "    (2,2, :tanh),\n",
    "    (1,2, :σ)]\n",
    "\n",
    "# Regularization, parameter variance, and total number of\n",
    "# parameters.\n",
    "alpha = 0.09\n",
    "sig = sqrt(1.0 / alpha)\n",
    "num_params = sum([i * o + i for (i, o, _) in network_shape])\n",
    "\n",
    "# This modification of the unpack function generates a series of vectors\n",
    "# given a network shape.\n",
    "function unpack(parameters::AbstractVector, network_shape::AbstractVector)\n",
    "    index = 1\n",
    "    weights = Vector{Array{Float64}}()\n",
    "    biases = Vector{Array{Float64}}()\n",
    "    θ = Tracker.collect(parameters)\n",
    "    for layer in network_shape\n",
    "        rows, cols, _ = layer\n",
    "        size = rows * cols\n",
    "        last_index_w = size + index - 1\n",
    "        last_index_b = last_index_w + rows\n",
    "        push!(weights, reshape(θ.data[index:last_index_w], rows, cols))\n",
    "        push!(biases, reshape(θ.data[last_index_w+1:last_index_b], rows))\n",
    "        index = last_index_b + 1\n",
    "    end\n",
    "    return weights, biases\n",
    "end\n",
    "\n",
    "# Generate an abstract neural network given a shape, \n",
    "# and return a prediction.\n",
    "function nn_forward(x, θ::AbstractVector, network_shape::AbstractVector)\n",
    "    weights, biases = unpack(θ, network_shape)\n",
    "    layers = []\n",
    "    for i in eachindex(network_shape)\n",
    "        push!(layers, Dense(weights[i],\n",
    "            biases[i],\n",
    "            eval(network_shape[i][3])))\n",
    "    end\n",
    "    nn = Chain(layers...)\n",
    "    return nn(x)\n",
    "end\n",
    "\n",
    "# General Turing specification for a BNN model.\n",
    "@model bayes_nn(xs, ts, network_shape, num_params) = begin\n",
    "    θ ~ MvNormal(zeros(num_params), sig .* ones(num_params))\n",
    "    preds = nn_forward(xs, θ, network_shape)\n",
    "    for i = 1:length(ts)\n",
    "        ts[i] ~ Bernoulli(preds[i])\n",
    "    end\n",
    "end\n",
    "\n",
    "# Perform inference.\n",
    "num_samples = 5000\n",
    "ch2 = sample(bayes_nn(hcat(xs...), ts, network_shape, num_params), HMC(num_samples, 0.05, 4));"
   ]
  },
  {
   "cell_type": "code",
   "execution_count": null,
   "metadata": {},
   "outputs": [],
   "source": [
    "# This function makes predictions based on network shape.\n",
    "function nn_predict(x, theta, num, network_shape)\n",
    "    mean([nn_forward(x, theta[i], network_shape)[1] for i in 1:10:num])\n",
    "end;\n",
    "\n",
    "# Extract the θ parameters from the sampled chain.\n",
    "params2 = ch2[:θ]\n",
    "\n",
    "plot_data()\n",
    "\n",
    "x_range = collect(range(-6,stop=6,length=25))\n",
    "y_range = collect(range(-6,stop=6,length=25))\n",
    "Z = [nn_predict([x, y], params2, num_samples, network_shape)[1] for x=x_range, y=y_range]\n",
    "contour!(x_range, y_range, Z)"
   ]
  },
  {
   "cell_type": "markdown",
   "metadata": {},
   "source": [
    "This has been an introduction to the applications of Turing and Flux in defining Bayesian neural networks."
   ]
  }
 ],
 "metadata": {
  "kernelspec": {
   "display_name": "Julia 1.0.0",
   "language": "julia",
   "name": "julia-1.0"
  },
  "language_info": {
   "file_extension": ".jl",
   "mimetype": "application/julia",
   "name": "julia",
   "version": "1.0.0"
  }
 },
 "nbformat": 4,
 "nbformat_minor": 2
}
