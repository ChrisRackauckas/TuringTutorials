{
 "cells": [
  {
   "cell_type": "markdown",
   "metadata": {},
   "source": [
    "# Bayesian Logistic Regression\n",
    "[Bayesian logistic regression](https://en.wikipedia.org/wiki/Logistic_regression#Bayesian) is the Bayesian counterpart to a common tool in machine learning, logistic regression. The goal of logistic regression is to predict a one or a zero for a given training item. An example might be predicting whether someone is sick or ill given their symptoms and personal information.\n",
    "\n",
    "In our example, we'll be working to predict whether someone is likely to default with a synthetic dataset found in the `RDatasets` package. This dataset, `Defaults`, comes from R's [ISLR](https://cran.r-project.org/web/packages/ISLR/index.html) package and contains information on borrowers.\n",
    "\n",
    "To start, let's import all the libraries we'll need."
   ]
  },
  {
   "cell_type": "code",
   "execution_count": null,
   "metadata": {},
   "outputs": [],
   "source": [
    "# Import Turing and Distributions.\n",
    "using Turing, Distributions\n",
    "\n",
    "# Import RDatasets.\n",
    "using RDatasets\n",
    "\n",
    "# Import MCMCChain, Plots, and StatPlots for visualizations and diagnostics.\n",
    "using MCMCChain, Plots, StatPlots\n",
    "\n",
    "# We need a logistic function, which is provided by StatsFuns.\n",
    "using StatsFuns: logistic\n",
    "\n",
    "# MLDataUtils provides a sample splitting tool that's very handy.\n",
    "using MLDataUtils"
   ]
  },
  {
   "cell_type": "markdown",
   "metadata": {},
   "source": [
    "## Data Cleaning & Set Up\n",
    "\n",
    "Now we're going to import our dataset. The first six rows of the dataset are shown below so you capn get a good feel for what kind of data we have."
   ]
  },
  {
   "cell_type": "code",
   "execution_count": null,
   "metadata": {},
   "outputs": [],
   "source": [
    "# Import the \"Default\" dataset.\n",
    "data = RDatasets.dataset(\"ISLR\", \"Default\");\n",
    "\n",
    "# Show the first six rows of the dataset.\n",
    "head(data)"
   ]
  },
  {
   "cell_type": "markdown",
   "metadata": {},
   "source": [
    "Most machine learning processes require some effort to tidy up the data, and this is no different. We need to convert the `Default` and `Student` columns, which say \"Yes\" or \"No\" into 1s and 0s. Afterwards, we'll get rid of the old words-based columns."
   ]
  },
  {
   "cell_type": "code",
   "execution_count": null,
   "metadata": {},
   "outputs": [],
   "source": [
    "# Create new rows, defualted to zero.\n",
    "data[:DefaultNum] = 0.0\n",
    "data[:StudentNum] = 0.0\n",
    "\n",
    "for i in 1:length(data.Default)\n",
    "    # If a row's \"Default\" or \"Student\" columns say \"Yes\",\n",
    "    # set them to 1 in our new columns.\n",
    "    data[:DefaultNum][i] = data.Default[i] == \"Yes\" ? 1.0 : 0.0\n",
    "    data[:StudentNum][i] = data.Student[i] == \"Yes\" ? 1.0 : 0.0\n",
    "end\n",
    "\n",
    "# Delete the old columns which say \"Yes\" and \"No\".\n",
    "delete!(data, :Default)\n",
    "delete!(data, :Student)\n",
    "\n",
    "# Show the first six rows of our edited dataset.\n",
    "head(data)"
   ]
  },
  {
   "cell_type": "markdown",
   "metadata": {},
   "source": [
    "After we've done that tidying, it's time to split our dataset into training and testing sets, and separate the labels from the data. We use `MLDataUtils.splitobs` to separate our data into two halves, `train` and `test`. You can use a higher percentage of splitting (or a lower one) by modifying the `at = 0.5` argument. We have set the splitting proportion to 50%, as Bayesian logistic regression tends to take a longer period of time with larger sample sizes than typicaly frequentist methods."
   ]
  },
  {
   "cell_type": "code",
   "execution_count": null,
   "metadata": {},
   "outputs": [],
   "source": [
    "# Split our dataset 70/30 into training/test sets.\n",
    "train, test = MLDataUtils.splitobs(data, at = 0.5);\n",
    "\n",
    "# Create our labels. These are the values we are trying to predict.\n",
    "train_label = train[:DefaultNum]\n",
    "test_label = test[:DefaultNum]\n",
    "\n",
    "# Remove the columns that are not our predictors.\n",
    "train = train[[:StudentNum, :Balance, :Income]]\n",
    "test = test[[:StudentNum, :Balance, :Income]]"
   ]
  },
  {
   "cell_type": "markdown",
   "metadata": {},
   "source": [
    "Our `train` and `test` matrices are still in the `DataFrame` format, which tends not to play too well with the kind of manipulations we're about to do, so we convert them into `Matrix` objects."
   ]
  },
  {
   "cell_type": "code",
   "execution_count": null,
   "metadata": {},
   "outputs": [],
   "source": [
    "# Convert the DataFrame objects to matrices.\n",
    "train = Matrix(train);\n",
    "test = Matrix(test);"
   ]
  },
  {
   "cell_type": "markdown",
   "metadata": {},
   "source": [
    "This next part is critically important. We must rescale our variables so that they are centered around zero by subtracting each column by the mean and dividing it by the standard deviation. Without this step, Turing's sampler will have a hard time finding a place to start searching for parameter estimates."
   ]
  },
  {
   "cell_type": "code",
   "execution_count": null,
   "metadata": {},
   "outputs": [],
   "source": [
    "# Rescale our matrices.\n",
    "train = (train .- mean(train, dims=1)) ./ std(train, dims=1)\n",
    "test = (test .- mean(test, dims=1)) ./ std(test, dims=1)"
   ]
  },
  {
   "cell_type": "markdown",
   "metadata": {},
   "source": [
    "## Model Declaration \n",
    "Finally, we can define our model.\n",
    "\n",
    "`logistic regression` takes four arguments:\n",
    "\n",
    "- `x` is our set of independent variables;\n",
    "- `y` is the element we want to predict;\n",
    "- `n` is the number of observations we have; and\n",
    "- `σ²` is the standard deviation we want to assume for our priors.\n",
    "\n",
    "Within the model, we create four coefficients (`intercept`, `student`, `balance`, and `income`) and assign a prior of normally distributed with means of zero and standard deviations of `σ²`. We want to find values of these four coefficients to predict any given `y`.\n",
    "\n",
    "The `for` block creates a variable `v` which is the logistic function. We then observe the liklihood of calculating `v` given the actual label, `y[i]`."
   ]
  },
  {
   "cell_type": "code",
   "execution_count": null,
   "metadata": {},
   "outputs": [],
   "source": [
    "# Bayesian logistic regression (LR)\n",
    "@model logistic_regression(x, y, n, σ²) = begin\n",
    "    intercept ~ Normal(0, σ²)\n",
    "\n",
    "    student ~ Normal(0, σ²)\n",
    "    balance ~ Normal(0, σ²)\n",
    "    income  ~ Normal(0, σ²)\n",
    "\n",
    "    for i = 1:n\n",
    "        v = logistic(intercept + student*x[i, 1] + balance*x[i,2] + income*x[i,3])\n",
    "        y[i] ~ Bernoulli(v)\n",
    "    end\n",
    "end"
   ]
  },
  {
   "cell_type": "markdown",
   "metadata": {},
   "source": [
    "## Sampling\n",
    "\n",
    "Now we can run our sampler. This time we'll use [`HMC`](http://turing.ml/docs/library/#Turing.HMC) to sample from our posterior."
   ]
  },
  {
   "cell_type": "code",
   "execution_count": null,
   "metadata": {},
   "outputs": [],
   "source": [
    "# This is temporary while the reverse differentiation backend is being improved.\n",
    "Turing.setadbackend(:forward_diff)\n",
    "\n",
    "# Retrieve the number of observations.\n",
    "n, _ = size(test)\n",
    "\n",
    "# Sample using HMC.\n",
    "chain = sample(logistic_regression(train, train_label, n, 1), HMC(1500, 0.05, 10))"
   ]
  },
  {
   "cell_type": "markdown",
   "metadata": {},
   "source": [
    "We can use the `cornerplot` function from StatPlots to show the distributions of the various parameters of our logistic regression. "
   ]
  },
  {
   "cell_type": "code",
   "execution_count": null,
   "metadata": {},
   "outputs": [],
   "source": [
    "# The labels to use.\n",
    "l = [:student, :balance, :income]\n",
    "\n",
    "# Extract the parameters we want to plot.\n",
    "w1 = chain[:student]\n",
    "w2 = chain[:balance]\n",
    "w3 = chain[:income]\n",
    "\n",
    "# Show the corner plot.\n",
    "cornerplot(hcat(w1, w2, w3), compact=true, labels = l)"
   ]
  },
  {
   "cell_type": "markdown",
   "metadata": {},
   "source": [
    "Fortunately the corner plot appears to demonstrate unimodal distributions for each of our parameters, so it should be straightforward to take the means of each parameter's sampled values to estimate our model to make predictions.\n",
    "\n",
    "## Making Predictions\n",
    "How do we test how well the model actually predicts whether someone is likely to default? We need to build a prediction function that takes the `test` object we made earlier and runs it through the average parameter calculated during sampling.\n",
    "\n",
    "The `prediction` function below takes a `Matrix` and a `Chain` object. It takes the mean of each parameter's sampled values and re-runs the logistic function using those mean values for every element in the test set."
   ]
  },
  {
   "cell_type": "code",
   "execution_count": null,
   "metadata": {},
   "outputs": [],
   "source": [
    "function prediction(x::Matrix, chain)\n",
    "    # Pull the means from each parameter's sampled values in the chain.\n",
    "    intercept = mean(chain[:intercept])\n",
    "    student = mean(chain[:student])\n",
    "    balance = mean(chain[:balance])\n",
    "    income = mean(chain[:income])\n",
    "\n",
    "    # Retrieve the number of rows.\n",
    "    n, _ = size(x)\n",
    "\n",
    "    # Generate a vector to store our predictions.\n",
    "    v = Vector{Float64}(undef, n)\n",
    "\n",
    "    # Calculate the logistic function for each element in the test set.\n",
    "    for i in 1:n\n",
    "        v[i] = logistic(intercept .+ student * x[i,1] + balance * x[i,2] + income * x[i,3])\n",
    "    end\n",
    "    return v\n",
    "end"
   ]
  },
  {
   "cell_type": "markdown",
   "metadata": {},
   "source": [
    "Let's see how we did! We run the test matrix through the prediction function, and compute the [mean squared error](https://en.wikipedia.org/wiki/Mean_squared_error) (MSE) for our prediction."
   ]
  },
  {
   "cell_type": "code",
   "execution_count": null,
   "metadata": {},
   "outputs": [],
   "source": [
    "# Make the predictions.\n",
    "predictions = prediction(test, chain)\n",
    "\n",
    "# Calculate MSE for our test set.\n",
    "loss = sum((predictions - test_label).^2) / length(test_label)"
   ]
  },
  {
   "cell_type": "markdown",
   "metadata": {},
   "source": [
    "Perhaps more important is to see what percentage of defaults we correctly predicted. The code below simply counts defaults and predictions and presents the results. The `threshold` variable sets the sensitivity of the predictions. For example, a threshold of 0.10 will predict a defualt value of 1 for any predicted value greater than 1.0 and no default if it is less than 0.10."
   ]
  },
  {
   "cell_type": "code",
   "execution_count": null,
   "metadata": {},
   "outputs": [],
   "source": [
    "defaults = 0\n",
    "not_defaults = 0\n",
    "\n",
    "predicted_defaults = 0\n",
    "predicted_not_defaults = 0\n",
    "\n",
    "threshold = 0.10\n",
    "\n",
    "for i in 1:length(predictions)\n",
    "    if test_label[i] == 1.0\n",
    "        defaults += 1\n",
    "        \n",
    "        if predictions[i] >= threshold\n",
    "            predicted_defaults +=  1\n",
    "        end\n",
    "    else \n",
    "        not_defaults += 1\n",
    "        if predictions[i] <= threshold\n",
    "            predicted_not_defaults +=  1\n",
    "        end\n",
    "    end\n",
    "end\n",
    "\n",
    "println(\"Defaults: $defaults\n",
    "    Correct predictions: $num_predictions\n",
    "    Percentage defaults correct $(predicted_defaults/defaults)\")\n",
    "\n",
    "println(\"Not defaults: $not_defaults\n",
    "    Correct predictions: $predicted_not_defaults\n",
    "    Percentage defaults correct $(predicted_not_defaults/not_defaults)\")"
   ]
  },
  {
   "cell_type": "markdown",
   "metadata": {},
   "source": [
    "The above shows that with a threshold of 0.10, we correctly predict a respectable portion of the defaults, and correctly identify most non-defaults. This is fairly sensitive to a choice of threshold, and you may wish to experiment with it.\n",
    "\n",
    "This tutorial has demonstrated how to use Turing to perform Bayesian logistic regression. "
   ]
  },
  {
   "cell_type": "code",
   "execution_count": null,
   "metadata": {},
   "outputs": [],
   "source": []
  }
 ],
 "metadata": {
  "kernelspec": {
   "display_name": "Julia 1.0.0",
   "language": "julia",
   "name": "julia-1.0"
  },
  "language_info": {
   "file_extension": ".jl",
   "mimetype": "application/julia",
   "name": "julia",
   "version": "1.0.0"
  }
 },
 "nbformat": 4,
 "nbformat_minor": 2
}
