{
 "cells": [
  {
   "cell_type": "markdown",
   "metadata": {},
   "source": [
    "# Bayesian Hidden Markov Models"
   ]
  },
  {
   "cell_type": "markdown",
   "metadata": {},
   "source": [
    "This tutorial illustrates training Bayesian Hidden Markov Models (HMM) using *Turing*. The main goals are learning the transition matrix, emission parameter, and hidden states.\n",
    "\n",
    "Let's load the libraries we'll need. We also set a random seed (for reproducibility) and the automatic differentiation backend to forward mode (more [here](https://github.com/TuringLang/Turing.jl/issues/511) on why this is useful). "
   ]
  },
  {
   "cell_type": "code",
   "execution_count": 1,
   "metadata": {},
   "outputs": [],
   "source": [
    "# Load libraries.\n",
    "using Turing, Plots, Random\n",
    "\n",
    "# Set a random seed and use the forward_diff AD mode.\n",
    "Random.seed!(1234);\n",
    "Turing.setadbackend(:forward_diff);"
   ]
  },
  {
   "cell_type": "markdown",
   "metadata": {},
   "source": [
    "## Simple State Detection\n",
    "\n",
    "In this example, we'll use something where the states and emission parameters are very obvious. "
   ]
  },
  {
   "cell_type": "code",
   "execution_count": null,
   "metadata": {},
   "outputs": [],
   "source": [
    "# Define the emission parameter.\n",
    "y = [ 1.0, 1.0, 1.0, 1.0, 2.0, 2.0, 2.0, 3.0, 3.0, 3.0, 2.0, 2.0, 2.0, 1.0, 1.0 ];\n",
    "N = length(y);  K = 3;\n",
    "\n",
    "# Plot the data we just made.\n",
    "plot(y, xlim = (0,15), ylim = (-1,5), size = (500, 250))"
   ]
  },
  {
   "cell_type": "markdown",
   "metadata": {},
   "source": [
    "We can see that we have three states, one for each height of the plot (1, 2, 3). This height is also our emission parameter, so state one produces a value of one, state two produces a value of two, and so on.\n",
    "\n",
    "Ultimately, we would like to understand three major parameters:\n",
    "\n",
    "1. The transition matrix. This is a matrix that assigns a probability of switching from one state to any other state, including the state that we are already in.\n",
    "2. The emission matrix, which describes a typical value emitted by some state. In the plot above, the emission parameter for state one is simply one.\n",
    "3. The state sequence is our understanding of what state we were actually in when we observed some data. This is very important in more sophisticated HMM models.\n",
    "\n",
    "With this in mind, let's set up our model."
   ]
  },
  {
   "cell_type": "code",
   "execution_count": null,
   "metadata": {},
   "outputs": [],
   "source": [
    "# Turing model definition.\n",
    "@model BayesHmm(y) = begin\n",
    "    # State sequence.\n",
    "    s = tzeros(Int, N)\n",
    "    \n",
    "    # Emission matrix.\n",
    "    m = Vector{Real}(undef, K)\n",
    "    \n",
    "    # Transition matrix.\n",
    "    T = Vector{Vector{Real}}(undef, K)\n",
    "    \n",
    "    # Assign distributions to each element \n",
    "    # of the transition matrix and the\n",
    "    # emission matrix.\n",
    "    for i = 1:K\n",
    "        T[i] ~ Dirichlet(ones(K)/K)\n",
    "        m[i] ~ Normal(i, 0.5)\n",
    "    end\n",
    "    \n",
    "    # Observe each point of the input.\n",
    "    s[1] ~ Categorical(K)\n",
    "    for i = 2:N\n",
    "        s[i] ~ Categorical(vec(T[s[i-1]]))\n",
    "        y[i] ~ Normal(m[s[i]], 0.1)\n",
    "    end\n",
    "    return(s, m)\n",
    "end;"
   ]
  },
  {
   "cell_type": "markdown",
   "metadata": {},
   "source": [
    "We will use a combination of two samplers ([HMC](http://turing.ml/docs/library/#Turing.HMC) and [Particle Gibbs](http://turing.ml/docs/library/#Turing.PG)) by passing them to the [Gibbs](http://turing.ml/docs/library/#Turing.Gibbs) sampler. The Gibbs sampler allows for compositional inference, where we can pass samplers across different parameters. In this case, we use HMC for `m` and `T`, representing the emission and transition matrices respectively. We use the Particle Gibbs sampler for `s`, the state sequence."
   ]
  },
  {
   "cell_type": "code",
   "execution_count": null,
   "metadata": {},
   "outputs": [],
   "source": [
    "g = Gibbs(1000, HMC(2, 0.001, 7, :m, :T), PG(20, 1, :s))\n",
    "c = sample(BayesHmm(y), g);"
   ]
  },
  {
   "cell_type": "markdown",
   "metadata": {},
   "source": [
    "Let's see how well our chain performed. Ordinarily, using the `describe` function from [MCMCChain](https://github.com/TuringLang/MCMCChain.jl) would be a good first step, but we have generated a lot of parameters here. It's a bit easier to show how our model performed graphically.\n",
    "\n",
    "The code below generates an animation showing the graph of the data above, and the data our model generates in each sample."
   ]
  },
  {
   "cell_type": "code",
   "execution_count": null,
   "metadata": {},
   "outputs": [],
   "source": [
    "# Import StatsPlots for animating purposes.\n",
    "using StatPlots\n",
    "\n",
    "# Extract our m and s parameters from the chain.\n",
    "m_set = c[:m]\n",
    "s_set = c[:s]\n",
    "\n",
    "# Iterate through the MCMC samples.\n",
    "Ns = 1:300\n",
    "\n",
    "# Make an animation.\n",
    "animation = @animate for (i, N) in enumerate(Ns)\n",
    "    m = m_set[N]; s = s_set[N];\n",
    "    p = plot(y, c = :red,\n",
    "        size = (500, 250), \n",
    "        xlabel = \"Time\", \n",
    "        ylabel = \"State\", \n",
    "        legend = legend = :topright, label = \"True data\",\n",
    "        xlim = (0,15),\n",
    "        ylim = (-1,5)); \n",
    "    plot!(p, m[s], c = :blue, label = \"Sample $N\")\n",
    "end every 5;"
   ]
  },
  {
   "cell_type": "markdown",
   "metadata": {},
   "source": [
    "![animation](https://user-images.githubusercontent.com/422990/48961918-affd9b00-ef2d-11e8-9b7f-3bb39abd8662.gif)"
   ]
  },
  {
   "cell_type": "markdown",
   "metadata": {},
   "source": [
    "Looks like our model did a pretty good job!"
   ]
  },
  {
   "cell_type": "markdown",
   "metadata": {},
   "source": [
    "## Detecting A Fair Coin\n",
    "\n",
    "Now it's all well and good to plot a line on a nice, clean dataset. But what if we are trying to detect when someone is cheating us in a coin flipping game? \n",
    "\n",
    "Let's say we have a friend named Jane. Every once in a while we play a game with Jane where she flips a coin. Jane wins a dollar from us if it's heads, we win a dollar from Jane if it's tails. The problem is that Jane is sometimes a cheater — 10% of the time, she'll bring out a coin that comes up heads 90% of the time, and she decides to switch back to the fair coin 80% of the time so we don't become suspicious. Hidden Markov models are ideal for learning this kind of transition matrix, so let's get to it.\n",
    "\n",
    "We set up some variables first, namely the transition matrix described in the preceding paragraph, and Bernoulli distributions for each of the coin flip types, fair and unfair."
   ]
  },
  {
   "cell_type": "code",
   "execution_count": 5,
   "metadata": {},
   "outputs": [],
   "source": [
    "# Define our fair/unfair coinflip probabilities.\n",
    "p_heads_fair = 0.5\n",
    "p_heads_unfair = 0.9\n",
    "\n",
    "# Setup Bernoulli distributions for our coinflips.\n",
    "# Note that we use 1 - p, because we\n",
    "fair = Bernoulli(1 -p_heads_fair);\n",
    "unfair = Bernoulli(1 - p_heads_unfair);\n",
    "\n",
    "# Define our transition matrix.\n",
    "transition_target = [0.9 0.1;\n",
    "                     0.8 0.2];"
   ]
  },
  {
   "cell_type": "markdown",
   "metadata": {},
   "source": [
    "The code below generates Jane's sometimes-unfair coinflips. "
   ]
  },
  {
   "cell_type": "code",
   "execution_count": 94,
   "metadata": {},
   "outputs": [],
   "source": [
    "function make_flips(num_flips)\n",
    "    # Create variables to stash our coin flips and states.\n",
    "    flips = []\n",
    "    states = []\n",
    "\n",
    "    # Jane always starts with a fair coin. How nice.\n",
    "    fair_coin = true\n",
    "    \n",
    "    # Generate our coin flips.\n",
    "    for i in 1:num_flips\n",
    "        # This variable stores the probability of staying with\n",
    "        # the current coin, fair or unfair.\n",
    "        success_val = 0\n",
    "\n",
    "        # Flip the relevant coin and get the success_val.\n",
    "        if fair_coin == true\n",
    "            push!(flips, rand(fair))\n",
    "            success_val = transition_target[1,1]\n",
    "        else\n",
    "            push!(flips, rand(unfair))\n",
    "            success_val = transition_target[2,2]\n",
    "        end\n",
    "\n",
    "        # Add the state we just used to the states variable.\n",
    "        push!(states, fair_coin)\n",
    "\n",
    "        # Calculate whether to stay in our current state.\n",
    "        new_state = rand(Bernoulli(success_val))\n",
    "\n",
    "        # If we got a zero in new_state, switch coins.\n",
    "        if new_state == 0\n",
    "            fair_coin = ~fair_coin\n",
    "        end\n",
    "    end\n",
    "    \n",
    "    return (states, flips)\n",
    "end\n",
    "\n",
    "# Number of coinflips we observe.\n",
    "num_flips = 100\n",
    "\n",
    "states, flips = make_flips(num_flips);"
   ]
  },
  {
   "cell_type": "markdown",
   "metadata": {},
   "source": [
    "Time to declare our Turing model. \n",
    "\n",
    "You will note that this model is very similar to the one we used in the previous example, but now the emission parameter `m` has two separate `Beta` priors, one showing our belief that there is a fair coin and an unfair coin. This will allow us to model the probability of getting a heads in each state, and establishing them as distinct priors helps to avoid the label-switching problem. \n",
    "\n",
    "Additionally, when we observe each data point `y[i]`, we are using the `Bernoulli` distribution, which models this coin-flipping game closer than does the `Normal` dsitribution we used previously."
   ]
  },
  {
   "cell_type": "code",
   "execution_count": 95,
   "metadata": {},
   "outputs": [],
   "source": [
    "# Turing model definition.\n",
    "@model BayesHmmCoins(y) = begin\n",
    "    num_obs = length(y)\n",
    "    \n",
    "    # State sequence.\n",
    "    s = tzeros(Int, num_obs)\n",
    "    \n",
    "    # Emission matrix.\n",
    "    m = Vector{Real}(undef, 2)\n",
    "    \n",
    "    # We define the emission parameters using\n",
    "    # semi-informative priors here separately\n",
    "    # to avoid a label-switching problem.\n",
    "    m[1] ~ Beta(10000,10000)\n",
    "    m[2] ~ Uniform(0,1)\n",
    "\n",
    "    # Transition matrix.\n",
    "    T = Vector{Vector{Real}}(undef, 2)\n",
    "    \n",
    "    # Assign semi-informative priors for the transition matrix.\n",
    "    T[1] ~ Dirichlet([0.5, 0.5])\n",
    "    T[2] ~ Dirichlet([0.2,0.8])\n",
    "    \n",
    "    # Observe each point of the input.\n",
    "    s[1] ~ Categorical(2)\n",
    "    for i = 2:num_obs        \n",
    "        s[i] ~ Categorical(T[s[i-1]])\n",
    "        y[i] ~ Bernoulli(m[s[i]])\n",
    "    end\n",
    "    \n",
    "    return(s, m)\n",
    "end;"
   ]
  },
  {
   "cell_type": "markdown",
   "metadata": {},
   "source": [
    "We reuse the Gibbs sampler as declared above, but with some parameters changed around very slightly. We also use a longer chain due to the complexity of the game we are modelling."
   ]
  },
  {
   "cell_type": "code",
   "execution_count": 105,
   "metadata": {},
   "outputs": [
    {
     "name": "stderr",
     "output_type": "stream",
     "text": [
      "┌ Info:  Assume - `m` is a parameter\n",
      "└ @ Turing /home/cameron/.julia/packages/Turing/YnwiD/src/core/compiler.jl:165\n",
      "┌ Info:  Assume - `T` is a parameter\n",
      "└ @ Turing /home/cameron/.julia/packages/Turing/YnwiD/src/core/compiler.jl:165\n",
      "┌ Info:  Assume - `s` is a parameter\n",
      "└ @ Turing /home/cameron/.julia/packages/Turing/YnwiD/src/core/compiler.jl:165\n",
      "┌ Info:  Observe - `y` is an observation\n",
      "└ @ Turing /home/cameron/.julia/packages/Turing/YnwiD/src/core/compiler.jl:153\n",
      "\u001b[32m[Gibbs] Sampling...100% Time: 0:02:23\u001b[39m\n",
      "┌ Info: [Gibbs] Finished with\n",
      "└ @ Turing /home/cameron/.julia/packages/Turing/YnwiD/src/samplers/gibbs.jl:163\n",
      "┌ Info:   Running time    = 142.32563766699997;\n",
      "└ @ Turing /home/cameron/.julia/packages/Turing/YnwiD/src/samplers/gibbs.jl:164\n"
     ]
    }
   ],
   "source": [
    "g = Gibbs(500, HMC(1, 0.01, 7, :m, :T), PG(25, 1, :s))\n",
    "c2 = sample(BayesHmmCoins(flips), g);"
   ]
  },
  {
   "cell_type": "markdown",
   "metadata": {},
   "source": [
    "### Results\n",
    "\n",
    "With our chain sampled, it's time to see how we did. We can evaluate our model's performance by looking at the parameters we care about. What do each of the parameters in our HMM model (the transition matrix, emission matrix, or state sequence) tell us?\n",
    "\n",
    "Jane has already cheated us in the past, so the state sequence matrix won't be very helpful on it's own in future games. The emission matrix tells us how probable a heads is in each state. The transition matrix can use it to determine the probabilities that Jane will cheat us in the future, assuming we know the current state.\n",
    "\n",
    "So let's check each parameter, starting with the transition matrix. Remember, Jane uses a transition matrix resembling the following:\n",
    "\n",
    "$$\n",
    "T = \\begin{bmatrix}\n",
    "    0.90 & 0.10 \\\\\\ 0.80 & 0.20\n",
    "\\end{bmatrix}\n",
    "$$\n",
    "\n",
    "We can check this by just taking the average across the chain."
   ]
  },
  {
   "cell_type": "code",
   "execution_count": 106,
   "metadata": {},
   "outputs": [
    {
     "data": {
      "text/plain": [
       "2-element Array{Array{Float64,1},1}:\n",
       " [0.895287, 0.104713]\n",
       " [0.595267, 0.404733]"
      ]
     },
     "execution_count": 106,
     "metadata": {},
     "output_type": "execute_result"
    }
   ],
   "source": [
    "mean(c2[:T])"
   ]
  },
  {
   "cell_type": "markdown",
   "metadata": {},
   "source": [
    "That looks fairly close. We might also plot the difference between the chain's transition matrix and the true transition matrix as a function of time."
   ]
  },
  {
   "cell_type": "code",
   "execution_count": 107,
   "metadata": {},
   "outputs": [
    {
     "data": {
      "image/svg+xml": [
       "<?xml version=\"1.0\" encoding=\"utf-8\"?>\n",
       "<svg xmlns=\"http://www.w3.org/2000/svg\" xmlns:xlink=\"http://www.w3.org/1999/xlink\" width=\"600\" height=\"400\" viewBox=\"0 0 2400 1600\">\n",
       "<defs>\n",
       "  <clipPath id=\"clip9200\">\n",
       "    <rect x=\"0\" y=\"0\" width=\"2000\" height=\"2000\"/>\n",
       "  </clipPath>\n",
       "</defs>\n",
       "<defs>\n",
       "  <clipPath id=\"clip9201\">\n",
       "    <rect x=\"0\" y=\"0\" width=\"2400\" height=\"1600\"/>\n",
       "  </clipPath>\n",
       "</defs>\n",
       "<polygon clip-path=\"url(#clip9201)\" points=\"\n",
       "0,1600 2400,1600 2400,0 0,0 \n",
       "  \" fill=\"#ffffff\" fill-rule=\"evenodd\" fill-opacity=\"1\"/>\n",
       "<defs>\n",
       "  <clipPath id=\"clip9202\">\n",
       "    <rect x=\"480\" y=\"0\" width=\"1681\" height=\"1600\"/>\n",
       "  </clipPath>\n",
       "</defs>\n",
       "<polygon clip-path=\"url(#clip9201)\" points=\"\n",
       "189.504,1503.47 2321.26,1503.47 2321.26,47.2441 189.504,47.2441 \n",
       "  \" fill=\"#ffffff\" fill-rule=\"evenodd\" fill-opacity=\"1\"/>\n",
       "<defs>\n",
       "  <clipPath id=\"clip9203\">\n",
       "    <rect x=\"189\" y=\"47\" width=\"2133\" height=\"1457\"/>\n",
       "  </clipPath>\n",
       "</defs>\n",
       "<polyline clip-path=\"url(#clip9203)\" style=\"stroke:#000000; stroke-width:2; stroke-opacity:0.1; fill:none\" points=\"\n",
       "  245.807,1503.47 245.807,47.2441 \n",
       "  \"/>\n",
       "<polyline clip-path=\"url(#clip9203)\" style=\"stroke:#000000; stroke-width:2; stroke-opacity:0.1; fill:none\" points=\"\n",
       "  648.831,1503.47 648.831,47.2441 \n",
       "  \"/>\n",
       "<polyline clip-path=\"url(#clip9203)\" style=\"stroke:#000000; stroke-width:2; stroke-opacity:0.1; fill:none\" points=\"\n",
       "  1051.85,1503.47 1051.85,47.2441 \n",
       "  \"/>\n",
       "<polyline clip-path=\"url(#clip9203)\" style=\"stroke:#000000; stroke-width:2; stroke-opacity:0.1; fill:none\" points=\"\n",
       "  1454.88,1503.47 1454.88,47.2441 \n",
       "  \"/>\n",
       "<polyline clip-path=\"url(#clip9203)\" style=\"stroke:#000000; stroke-width:2; stroke-opacity:0.1; fill:none\" points=\"\n",
       "  1857.9,1503.47 1857.9,47.2441 \n",
       "  \"/>\n",
       "<polyline clip-path=\"url(#clip9203)\" style=\"stroke:#000000; stroke-width:2; stroke-opacity:0.1; fill:none\" points=\"\n",
       "  2260.93,1503.47 2260.93,47.2441 \n",
       "  \"/>\n",
       "<polyline clip-path=\"url(#clip9203)\" style=\"stroke:#000000; stroke-width:2; stroke-opacity:0.1; fill:none\" points=\"\n",
       "  189.504,1288.22 2321.26,1288.22 \n",
       "  \"/>\n",
       "<polyline clip-path=\"url(#clip9203)\" style=\"stroke:#000000; stroke-width:2; stroke-opacity:0.1; fill:none\" points=\"\n",
       "  189.504,1038.69 2321.26,1038.69 \n",
       "  \"/>\n",
       "<polyline clip-path=\"url(#clip9203)\" style=\"stroke:#000000; stroke-width:2; stroke-opacity:0.1; fill:none\" points=\"\n",
       "  189.504,789.155 2321.26,789.155 \n",
       "  \"/>\n",
       "<polyline clip-path=\"url(#clip9203)\" style=\"stroke:#000000; stroke-width:2; stroke-opacity:0.1; fill:none\" points=\"\n",
       "  189.504,539.621 2321.26,539.621 \n",
       "  \"/>\n",
       "<polyline clip-path=\"url(#clip9203)\" style=\"stroke:#000000; stroke-width:2; stroke-opacity:0.1; fill:none\" points=\"\n",
       "  189.504,290.086 2321.26,290.086 \n",
       "  \"/>\n",
       "<polyline clip-path=\"url(#clip9201)\" style=\"stroke:#000000; stroke-width:4; stroke-opacity:1; fill:none\" points=\"\n",
       "  189.504,1503.47 2321.26,1503.47 \n",
       "  \"/>\n",
       "<polyline clip-path=\"url(#clip9201)\" style=\"stroke:#000000; stroke-width:4; stroke-opacity:1; fill:none\" points=\"\n",
       "  189.504,1503.47 189.504,47.2441 \n",
       "  \"/>\n",
       "<polyline clip-path=\"url(#clip9201)\" style=\"stroke:#000000; stroke-width:4; stroke-opacity:1; fill:none\" points=\"\n",
       "  245.807,1503.47 245.807,1481.63 \n",
       "  \"/>\n",
       "<polyline clip-path=\"url(#clip9201)\" style=\"stroke:#000000; stroke-width:4; stroke-opacity:1; fill:none\" points=\"\n",
       "  648.831,1503.47 648.831,1481.63 \n",
       "  \"/>\n",
       "<polyline clip-path=\"url(#clip9201)\" style=\"stroke:#000000; stroke-width:4; stroke-opacity:1; fill:none\" points=\"\n",
       "  1051.85,1503.47 1051.85,1481.63 \n",
       "  \"/>\n",
       "<polyline clip-path=\"url(#clip9201)\" style=\"stroke:#000000; stroke-width:4; stroke-opacity:1; fill:none\" points=\"\n",
       "  1454.88,1503.47 1454.88,1481.63 \n",
       "  \"/>\n",
       "<polyline clip-path=\"url(#clip9201)\" style=\"stroke:#000000; stroke-width:4; stroke-opacity:1; fill:none\" points=\"\n",
       "  1857.9,1503.47 1857.9,1481.63 \n",
       "  \"/>\n",
       "<polyline clip-path=\"url(#clip9201)\" style=\"stroke:#000000; stroke-width:4; stroke-opacity:1; fill:none\" points=\"\n",
       "  2260.93,1503.47 2260.93,1481.63 \n",
       "  \"/>\n",
       "<polyline clip-path=\"url(#clip9201)\" style=\"stroke:#000000; stroke-width:4; stroke-opacity:1; fill:none\" points=\"\n",
       "  189.504,1288.22 221.48,1288.22 \n",
       "  \"/>\n",
       "<polyline clip-path=\"url(#clip9201)\" style=\"stroke:#000000; stroke-width:4; stroke-opacity:1; fill:none\" points=\"\n",
       "  189.504,1038.69 221.48,1038.69 \n",
       "  \"/>\n",
       "<polyline clip-path=\"url(#clip9201)\" style=\"stroke:#000000; stroke-width:4; stroke-opacity:1; fill:none\" points=\"\n",
       "  189.504,789.155 221.48,789.155 \n",
       "  \"/>\n",
       "<polyline clip-path=\"url(#clip9201)\" style=\"stroke:#000000; stroke-width:4; stroke-opacity:1; fill:none\" points=\"\n",
       "  189.504,539.621 221.48,539.621 \n",
       "  \"/>\n",
       "<polyline clip-path=\"url(#clip9201)\" style=\"stroke:#000000; stroke-width:4; stroke-opacity:1; fill:none\" points=\"\n",
       "  189.504,290.086 221.48,290.086 \n",
       "  \"/>\n",
       "<g clip-path=\"url(#clip9201)\">\n",
       "<text style=\"fill:#000000; fill-opacity:1; font-family:Arial,Helvetica Neue,Helvetica,sans-serif; font-size:48px; text-anchor:middle;\" transform=\"rotate(0, 245.807, 1557.47)\" x=\"245.807\" y=\"1557.47\">0</text>\n",
       "</g>\n",
       "<g clip-path=\"url(#clip9201)\">\n",
       "<text style=\"fill:#000000; fill-opacity:1; font-family:Arial,Helvetica Neue,Helvetica,sans-serif; font-size:48px; text-anchor:middle;\" transform=\"rotate(0, 648.831, 1557.47)\" x=\"648.831\" y=\"1557.47\">100</text>\n",
       "</g>\n",
       "<g clip-path=\"url(#clip9201)\">\n",
       "<text style=\"fill:#000000; fill-opacity:1; font-family:Arial,Helvetica Neue,Helvetica,sans-serif; font-size:48px; text-anchor:middle;\" transform=\"rotate(0, 1051.85, 1557.47)\" x=\"1051.85\" y=\"1557.47\">200</text>\n",
       "</g>\n",
       "<g clip-path=\"url(#clip9201)\">\n",
       "<text style=\"fill:#000000; fill-opacity:1; font-family:Arial,Helvetica Neue,Helvetica,sans-serif; font-size:48px; text-anchor:middle;\" transform=\"rotate(0, 1454.88, 1557.47)\" x=\"1454.88\" y=\"1557.47\">300</text>\n",
       "</g>\n",
       "<g clip-path=\"url(#clip9201)\">\n",
       "<text style=\"fill:#000000; fill-opacity:1; font-family:Arial,Helvetica Neue,Helvetica,sans-serif; font-size:48px; text-anchor:middle;\" transform=\"rotate(0, 1857.9, 1557.47)\" x=\"1857.9\" y=\"1557.47\">400</text>\n",
       "</g>\n",
       "<g clip-path=\"url(#clip9201)\">\n",
       "<text style=\"fill:#000000; fill-opacity:1; font-family:Arial,Helvetica Neue,Helvetica,sans-serif; font-size:48px; text-anchor:middle;\" transform=\"rotate(0, 2260.93, 1557.47)\" x=\"2260.93\" y=\"1557.47\">500</text>\n",
       "</g>\n",
       "<g clip-path=\"url(#clip9201)\">\n",
       "<text style=\"fill:#000000; fill-opacity:1; font-family:Arial,Helvetica Neue,Helvetica,sans-serif; font-size:48px; text-anchor:end;\" transform=\"rotate(0, 165.504, 1305.72)\" x=\"165.504\" y=\"1305.72\">-0.1</text>\n",
       "</g>\n",
       "<g clip-path=\"url(#clip9201)\">\n",
       "<text style=\"fill:#000000; fill-opacity:1; font-family:Arial,Helvetica Neue,Helvetica,sans-serif; font-size:48px; text-anchor:end;\" transform=\"rotate(0, 165.504, 1056.19)\" x=\"165.504\" y=\"1056.19\">0.0</text>\n",
       "</g>\n",
       "<g clip-path=\"url(#clip9201)\">\n",
       "<text style=\"fill:#000000; fill-opacity:1; font-family:Arial,Helvetica Neue,Helvetica,sans-serif; font-size:48px; text-anchor:end;\" transform=\"rotate(0, 165.504, 806.655)\" x=\"165.504\" y=\"806.655\">0.1</text>\n",
       "</g>\n",
       "<g clip-path=\"url(#clip9201)\">\n",
       "<text style=\"fill:#000000; fill-opacity:1; font-family:Arial,Helvetica Neue,Helvetica,sans-serif; font-size:48px; text-anchor:end;\" transform=\"rotate(0, 165.504, 557.121)\" x=\"165.504\" y=\"557.121\">0.2</text>\n",
       "</g>\n",
       "<g clip-path=\"url(#clip9201)\">\n",
       "<text style=\"fill:#000000; fill-opacity:1; font-family:Arial,Helvetica Neue,Helvetica,sans-serif; font-size:48px; text-anchor:end;\" transform=\"rotate(0, 165.504, 307.586)\" x=\"165.504\" y=\"307.586\">0.3</text>\n",
       "</g>\n",
       "<polyline clip-path=\"url(#clip9203)\" style=\"stroke:#0000ff; stroke-width:4; stroke-opacity:1; fill:none\" points=\"\n",
       "  249.837,972.638 253.867,968.709 257.897,960.759 261.928,972.897 265.958,975.877 269.988,981.29 274.018,981.29 278.049,981.804 282.079,998.111 286.109,1003.01 \n",
       "  290.139,1002 294.169,991.446 298.2,1008.25 302.23,1008.25 306.26,1016.81 310.29,1027.97 314.321,1017.44 318.351,1014.78 322.381,1020.41 326.411,997.346 \n",
       "  330.442,987.307 334.472,1008.85 338.502,1008.85 342.532,992.681 346.563,1020.47 350.593,1037.98 354.623,1032.8 358.653,1024.75 362.684,1044.52 366.714,1058.96 \n",
       "  370.744,1046.53 374.774,1036.25 378.805,1035.01 382.835,1035.01 386.865,1040.12 390.895,1027.13 394.926,1047.03 398.956,1031.19 402.986,1032.82 407.016,1053.98 \n",
       "  411.046,1057.17 415.077,1046.8 419.107,1031.69 423.137,1032.02 427.167,1027.54 431.198,1016.87 435.228,987.674 439.258,962.467 443.288,952.104 447.319,954.184 \n",
       "  451.349,957.977 455.379,957.977 459.409,945.355 463.44,957.89 467.47,977.566 471.5,975.126 475.53,962.177 479.561,976.645 483.591,947.176 487.621,942.7 \n",
       "  491.651,941.184 495.682,952.391 499.712,952.649 503.742,940.686 507.772,965.104 511.803,967.121 515.833,952.181 519.863,963.123 523.893,971.889 527.923,958.26 \n",
       "  531.954,957.706 535.984,965.595 540.014,963.81 544.044,983.243 548.075,988.554 552.105,993.463 556.135,998.759 560.165,994.524 564.196,976.201 568.226,968.377 \n",
       "  572.256,958.771 576.286,961.038 580.317,957.2 584.347,975.868 588.377,962.319 592.407,965.423 596.438,945.66 600.468,934.02 604.498,923.665 608.528,937.037 \n",
       "  612.559,929.716 616.589,929.088 620.619,947.856 624.649,948.009 628.679,930.376 632.71,934.489 636.74,948.845 640.77,934.661 644.8,933.918 648.831,929.681 \n",
       "  652.861,939.373 656.891,935.994 660.921,943.545 664.952,949.751 668.982,946.817 673.012,954.992 677.042,977.892 681.073,977.892 685.103,955.994 689.133,978.132 \n",
       "  693.163,967.217 697.194,1001.54 701.224,996.133 705.254,1013.63 709.284,1030.04 713.315,1016.19 717.345,1020.89 721.375,1015.77 725.405,1024.48 729.436,1025.95 \n",
       "  733.466,1028.8 737.496,1041.37 741.526,1045.19 745.556,1034.8 749.587,1038.27 753.617,1016.52 757.647,1008.83 761.677,982.437 765.708,963.117 769.738,968.318 \n",
       "  773.768,976.417 777.798,983.404 781.829,983.404 785.859,963.034 789.889,963.034 793.919,946.888 797.95,946.888 801.98,938.932 806.01,932.205 810.04,929.539 \n",
       "  814.071,944.592 818.101,953.394 822.131,967.627 826.161,986.2 830.192,1003.07 834.222,995.486 838.252,1000.71 842.282,994.154 846.313,995.018 850.343,988.533 \n",
       "  854.373,988.533 858.403,972.572 862.433,968.491 866.464,978.722 870.494,1001.58 874.524,1021.83 878.554,1015.03 882.585,1015.03 886.615,1016.68 890.645,1019.15 \n",
       "  894.675,1018.34 898.706,1001.57 902.736,1010.3 906.766,1017.92 910.796,1007.46 914.827,1010.49 918.857,997.629 922.887,1019.06 926.917,1027.21 930.948,1004.93 \n",
       "  934.978,1022.38 939.008,1039.34 943.038,1051.88 947.069,1067.81 951.099,1065.75 955.129,1078.2 959.159,1069.29 963.19,1042.27 967.22,1026.36 971.25,1049.24 \n",
       "  975.28,1057.87 979.31,1077.42 983.341,1098.23 987.371,1081.45 991.401,1048.75 995.431,1041.17 999.462,1065.64 1003.49,1039.29 1007.52,1032.85 1011.55,1046.43 \n",
       "  1015.58,1043.35 1019.61,1031.74 1023.64,1014.18 1027.67,1010.84 1031.7,1016.22 1035.73,989.262 1039.76,989.262 1043.79,998.574 1047.82,995.282 1051.85,996.467 \n",
       "  1055.89,1011.44 1059.92,1035.66 1063.95,1035.64 1067.98,1021.22 1072.01,1006.55 1076.04,1015.49 1080.07,1015.49 1084.1,1003.19 1088.13,1015.15 1092.16,1004.87 \n",
       "  1096.19,1002.8 1100.22,997.953 1104.25,1001.31 1108.28,999.551 1112.31,1018.09 1116.34,1007.89 1120.37,990.58 1124.4,1023.38 1128.43,1009.87 1132.46,1014.55 \n",
       "  1136.49,1013.15 1140.52,1018.7 1144.55,1038.96 1148.58,1035.24 1152.61,1016.85 1156.64,1002.96 1160.67,1001.76 1164.7,1015.12 1168.73,1001.9 1172.76,989.343 \n",
       "  1176.79,993.823 1180.82,988.153 1184.85,981.171 1188.88,957.222 1192.91,963.96 1196.94,983.214 1200.97,964.621 1205,955.659 1209.03,952.759 1213.06,968.474 \n",
       "  1217.09,952.877 1221.12,943.764 1225.16,934.581 1229.19,939.767 1233.22,932.844 1237.25,924.683 1241.28,931.449 1245.31,910.999 1249.34,904.262 1253.37,903.87 \n",
       "  1257.4,902.746 1261.43,906.17 1265.46,919.042 1269.49,912.817 1273.52,922.452 1277.55,922.452 1281.58,930.59 1285.61,924.288 1289.64,924.288 1293.67,919.392 \n",
       "  1297.7,928.794 1301.73,924.432 1305.76,933.309 1309.79,942.342 1313.82,926.632 1317.85,945.437 1321.88,948.646 1325.91,968.881 1329.94,962.248 1333.97,971.379 \n",
       "  1338,968.586 1342.03,955.914 1346.06,948.897 1350.09,946.071 1354.12,941.585 1358.15,928.278 1362.18,932.809 1366.21,934.84 1370.24,944.099 1374.27,952.613 \n",
       "  1378.3,958.902 1382.33,955.85 1386.36,962.515 1390.4,959.316 1394.43,961.986 1398.46,939.93 1402.49,939.096 1406.52,947.744 1410.55,947.346 1414.58,956.132 \n",
       "  1418.61,955.856 1422.64,959.095 1426.67,965.235 1430.7,960.38 1434.73,960.38 1438.76,965.293 1442.79,983.018 1446.82,991.951 1450.85,990.324 1454.88,979.646 \n",
       "  1458.91,998.799 1462.94,991.188 1466.97,1009.04 1471,1011.74 1475.03,1025.03 1479.06,1031.28 1483.09,1026.15 1487.12,1031.37 1491.15,1036.46 1495.18,1034.41 \n",
       "  1499.21,1033.41 1503.24,1005.99 1507.27,1021.3 1511.3,1021.3 1515.33,1050.39 1519.36,1050.39 1523.39,1038.08 1527.42,1039.48 1531.45,1046.27 1535.48,1043.61 \n",
       "  1539.51,1031.23 1543.54,1038.89 1547.57,1036.08 1551.6,1024.7 1555.63,1008.6 1559.67,1018.12 1563.7,1005.31 1567.73,1006.65 1571.76,1014.73 1575.79,1014.73 \n",
       "  1579.82,1000.13 1583.85,1020.9 1587.88,1030.4 1591.91,1034.1 1595.94,1020.01 1599.97,1003.02 1604,1017.06 1608.03,1028.09 1612.06,1040.98 1616.09,1021.2 \n",
       "  1620.12,1021.2 1624.15,1040.88 1628.18,1046.38 1632.21,1037.61 1636.24,1037.61 1640.27,1038.1 1644.3,1054.69 1648.33,1065.48 1652.36,1040.17 1656.39,1061.79 \n",
       "  1660.42,1072.79 1664.45,1090.97 1668.48,1086.84 1672.51,1070.45 1676.54,1049.13 1680.57,1049.13 1684.6,1074.43 1688.63,1075.41 1692.66,1058.58 1696.69,1095.59 \n",
       "  1700.72,1095.59 1704.75,1095.59 1708.78,1054.56 1712.81,1058.92 1716.84,1059.73 1720.87,1041.64 1724.91,1030.46 1728.94,1058.65 1732.97,1057.85 1737,1048.35 \n",
       "  1741.03,1029.3 1745.06,1021.02 1749.09,1021.09 1753.12,1026.77 1757.15,1030.37 1761.18,1043.08 1765.21,1043.08 1769.24,1009.02 1773.27,1010.68 1777.3,1028.97 \n",
       "  1781.33,1034.99 1785.36,1011.62 1789.39,1033.76 1793.42,1041.43 1797.45,1028.57 1801.48,1022.19 1805.51,1020.43 1809.54,1015.73 1813.57,1039.4 1817.6,1026.31 \n",
       "  1821.63,1041.61 1825.66,1033.05 1829.69,1035.33 1833.72,1026.19 1837.75,1061.1 1841.78,1057.83 1845.81,1074.11 1849.84,1064.65 1853.87,1048.92 1857.9,1063.69 \n",
       "  1861.93,1082.27 1865.96,1098.77 1869.99,1110.93 1874.02,1103.21 1878.05,1116.24 1882.08,1139.32 1886.11,1131.45 1890.14,1107.26 1894.18,1104.78 1898.21,1135.61 \n",
       "  1902.24,1146.52 1906.27,1160.14 1910.3,1167.89 1914.33,1203.51 1918.36,1207.49 1922.39,1231.82 1926.42,1210.84 1930.45,1190.77 1934.48,1190.05 1938.51,1226.44 \n",
       "  1942.54,1248.46 1946.57,1293.27 1950.6,1254.47 1954.63,1235.26 1958.66,1218.82 1962.69,1201.56 1966.72,1201.37 1970.75,1211.82 1974.78,1262.75 1978.81,1284.14 \n",
       "  1982.84,1244.76 1986.87,1273.31 1990.9,1273.31 1994.93,1273.31 1998.96,1262.05 2002.99,1272.19 2007.02,1235.12 2011.05,1256.22 2015.08,1256.52 2019.11,1243.11 \n",
       "  2023.14,1243.11 2027.17,1240.48 2031.2,1227.49 2035.23,1218.96 2039.26,1268.89 2043.29,1211.86 2047.32,1239.13 2051.35,1240.44 2055.38,1243 2059.42,1231.42 \n",
       "  2063.45,1231.42 2067.48,1234.3 2071.51,1219.67 2075.54,1197.29 2079.57,1204.51 2083.6,1246.45 2087.63,1259.49 2091.66,1264.62 2095.69,1269.74 2099.72,1223.08 \n",
       "  2103.75,1244.16 2107.78,1226.98 2111.81,1208.84 2115.84,1179.57 2119.87,1196.69 2123.9,1228.13 2127.93,1222.65 2131.96,1219.71 2135.99,1232.6 2140.02,1241.72 \n",
       "  2144.05,1240.26 2148.08,1267.12 2152.11,1292 2156.14,1280.02 2160.17,1282.35 2164.2,1297.1 2168.23,1286.74 2172.26,1346.24 2176.29,1390.58 2180.32,1371.69 \n",
       "  2184.35,1349.74 2188.38,1414.67 2192.41,1414.67 2196.44,1403.99 2200.47,1398.12 2204.5,1403.57 2208.53,1399.14 2212.56,1349.22 2216.59,1349.22 2220.62,1353.96 \n",
       "  2224.65,1377.18 2228.69,1353.87 2232.72,1352.43 2236.75,1379.94 2240.78,1408.12 2244.81,1365.8 2248.84,1403.63 2252.87,1450.53 2256.9,1462.26 2260.93,1434.39 \n",
       "  \n",
       "  \"/>\n",
       "<polyline clip-path=\"url(#clip9203)\" style=\"stroke:#ff0000; stroke-width:4; stroke-opacity:1; fill:none\" points=\"\n",
       "  249.837,714.038 253.867,747.983 257.897,689.209 261.928,660.376 265.958,661.57 269.988,650.856 274.018,650.856 278.049,715.295 282.079,785.585 286.109,746.685 \n",
       "  290.139,679.915 294.169,699.154 298.2,716.209 302.23,716.209 306.26,722.199 310.29,641.339 314.321,648.183 318.351,640.765 322.381,686.57 326.411,600.803 \n",
       "  330.442,611.884 334.472,536.753 338.502,536.753 342.532,492.667 346.563,526.168 350.593,530.724 354.623,523.063 358.653,552.54 362.684,542.916 366.714,489.32 \n",
       "  370.744,400.669 374.774,447.87 378.805,518.285 382.835,518.285 386.865,503.319 390.895,519.503 394.926,492.047 398.956,480.181 402.986,517.386 407.016,554.563 \n",
       "  411.046,537.045 415.077,530.358 419.107,588.059 423.137,631.204 427.167,657.76 431.198,651.062 435.228,670.571 439.258,597.621 443.288,610.47 447.319,651.71 \n",
       "  451.349,597.879 455.379,597.879 459.409,597.532 463.44,599.717 467.47,605.779 471.5,617.492 475.53,584.979 479.561,531.853 483.591,482.007 487.621,423.567 \n",
       "  491.651,358.341 495.682,354.249 499.712,341.786 503.742,354.974 507.772,396.479 511.803,455.547 515.833,495.575 519.863,484.251 523.893,514.473 527.923,480.224 \n",
       "  531.954,483.699 535.984,456.951 540.014,371.237 544.044,352.215 548.075,341.62 552.105,347.664 556.135,319.364 560.165,350.133 564.196,398.882 568.226,415.752 \n",
       "  572.256,402.04 576.286,441.302 580.317,498.043 584.347,503.193 588.377,576.651 592.407,573.128 596.438,555.531 600.468,522.987 604.498,529.865 608.528,590.836 \n",
       "  612.559,636.079 616.589,622.788 620.619,645.668 624.649,582.081 628.679,551.365 632.71,550.093 636.74,485.661 640.77,517.523 644.8,460.089 648.831,481.477 \n",
       "  652.861,440.806 656.891,434.987 660.921,356.025 664.952,317.639 668.982,325.314 673.012,322.818 677.042,334.452 681.073,334.452 685.103,273.612 689.133,299.561 \n",
       "  693.163,290.843 697.194,292.019 701.224,296.183 705.254,347.677 709.284,391.502 713.315,375.304 717.345,401.736 721.375,457.285 725.405,450.362 729.436,430.634 \n",
       "  733.466,341.079 737.496,318.206 741.526,305.203 745.556,320.867 749.587,364.518 753.617,354.355 757.647,330.604 761.677,287.236 765.708,323.222 769.738,307.87 \n",
       "  773.768,330.396 777.798,318.133 781.829,318.133 785.859,336.226 789.889,336.226 793.919,316.304 797.95,316.304 801.98,316.645 806.01,240.611 810.04,231.721 \n",
       "  814.071,266.923 818.101,255.197 822.131,298.328 826.161,271.809 830.192,238.53 834.222,297.307 838.252,305.052 842.282,325.412 846.313,283.563 850.343,305.445 \n",
       "  854.373,305.445 858.403,283.231 862.433,211.027 866.464,162.389 870.494,177.732 874.524,198.214 878.554,153.198 882.585,153.198 886.615,98.9388 890.645,88.4582 \n",
       "  894.675,97.1551 898.706,139.069 902.736,128.864 906.766,194.774 910.796,225.692 914.827,306.434 918.857,288.161 922.887,284.786 926.917,273.44 930.948,272.19 \n",
       "  934.978,318.699 939.008,338.95 943.038,409.6 947.069,387.851 951.099,369.191 955.129,339.814 959.159,403.984 963.19,393.955 967.22,422.44 971.25,354.646 \n",
       "  975.28,443.707 979.31,463.113 983.341,421.787 987.371,433.174 991.401,377.758 995.431,342.197 999.462,368.235 1003.49,385.594 1007.52,377.882 1011.55,362.427 \n",
       "  1015.58,441.579 1019.61,445.584 1023.64,413.6 1027.67,428.073 1031.7,506.111 1035.73,518.089 1039.76,518.089 1043.79,420.077 1047.82,407.328 1051.85,372.626 \n",
       "  1055.89,281.644 1059.92,290.963 1063.95,305.061 1067.98,305.248 1072.01,312.803 1076.04,290.833 1080.07,290.833 1084.1,250.571 1088.13,235.063 1092.16,233.825 \n",
       "  1096.19,216.947 1100.22,228.268 1104.25,275.008 1108.28,287.812 1112.31,326.522 1116.34,396.429 1120.37,356.022 1124.4,359.847 1128.43,368.984 1132.46,326.614 \n",
       "  1136.49,321.773 1140.52,306.533 1144.55,334.222 1148.58,286.982 1152.61,367.997 1156.64,308.188 1160.67,323.852 1164.7,347.565 1168.73,354.742 1172.76,424.049 \n",
       "  1176.79,461.843 1180.82,404.407 1184.85,397.96 1188.88,351.179 1192.91,403.759 1196.94,405.261 1200.97,384.173 1205,389.262 1209.03,415.183 1213.06,383.441 \n",
       "  1217.09,345.891 1221.12,337.71 1225.16,323.17 1229.19,355.478 1233.22,354.456 1237.25,361.042 1241.28,391.639 1245.31,377 1249.34,337.012 1253.37,266.838 \n",
       "  1257.4,291.682 1261.43,278.594 1265.46,247.946 1269.49,326.595 1273.52,371.362 1277.55,371.362 1281.58,327.648 1285.61,321.151 1289.64,321.151 1293.67,352.353 \n",
       "  1297.7,379.422 1301.73,403.962 1305.76,386.988 1309.79,428.384 1313.82,384.202 1317.85,301.698 1321.88,285.259 1325.91,228.289 1329.94,311.593 1333.97,339.268 \n",
       "  1338,407.517 1342.03,447.459 1346.06,516.312 1350.09,525.99 1354.12,543.638 1358.15,531.115 1362.18,545.011 1366.21,566.518 1370.24,545.337 1374.27,549.677 \n",
       "  1378.3,506.588 1382.33,473.437 1386.36,478.855 1390.4,479.182 1394.43,503.197 1398.46,526.078 1402.49,541.939 1406.52,558.776 1410.55,549.396 1414.58,498.519 \n",
       "  1418.61,517.42 1422.64,490.96 1426.67,454.569 1430.7,528.171 1434.73,528.171 1438.76,510.82 1442.79,504.453 1446.82,441.535 1450.85,434.94 1454.88,423.192 \n",
       "  1458.91,448.392 1462.94,505.412 1466.97,422.19 1471,431.462 1475.03,412.082 1479.06,426.37 1483.09,368.121 1487.12,444.245 1491.15,423.059 1495.18,399.9 \n",
       "  1499.21,419.684 1503.24,462.648 1507.27,467.283 1511.3,467.283 1515.33,472.181 1519.36,472.181 1523.39,460.234 1527.42,566.279 1531.45,515.31 1535.48,552.61 \n",
       "  1539.51,575.847 1543.54,517.948 1547.57,606.845 1551.6,592.75 1555.63,598.251 1559.67,581.052 1563.7,665.969 1567.73,634.297 1571.76,590.759 1575.79,590.759 \n",
       "  1579.82,552.386 1583.85,589.406 1587.88,618.901 1591.91,567.104 1595.94,514.996 1599.97,519.334 1604,565.999 1608.03,554.205 1612.06,512.103 1616.09,438.466 \n",
       "  1620.12,438.466 1624.15,430.762 1628.18,448.662 1632.21,428.962 1636.24,428.962 1640.27,464.867 1644.3,379.817 1648.33,416.899 1652.36,395.909 1656.39,345.018 \n",
       "  1660.42,392.226 1664.45,327.672 1668.48,379.167 1672.51,319.929 1676.54,308.768 1680.57,308.768 1684.6,296.91 1688.63,287.656 1692.66,279.032 1696.69,355.616 \n",
       "  1700.72,355.616 1704.75,355.616 1708.78,449.823 1712.81,486.233 1716.84,474.376 1720.87,499.199 1724.91,527.596 1728.94,529.852 1732.97,586.055 1737,610.957 \n",
       "  1741.03,663.019 1745.06,639.076 1749.09,705.169 1753.12,721.913 1757.15,695.141 1761.18,638.332 1765.21,638.332 1769.24,607.015 1773.27,575.292 1777.3,489.41 \n",
       "  1781.33,499.235 1785.36,487.081 1789.39,450.407 1793.42,400.735 1797.45,471.787 1801.48,526.6 1805.51,541.99 1809.54,553.464 1813.57,561.736 1817.6,532.493 \n",
       "  1821.63,508.207 1825.66,500.801 1829.69,497.238 1833.72,520.454 1837.75,534.426 1841.78,565.38 1845.81,582.097 1849.84,575.195 1853.87,612.914 1857.9,662.727 \n",
       "  1861.93,738.1 1865.96,649.281 1869.99,626.156 1874.02,605.934 1878.05,642.66 1882.08,601.582 1886.11,579.55 1890.14,533.23 1894.18,626.594 1898.21,608.26 \n",
       "  1902.24,648.47 1906.27,699.479 1910.3,711.428 1914.33,758.707 1918.36,800.364 1922.39,807.059 1926.42,849.329 1930.45,901.83 1934.48,856.21 1938.51,871.449 \n",
       "  1942.54,883.545 1946.57,817.679 1950.6,852.071 1954.63,871.457 1958.66,816.138 1962.69,851.349 1966.72,821.175 1970.75,795.995 1974.78,811.849 1978.81,839.63 \n",
       "  1982.84,811.186 1986.87,856.474 1990.9,856.474 1994.93,856.474 1998.96,899.263 2002.99,932.182 2007.02,911.088 2011.05,893.506 2015.08,897.836 2019.11,864.959 \n",
       "  2023.14,864.959 2027.17,824.637 2031.2,845.923 2035.23,794.959 2039.26,765.545 2043.29,825.266 2047.32,838.64 2051.35,804.312 2055.38,815.834 2059.42,797.718 \n",
       "  2063.45,797.718 2067.48,825.397 2071.51,853.561 2075.54,919.228 2079.57,953.917 2083.6,978.408 2087.63,933.478 2091.66,928.905 2095.69,941.596 2099.72,942.701 \n",
       "  2103.75,882.639 2107.78,865.524 2111.81,888.781 2115.84,923.132 2119.87,946.06 2123.9,943.144 2127.93,935.532 2131.96,897.003 2135.99,887.165 2140.02,915.771 \n",
       "  2144.05,909.6 2148.08,929.542 2152.11,973.635 2156.14,976.611 2160.17,1016.9 2164.2,1001.33 2168.23,999.283 2172.26,975.922 2176.29,950.283 2180.32,975.431 \n",
       "  2184.35,953.078 2188.38,1008.14 2192.41,1008.14 2196.44,1048.45 2200.47,1053.83 2204.5,1071.36 2208.53,1066.33 2212.56,1079.02 2216.59,1079.02 2220.62,1115.61 \n",
       "  2224.65,1096.1 2228.69,1084.8 2232.72,1079.74 2236.75,1078.81 2240.78,1059.92 2244.81,1053 2248.84,1049.82 2252.87,1039.45 2256.9,1024.45 2260.93,1016.71 \n",
       "  \n",
       "  \"/>\n",
       "<polygon clip-path=\"url(#clip9201)\" points=\"\n",
       "1958.43,312.204 2249.26,312.204 2249.26,130.764 1958.43,130.764 \n",
       "  \" fill=\"#ffffff\" fill-rule=\"evenodd\" fill-opacity=\"1\"/>\n",
       "<polyline clip-path=\"url(#clip9201)\" style=\"stroke:#000000; stroke-width:4; stroke-opacity:1; fill:none\" points=\"\n",
       "  1958.43,312.204 2249.26,312.204 2249.26,130.764 1958.43,130.764 1958.43,312.204 \n",
       "  \"/>\n",
       "<polyline clip-path=\"url(#clip9201)\" style=\"stroke:#0000ff; stroke-width:4; stroke-opacity:1; fill:none\" points=\"\n",
       "  1982.43,191.244 2126.43,191.244 \n",
       "  \"/>\n",
       "<g clip-path=\"url(#clip9201)\">\n",
       "<text style=\"fill:#000000; fill-opacity:1; font-family:Arial,Helvetica Neue,Helvetica,sans-serif; font-size:48px; text-anchor:start;\" transform=\"rotate(0, 2150.43, 208.744)\" x=\"2150.43\" y=\"208.744\">y1</text>\n",
       "</g>\n",
       "<polyline clip-path=\"url(#clip9201)\" style=\"stroke:#ff0000; stroke-width:4; stroke-opacity:1; fill:none\" points=\"\n",
       "  1982.43,251.724 2126.43,251.724 \n",
       "  \"/>\n",
       "<g clip-path=\"url(#clip9201)\">\n",
       "<text style=\"fill:#000000; fill-opacity:1; font-family:Arial,Helvetica Neue,Helvetica,sans-serif; font-size:48px; text-anchor:start;\" transform=\"rotate(0, 2150.43, 269.224)\" x=\"2150.43\" y=\"269.224\">y2</text>\n",
       "</g>\n",
       "</svg>\n"
      ]
     },
     "execution_count": 107,
     "metadata": {},
     "output_type": "execute_result"
    }
   ],
   "source": [
    "# Use StatPlots for plotting.\n",
    "using StatPlots\n",
    "\n",
    "# Extract the transition matrices from the chain.\n",
    "t_set = c2[:T]\n",
    "\n",
    "# Get the differences between each sample\n",
    "# and the true matrix.\n",
    "ys1 = []\n",
    "ys2 = []\n",
    "\n",
    "for i in 1:length(t_set)\n",
    "    t = t_set[i]\n",
    "    point1 = t[1][1] - transition_target[1,1]\n",
    "    point2 = t[2][2] - transition_target[2,2]\n",
    "    push!(ys1, point1)\n",
    "    push!(ys2, point2)\n",
    "end\n",
    "\n",
    "# Plot the differences.\n",
    "x_range = collect(1:length(t_set))\n",
    "plot(x_range, ys1, color=:blue)\n",
    "plot!(x_range, ys2, color=:red)"
   ]
  },
  {
   "cell_type": "markdown",
   "metadata": {},
   "source": [
    "Not too shabby, though it looks like we might be systematically underestimating both of the relevant probabilities. How about our emission matrix? Jane has two coins. The first is a fair coin with a 50% chance of turning up heads, and the second is an unfair coin that has a 90% chance of showing heads. Again, let's look at the chain's average."
   ]
  },
  {
   "cell_type": "code",
   "execution_count": 69,
   "metadata": {},
   "outputs": [
    {
     "data": {
      "text/plain": [
       "2-element Array{Float64,1}:\n",
       " 0.5466784568597945 \n",
       " 0.32707110481531415"
      ]
     },
     "execution_count": 69,
     "metadata": {},
     "output_type": "execute_result"
    }
   ],
   "source": [
    "mean(c2[:m])"
   ]
  },
  {
   "cell_type": "markdown",
   "metadata": {},
   "source": [
    "It looks like we're fairly close to understanding the ways that Jane is cheating us, all thanks to a hidden Markov model implemented in Turing. Perhaps the better lesson here is that Jane is not someone we should be spending time with."
   ]
  }
 ],
 "metadata": {
  "anaconda-cloud": {},
  "kernel_info": {
   "name": "julia-0.5"
  },
  "kernelspec": {
   "display_name": "Julia 1.0.0",
   "language": "julia",
   "name": "julia-1.0"
  },
  "language_info": {
   "file_extension": ".jl",
   "mimetype": "application/julia",
   "name": "julia",
   "version": "1.0.0"
  }
 },
 "nbformat": 4,
 "nbformat_minor": 2
}
