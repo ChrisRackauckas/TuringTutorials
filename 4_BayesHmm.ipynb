{
 "cells": [
  {
   "cell_type": "markdown",
   "metadata": {},
   "source": [
    "# Bayesian Hidden Markov Models"
   ]
  },
  {
   "cell_type": "markdown",
   "metadata": {},
   "source": [
    "This tutorial illustrates training Bayesian Hidden Markov Models (HMM) using *Turing*. The main goals are learning the transition matrix, emission parameter, and hidden states.\n",
    "\n",
    "Let's load the libraries we'll need. We also set a random seed (for reproducibility) and the automatic differentiation backend to forward mode (more [here](https://github.com/TuringLang/Turing.jl/issues/511) on why this is useful). "
   ]
  },
  {
   "cell_type": "code",
   "execution_count": null,
   "metadata": {},
   "outputs": [],
   "source": [
    "# Load libraries.\n",
    "using Turing, Plots, Random\n",
    "\n",
    "# Set a random seed and use the forward_diff AD mode.\n",
    "Random.seed!(1234);\n",
    "Turing.setadbackend(:forward_diff);"
   ]
  },
  {
   "cell_type": "markdown",
   "metadata": {},
   "source": [
    "## Simple State Detection\n",
    "\n",
    "In this example, we'll use something where the states and emission parameters are very obvious. "
   ]
  },
  {
   "cell_type": "code",
   "execution_count": null,
   "metadata": {},
   "outputs": [],
   "source": [
    "# Define the emission parameter.\n",
    "y = [ 1.0, 1.0, 1.0, 1.0, 2.0, 2.0, 2.0, 3.0, 3.0, 3.0, 2.0, 2.0, 2.0, 1.0, 1.0 ];\n",
    "N = length(y);  K = 3;\n",
    "\n",
    "# Plot the data we just made.\n",
    "plot(y, xlim = (0,15), ylim = (-1,5), size = (500, 250))"
   ]
  },
  {
   "cell_type": "markdown",
   "metadata": {},
   "source": [
    "We can see that we have three states, one for each height of the plot (1, 2, 3). This height is also our emission parameter, so state one produces a value of one, state two produces a value of two, and so on.\n",
    "\n",
    "Ultimately, we would like to understand three major parameters:\n",
    "\n",
    "1. The transition matrix. This is a matrix that assigns a probability of switching from one state to any other state, including the state that we are already in.\n",
    "2. The emission matrix, which describes a typical value emitted by some state. In the plot above, the emission parameter for state one is simply one.\n",
    "3. The state sequence is our understanding of what state we were actually in when we observed some data. This is very important in more sophisticated HMM models.\n",
    "\n",
    "With this in mind, let's set up our model."
   ]
  },
  {
   "cell_type": "code",
   "execution_count": null,
   "metadata": {},
   "outputs": [],
   "source": [
    "# Turing model definition.\n",
    "@model BayesHmm(y) = begin\n",
    "    # State sequence.\n",
    "    s = tzeros(Int, N)\n",
    "    \n",
    "    # Emission matrix.\n",
    "    m = Vector{Real}(undef, K)\n",
    "    \n",
    "    # Transition matrix.\n",
    "    T = Vector{Vector{Real}}(undef, K)\n",
    "    \n",
    "    # Assign distributions to each element \n",
    "    # of the transition matrix and the\n",
    "    # emission matrix.\n",
    "    for i = 1:K\n",
    "        T[i] ~ Dirichlet(ones(K)/K)\n",
    "        m[i] ~ Normal(i, 0.5)\n",
    "    end\n",
    "    \n",
    "    # Observe each point of the input.\n",
    "    s[1] ~ Categorical(K)\n",
    "    for i = 2:N\n",
    "        s[i] ~ Categorical(vec(T[s[i-1]]))\n",
    "        y[i] ~ Normal(m[s[i]], 0.1)\n",
    "    end\n",
    "    return(s, m)\n",
    "end;"
   ]
  },
  {
   "cell_type": "markdown",
   "metadata": {},
   "source": [
    "We will use a combination of two samplers ([HMC](http://turing.ml/docs/library/#Turing.HMC) and [Particle Gibbs](http://turing.ml/docs/library/#Turing.PG)) by passing them to the [Gibbs](http://turing.ml/docs/library/#Turing.Gibbs) sampler. The Gibbs sampler allows for compositional inference, where we can pass samplers across different parameters. In this case, we use HMC for `m` and `T`, representing the emission and transition matrices respectively. We use the Particle Gibbs sampler for `s`, the state sequence."
   ]
  },
  {
   "cell_type": "code",
   "execution_count": null,
   "metadata": {},
   "outputs": [],
   "source": [
    "g = Gibbs(1000, HMC(2, 0.001, 7, :m, :T), PG(20, 1, :s))\n",
    "c = sample(BayesHmm(y), g);"
   ]
  },
  {
   "cell_type": "markdown",
   "metadata": {},
   "source": [
    "Let's see how well our chain performed. Ordinarily, using the `describe` function from [MCMCChain](https://github.com/TuringLang/MCMCChain.jl) would be a good first step, but we have generated a lot of parameters here. It's a bit easier to show how our model performed graphically.\n",
    "\n",
    "The code below generates an animation showing the graph of the data above, and the data our model generates in each sample."
   ]
  },
  {
   "cell_type": "code",
   "execution_count": null,
   "metadata": {},
   "outputs": [],
   "source": [
    "# Import StatsPlots for animating purposes.\n",
    "using StatPlots\n",
    "\n",
    "# Extract our m and s parameters from the chain.\n",
    "m_set = c[:m]\n",
    "s_set = c[:s]\n",
    "\n",
    "# Iterate through the MCMC samples.\n",
    "Ns = 1:300\n",
    "\n",
    "# Make an animation.\n",
    "animation = @animate for (i, N) in enumerate(Ns)\n",
    "    m = m_set[N]; s = s_set[N];\n",
    "    p = plot(y, c = :red,\n",
    "        size = (500, 250), \n",
    "        xlabel = \"Time\", \n",
    "        ylabel = \"State\", \n",
    "        legend = legend = :topright, label = \"True data\",\n",
    "        xlim = (0,15),\n",
    "        ylim = (-1,5)); \n",
    "    plot!(p, m[s], c = :blue, label = \"Sample $N\")\n",
    "end every 5;"
   ]
  },
  {
   "cell_type": "markdown",
   "metadata": {},
   "source": [
    "![animation](https://user-images.githubusercontent.com/422990/48961918-affd9b00-ef2d-11e8-9b7f-3bb39abd8662.gif)"
   ]
  },
  {
   "cell_type": "markdown",
   "metadata": {},
   "source": [
    "Looks like our model did a pretty good job!"
   ]
  },
  {
   "cell_type": "markdown",
   "metadata": {},
   "source": [
    "## Detecting A Fair Coin\n",
    "\n",
    "Now it's all well and good to plot a line on a nice, clean dataset. But what if we are trying to detect when someone is cheating us in a coin flipping game? \n",
    "\n",
    "Let's say we have a friend named Jane. Every once in a while we play a game with Jane where she flips a coin. Jane wins a dollar from us if it's heads, we win a dollar from Jane if it's tails. The problem is that Jane is sometimes a cheater — 20% of the time, she'll bring out a coin that comes up heads 90% of the time, and she decides to switch back to the fair coin 80% of the time so we don't become suspicious. Hidden Markov models are ideal for learning this kind of transition matrix, so let's get to it.\n",
    "\n",
    "We set up some variables first, namely the transition matrix described in the preceding paragraph, and Bernoulli distributions for each of the coin flip types, fair and unfair."
   ]
  },
  {
   "cell_type": "code",
   "execution_count": null,
   "metadata": {},
   "outputs": [],
   "source": [
    "# Define our fair/unfair coinflip probabilities.\n",
    "p_heads_fair = 0.5\n",
    "p_heads_unfair = 0.9\n",
    "\n",
    "# Setup Bernoulli distributions for our coinflips.\n",
    "# Note that we use 1 - p, because we\n",
    "fair = Bernoulli(1 -p_heads_fair);\n",
    "unfair = Bernoulli(1 - p_heads_unfair);\n",
    "\n",
    "# Define our transition matrix.\n",
    "transition_target = [0.9 0.1;\n",
    "                     0.8 0.2];"
   ]
  },
  {
   "cell_type": "markdown",
   "metadata": {},
   "source": [
    "The code below generates Jane's sometimes-unfair coinflips. "
   ]
  },
  {
   "cell_type": "code",
   "execution_count": null,
   "metadata": {},
   "outputs": [],
   "source": [
    "function make_flips(num_flips)\n",
    "    # Create variables to stash our coin flips and states.\n",
    "    flips = []\n",
    "    states = []\n",
    "\n",
    "    # Jane always starts with a fair coin. How nice.\n",
    "    fair_coin = true\n",
    "    \n",
    "    # Generate our coin flips.\n",
    "    for i in 1:num_flips\n",
    "        # This variable stores the probability of staying with\n",
    "        # the current coin, fair or unfair.\n",
    "        success_val = 0\n",
    "\n",
    "        # Flip the relevant coin and get the success_val.\n",
    "        if fair_coin == true\n",
    "            push!(flips, rand(fair))\n",
    "            success_val = transition_target[1,1]\n",
    "        else\n",
    "            push!(flips, rand(unfair))\n",
    "            success_val = transition_target[2,2]\n",
    "        end\n",
    "\n",
    "        # Add the state we just used to the states variable.\n",
    "        push!(states, fair_coin)\n",
    "\n",
    "        # Calculate whether to stay in our current state.\n",
    "        new_state = rand(Bernoulli(success_val))\n",
    "\n",
    "        # If we got a zero in new_state, switch coins.\n",
    "        if new_state == 0\n",
    "            fair_coin = ~fair_coin\n",
    "        end\n",
    "    end\n",
    "    \n",
    "    return (states, flips)\n",
    "end\n",
    "\n",
    "# Number of coinflips we observe.\n",
    "num_flips = 30\n",
    "\n",
    "states, flips = make_flips(num_flips);"
   ]
  },
  {
   "cell_type": "markdown",
   "metadata": {},
   "source": [
    "Time to declare our Turing model. \n",
    "\n",
    "You will note that this model is very similar to the one we used in the previous example, but now the emission parameter `m` has two separate `Beta` priors, one showing our belief that there is a fair coin and an unfair coin. This will allow us to model the probability of getting a heads in each state, and establishing them as distinct priors helps to avoid the label-switching problem. \n",
    "\n",
    "Additionally, when we observe each data point `y[i]`, we are using the `Bernoulli` distribution, which models this coin-flipping game closer than does the `Normal` dsitribution we used previously."
   ]
  },
  {
   "cell_type": "code",
   "execution_count": null,
   "metadata": {},
   "outputs": [],
   "source": [
    "# Turing model definition.\n",
    "@model BayesHmmCoins(y, K) = begin\n",
    "    num_obs = length(y)\n",
    "    \n",
    "    # State sequence.\n",
    "    s = tzeros(Int, num_obs)\n",
    "    \n",
    "    # Emission matrix.\n",
    "    m = Vector{Real}(undef, K)\n",
    "    \n",
    "    # We define the emission parameters using\n",
    "    # semi-informative priors here separately\n",
    "    # to avoid a label-switching problem.\n",
    "    m[1] ~ Beta(50,50)\n",
    "    m[2] ~ Beta(50,5)\n",
    "    \n",
    "    # Transition matrix.\n",
    "    T = Vector{Vector{Real}}(undef, K)\n",
    "    \n",
    "    # Assign distributions to each element \n",
    "    # of the transition matrix.\n",
    "    for i = 1:K\n",
    "        T[i] ~ Dirichlet(ones(K)/K)\n",
    "    end\n",
    "    \n",
    "    # Observe each point of the input.\n",
    "    s[1] ~ Categorical(K)\n",
    "    for i = 2:num_obs\n",
    "        s[i] ~ Categorical(vec(T[s[i-1]]))\n",
    "        y[i] ~ Bernoulli(m[s[i]])\n",
    "    end\n",
    "    \n",
    "    return(s, m)\n",
    "end;"
   ]
  },
  {
   "cell_type": "markdown",
   "metadata": {},
   "source": [
    "We reuse the Gibbs sampler as declared above, but with some parameters changed around very slightly. We also use a longer chain due to the complexity of the game we are modelling."
   ]
  },
  {
   "cell_type": "code",
   "execution_count": null,
   "metadata": {},
   "outputs": [],
   "source": [
    "g = Gibbs(1000, HMC(10, 0.001, 10, :m, :T), PG(40, 1, :s))\n",
    "c2 = sample(BayesHmmCoins(flips, 2), g);"
   ]
  },
  {
   "cell_type": "markdown",
   "metadata": {},
   "source": [
    "### Results\n",
    "\n",
    "With our chain sampled, it's time to see how we did. We can evaluate our model's performance by looking at the parameters we care about. What do each of the parameters in our HMM model (the transition matrix, emission matrix, or state sequence) tell us?\n",
    "\n",
    "Jane has already cheated us in the past, so the state sequence matrix won't be very helpful on it's own in future games. The emission matrix tells us how probable a heads is in each state. The transition matrix can use it to determine the probabilities that Jane will cheat us in the future, assuming we know the current state.\n",
    "\n",
    "So let's check each parameter, starting with the transition matrix. Remember, Jane uses a transition matrix resembling the following:\n",
    "\n",
    "$$\n",
    "T = \\begin{bmatrix}\n",
    "    0.90 & 0.10 \\\\\\ 0.80 & 0.20\n",
    "\\end{bmatrix}\n",
    "$$\n",
    "\n",
    "We can check this by just taking the average across the chain."
   ]
  },
  {
   "cell_type": "code",
   "execution_count": null,
   "metadata": {},
   "outputs": [],
   "source": [
    "mean(c2[:T])"
   ]
  },
  {
   "cell_type": "markdown",
   "metadata": {},
   "source": [
    "Not too shabby. How about our emission matrix? Jane has two coins. The first is a fair coin with a 50% chance of turning up heads, and the second is an unfair coin that has a 90% chance of showing heads. Again, let's look at the chain's average."
   ]
  },
  {
   "cell_type": "code",
   "execution_count": null,
   "metadata": {},
   "outputs": [],
   "source": [
    "mean(c2[:m])"
   ]
  },
  {
   "cell_type": "markdown",
   "metadata": {},
   "source": [
    "It looks like we're fairly close to understanding the ways that Jane is cheating us, all thanks to a hidden Markov model implemented in Turing. Perhaps the better lesson here is that Jane is not someone we should be spending time with."
   ]
  }
 ],
 "metadata": {
  "anaconda-cloud": {},
  "kernel_info": {
   "name": "julia-0.5"
  },
  "kernelspec": {
   "display_name": "Julia 1.0.0",
   "language": "julia",
   "name": "julia-1.0"
  },
  "language_info": {
   "file_extension": ".jl",
   "mimetype": "application/julia",
   "name": "julia",
   "version": "1.0.0"
  }
 },
 "nbformat": 4,
 "nbformat_minor": 2
}
