{
 "cells": [
  {
   "cell_type": "markdown",
   "metadata": {},
   "source": [
    "# Unsupervised Learning using Bayesian Mixture Models"
   ]
  },
  {
   "cell_type": "markdown",
   "metadata": {},
   "source": [
    "The following tutorial illustrates the use *Turing* for clustering data using a Bayesian mixture model. The aim of this task is to infer a latent grouping (hidden structure) from unlabelled data.\n",
    "\n",
    "More specifically, we are interested in discovering the grouping illustrated in figure below. This example consists of 2-D data points, i.e. $\\boldsymbol{x} = \\{x_i\\}_{i=1}^N \\,, x_i \\in \\mathcal{R}^2$, which are distributed according to Gaussian distributions. For simplicity, we use isotropic Gaussian distributions but this assumption can easily be relaxed by introducing additional parameters. "
   ]
  },
  {
   "cell_type": "code",
   "execution_count": null,
   "metadata": {},
   "outputs": [],
   "source": [
    "using Distributions, StatPlots, Random\n",
    "\n",
    "# Set a random seed.\n",
    "Random.seed!(3)\n",
    "\n",
    "# Construct 100 data points for each cluster.\n",
    "N = 30\n",
    "\n",
    "# Parameters for each cluster, we assume that each cluster is Gaussian distributed in the example.\n",
    "μs = [-3.5, 0.0]\n",
    "\n",
    "# Construct the data points.\n",
    "x = mapreduce(c -> rand(MvNormal([μs[c], μs[c]], 1.), N), hcat, 1:2)\n",
    "\n",
    "# Visualization.\n",
    "scatter(x[1,:], x[2,:], legend = false, title = \"Synthetic Dataset\")"
   ]
  },
  {
   "cell_type": "markdown",
   "metadata": {},
   "source": [
    "## Gaussian Mixture Model in Turing"
   ]
  },
  {
   "cell_type": "markdown",
   "metadata": {},
   "source": [
    "To cluster the data points shown above, we use a model that consists of three mixture components (clusters) and assigns each datum to one of the components. The assignment thereof determines the distribution that the data point is generated from.\n",
    "\n",
    "In particular, in a Bayesian Gaussian mixture model with $1 \\leq k \\leq K$ components for 1-D data each data point $x_i$ with $1 \\leq i \\leq N$ is generated according to the following generative process.\n",
    "First we draw the parameters for each cluster, i.e. in our example we draw location of the distributions from a Normal:\n",
    "$$\n",
    "\\mu_k \\sim Normal() \\, , \\;  \\forall k \\\\\n",
    "$$\n",
    "and then draw mixing weight for the $K$ clusters from a Dirichlet distribution, i.e.\n",
    "$$\n",
    "    w \\sim Dirichlet(K, \\alpha) \\, . \\\\\n",
    "$$\n",
    "After having constructed all the necessary model parameters, we can generate an observation by first selecting one of the clusters and then drawing the datum accordingly, i.e.\n",
    "$$\n",
    "    z_i \\sim Categorical(w) \\, , \\;  \\forall i \\\\\n",
    "    x_i \\sim Normal(\\mu_{z_i}, 1.) \\, , \\;  \\forall i\n",
    "$$\n",
    "\n",
    "For more details on Gaussian mixture models, we refer to Christopher M. Bishop, *Pattern Recognition and Machine Learning*, Section 9."
   ]
  },
  {
   "cell_type": "code",
   "execution_count": null,
   "metadata": {},
   "outputs": [],
   "source": [
    "using Turing, MCMCChain"
   ]
  },
  {
   "cell_type": "code",
   "execution_count": null,
   "metadata": {},
   "outputs": [],
   "source": [
    "@model GaussianMixtureModel(x) = begin\n",
    "    \n",
    "    D, N = size(x)\n",
    "\n",
    "    # Draw the paramters for cluster 1.\n",
    "    μ1 ~ Normal()\n",
    "    \n",
    "    # Draw the paramters for cluster 2.\n",
    "    μ2 ~ Normal()\n",
    "    \n",
    "    μ = [μ1, μ2]\n",
    "    \n",
    "    # Uncomment the following lines to draw the weights for the K clusters \n",
    "    # from a Dirichlet distribution.\n",
    "    \n",
    "    # α = 1.0\n",
    "    # w ~ Dirichlet(2, α)\n",
    "    \n",
    "    # Comment out this line if you instead want to draw the weights.\n",
    "    w = [0.5, 0.5]\n",
    "    \n",
    "    # Draw assignments for each datum and generate it from a multivariate normal.\n",
    "    k = Vector{Int}(undef, N)\n",
    "    for i in 1:N\n",
    "        k[i] ~ Categorical(w)\n",
    "        x[:,i] ~ MvNormal([μ[k[i]], μ[k[i]]], 1.)\n",
    "    end\n",
    "    return k\n",
    "end"
   ]
  },
  {
   "cell_type": "markdown",
   "metadata": {},
   "source": [
    "After having specified the model in Turing, we can construct the model function and run a MCMC simulation to obtain assignments of the data points."
   ]
  },
  {
   "cell_type": "code",
   "execution_count": null,
   "metadata": {},
   "outputs": [],
   "source": [
    "# Set the automatic differentiation backend to forward differentiation.\n",
    "# Note, this is temporary while the reverse differentiation functionality\n",
    "# is being improved.\n",
    "Turing.setadbackend(:forward_diff)"
   ]
  },
  {
   "cell_type": "code",
   "execution_count": null,
   "metadata": {},
   "outputs": [],
   "source": [
    "gmm_model = GaussianMixtureModel(x);"
   ]
  },
  {
   "cell_type": "markdown",
   "metadata": {},
   "source": [
    "To draw observations from the posterior distribution, we use a [particle Gibbs](https://www.stats.ox.ac.uk/~doucet/andrieu_doucet_holenstein_PMCMC.pdf) sampler to draw the discrete assignment parameters as well as a Hamiltonion Monte Carlo sampler for continous parameters.\n",
    "Note that we use a `Gibbs` sampler to combine both samplers for Bayesian inference in our model."
   ]
  },
  {
   "cell_type": "code",
   "execution_count": null,
   "metadata": {},
   "outputs": [],
   "source": [
    "gmm_sampler = Gibbs(100, PG(100, 1, :k), HMC(1, 0.05, 10, :μ1, :μ2))\n",
    "tchain = sample(gmm_model, gmm_sampler);"
   ]
  },
  {
   "cell_type": "markdown",
   "metadata": {},
   "source": [
    "## Visualize the density region of the mixture model."
   ]
  },
  {
   "cell_type": "markdown",
   "metadata": {},
   "source": [
    "After sucessfully doing posterior inference, we can first visualize the trace and density of the parameters of interest.\n",
    "\n",
    "In particular, in this example we consider the sample values of the location parameter for the two clusters."
   ]
  },
  {
   "cell_type": "code",
   "execution_count": null,
   "metadata": {},
   "outputs": [],
   "source": [
    "ids = findall(map(name -> occursin(\"μ\", name), tchain.names));\n",
    "plot(Chains(tchain.value[:,ids,:], names = [\"mu 1\", \"mu 2\"]), colordim = :parameter, legend = true) "
   ]
  },
  {
   "cell_type": "markdown",
   "metadata": {},
   "source": [
    "As the samples for the location parameter for both clusters are unimodal, we can safely visualize the density region of our model using the average location."
   ]
  },
  {
   "cell_type": "code",
   "execution_count": null,
   "metadata": {},
   "outputs": [],
   "source": [
    "# Helper function used for visualizing the density region.\n",
    "function predict(x, y, w, μ)\n",
    "    # Use log-sum-exp trick for numeric stability.\n",
    "    return Turing.logsumexp(\n",
    "        log(w[1]) + logpdf(MvNormal([μ[1], μ[1]], 1.), [x, y]), \n",
    "        log(w[2]) + logpdf(MvNormal([μ[2], μ[2]], 1.), [x, y])\n",
    "    )\n",
    "end"
   ]
  },
  {
   "cell_type": "code",
   "execution_count": null,
   "metadata": {},
   "outputs": [],
   "source": [
    "contour(range(-5, stop = 3), range(-6, stop = 2), \n",
    "    (x, y) -> predict(x, y, [0.5, 0.5], [mean(tchain[:μ1]), mean(tchain[:μ2])])\n",
    ")\n",
    "scatter!(x[1,:], x[2,:], legend = false, title = \"Synthetic Dataset\")"
   ]
  },
  {
   "cell_type": "markdown",
   "metadata": {},
   "source": [
    "## Infered Assignments"
   ]
  },
  {
   "cell_type": "markdown",
   "metadata": {},
   "source": [
    "Finally, we can inspect the assignments of the data points infered using Turing. As we can see, the dataset is partitioned into two distinct groups."
   ]
  },
  {
   "cell_type": "code",
   "execution_count": null,
   "metadata": {},
   "outputs": [],
   "source": [
    "scatter(x[1,:], x[2,:], legend = false, title = \"Assignments on Synthetic Dataset\", zcolor = mean(tchain[:k]))"
   ]
  }
 ],
 "metadata": {
  "kernelspec": {
   "display_name": "Julia 1.0.0",
   "language": "julia",
   "name": "julia-1.0"
  },
  "language_info": {
   "file_extension": ".jl",
   "mimetype": "application/julia",
   "name": "julia",
   "version": "1.0.0"
  },
  "widgets": {
   "state": {},
   "version": "1.1.2"
  }
 },
 "nbformat": 4,
 "nbformat_minor": 2
}
