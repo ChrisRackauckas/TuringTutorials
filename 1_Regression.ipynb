{
 "cells": [
  {
   "cell_type": "code",
   "execution_count": null,
   "metadata": {},
   "outputs": [],
   "source": [
    "# Import RDatasets.\n",
    "using RDatasets\n",
    "using Distributions\n",
    "using Turing\n",
    "using MCMCChain\n",
    "using StatsFuns: logistic\n",
    "using MLDataUtils"
   ]
  },
  {
   "cell_type": "code",
   "execution_count": null,
   "metadata": {},
   "outputs": [],
   "source": [
    "# Import the \"Default\" dataset.\n",
    "data = RDatasets.dataset(\"ISLR\", \"Default\");"
   ]
  },
  {
   "cell_type": "code",
   "execution_count": null,
   "metadata": {},
   "outputs": [],
   "source": [
    "# Show the first six rows of the dataset.\n",
    "head(data)"
   ]
  },
  {
   "cell_type": "code",
   "execution_count": null,
   "metadata": {},
   "outputs": [],
   "source": [
    "# Create new rows, defualted to zero.\n",
    "data[:DefaultNum] = 0.0\n",
    "data[:StudentNum] = 0.0\n",
    "\n",
    "for i in 1:length(data.Default)\n",
    "    # If a row's \"Default\" or \"Student\" columns \n",
    "    # say \"Yes\", set them to 1 in our new columns.\n",
    "    data[:DefaultNum][i] = data.Default[i] == \"Yes\" ? 1.0 : 0.0\n",
    "    data[:StudentNum][i] = data.Student[i] == \"Yes\" ? 1.0 : 0.0\n",
    "end\n",
    "\n",
    "# Delete the old columns which say \"Yes\" and \"No\".\n",
    "delete!(data, :Default)\n",
    "delete!(data, :Student)"
   ]
  },
  {
   "cell_type": "code",
   "execution_count": null,
   "metadata": {},
   "outputs": [],
   "source": [
    "# Show the first six rows of our edited dataset.\n",
    "head(data)"
   ]
  },
  {
   "cell_type": "code",
   "execution_count": null,
   "metadata": {},
   "outputs": [],
   "source": [
    "# Split our dataset 70/30 into training/test sets.\n",
    "train, test = MLDataUtils.splitobs(data, at = 0.7);\n",
    "\n",
    "# Create our labels. These are the values we are trying to predict.\n",
    "train_label = train[:DefaultNum]\n",
    "test_label = test[:DefaultNum]\n",
    "\n",
    "# Remove the columns that are not our predictors.\n",
    "train = train[[:StudentNum, :Balance, :Income]]\n",
    "test = test[[:StudentNum, :Balance, :Income]]\n",
    "\n",
    "# Convert the DataFrame objects to matrices.\n",
    "train = Matrix(train);\n",
    "test = Matrix(test);"
   ]
  },
  {
   "cell_type": "code",
   "execution_count": null,
   "metadata": {},
   "outputs": [],
   "source": [
    "# Bayesian logistic regression (LR)\n",
    "@model lr_nuts(x, y, d, n, σ²) = begin\n",
    "    α ~ Normal(0, σ²)\n",
    "    β ~ MvNormal(zeros(d), σ² * ones(d))\n",
    "    for i = 1:n\n",
    "        v = logistic(α + transpose(x[i,:]) * β)\n",
    "        y[i] ~ Bernoulli(v)\n",
    "    end\n",
    "end"
   ]
  },
  {
   "cell_type": "code",
   "execution_count": null,
   "metadata": {},
   "outputs": [],
   "source": [
    "train = (train .- mean(train, dims=1)) ./ std(train, dims=1)\n",
    "\n",
    "n, d = size(train)\n",
    "chain = sample(lr_nuts(train, train_label, d, n, 100), NUTS(1000, 0.65))\n",
    "describe(chain)"
   ]
  },
  {
   "cell_type": "code",
   "execution_count": null,
   "metadata": {},
   "outputs": [],
   "source": []
  }
 ],
 "metadata": {
  "kernelspec": {
   "display_name": "Julia 1.0.0",
   "language": "julia",
   "name": "julia-1.0"
  },
  "language_info": {
   "file_extension": ".jl",
   "mimetype": "application/julia",
   "name": "julia",
   "version": "1.0.0"
  }
 },
 "nbformat": 4,
 "nbformat_minor": 2
}
