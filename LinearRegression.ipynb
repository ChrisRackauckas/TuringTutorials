{
 "cells": [
  {
   "cell_type": "markdown",
   "metadata": {},
   "source": [
    "# Linear Regression\n",
    "\n",
    "Turing is powerful when applied to complex hierarchical models, but it can also be put to task at common statistical procedures, like [linear regression](https://en.wikipedia.org/wiki/Linear_regression). This tutorial covers how to implement a linear regression model in Turing.\n",
    "\n",
    "We begin by importing all the necessary libraries."
   ]
  },
  {
   "cell_type": "code",
   "execution_count": null,
   "metadata": {},
   "outputs": [],
   "source": [
    "# Import Turing and Distributions.\n",
    "using Turing, Distributions\n",
    "\n",
    "# Import RDatasets.\n",
    "using RDatasets\n",
    "\n",
    "# Import MCMCChain, Plots, and StatPlots for visualizations and diagnostics.\n",
    "using MCMCChain, Plots, StatPlots\n",
    "\n",
    "# MLDataUtils provides a sample splitting tool that's very handy.\n",
    "using MLDataUtils\n",
    "\n",
    "# Set a seed for reproducibility.\n",
    "using Random\n",
    "Random.seed!(0);"
   ]
  },
  {
   "cell_type": "code",
   "execution_count": null,
   "metadata": {},
   "outputs": [],
   "source": [
    "# Import the \"Default\" dataset.\n",
    "data = RDatasets.dataset(\"datasets\", \"mtcars\");\n",
    "\n",
    "# Show the first six rows of the dataset.\n",
    "first(data, 6)"
   ]
  },
  {
   "cell_type": "code",
   "execution_count": null,
   "metadata": {},
   "outputs": [],
   "source": [
    "# Split our dataset 5/95 into training/test sets.\n",
    "train, test = MLDataUtils.splitobs(data, at = 0.7);\n",
    "\n",
    "train_cut = train\n",
    "test_cut = train\n",
    "\n",
    "# Create our labels. These are the values we are trying to predict.\n",
    "train_label = train[:, :MPG]\n",
    "test_label = test[:, :MPG]\n",
    "\n",
    "# Get the list of columns to keep.\n",
    "remove_names = filter(x->!in(x, [:MPG, :Model]), names(data))\n",
    "# remove_names = filter(x->in(x, [:HP]), names(data))\n",
    "\n",
    "# Filter the test and train sets.\n",
    "train = Matrix(train[:,remove_names]);\n",
    "test = Matrix(test[:,remove_names]);\n",
    "\n",
    "# Rescale our matrices.\n",
    "function standardize(x)\n",
    "    return (x .- mean(x, dims=1)) ./ std(x, dims=1), x\n",
    "end\n",
    "\n",
    "# (train, train_orig) = standardize(train)\n",
    "# (test, test_orig) = standardize(test)\n",
    "# (train_label, train_l_orig) = standardize(train_label)\n",
    "# (test_label, test_l_orig) = standardize(test_label);"
   ]
  },
  {
   "cell_type": "code",
   "execution_count": null,
   "metadata": {},
   "outputs": [],
   "source": [
    "using LinearAlgebra\n",
    "\n",
    "# Bayesian linear regression.\n",
    "@model linear_regression(x, y, n_obs, n_vars) = begin\n",
    "    σ₂ ~ InverseGamma(3,0.5)\n",
    "    intercept ~ Normal(0, 10)\n",
    "    coefficients = TArray{Real}(undef, n_vars)\n",
    "    for i in eachindex(coefficients)\n",
    "        coefficients[i] ~ Normal(0, 10)\n",
    "    end\n",
    "\n",
    "    for i = 1:n_obs\n",
    "        v = intercept + coefficients ⋅ x[i,:]\n",
    "        y[i] ~ Normal(v, σ₂)\n",
    "    end\n",
    "end;\n",
    "\n",
    "n_obs, n_vars = size(train)\n",
    "model = linear_regression(train, train_label, n_obs, n_vars)\n",
    "chain = sample(model, NUTS(1000, 0.65));"
   ]
  },
  {
   "cell_type": "code",
   "execution_count": null,
   "metadata": {},
   "outputs": [],
   "source": [
    "describe(chain)"
   ]
  },
  {
   "cell_type": "code",
   "execution_count": null,
   "metadata": {},
   "outputs": [],
   "source": [
    "function prediction(chain, x)\n",
    "    _, max_lp = findmax(chain[:lp])\n",
    "\n",
    "#     α = chain[:intercept][max_lp]\n",
    "#     β = chain[:coefficients][max_lp]\n",
    "    α = mean(chain[:intercept])\n",
    "    β = mean(chain[:coefficients])\n",
    "    \n",
    "    return α .+ x * β\n",
    "end\n",
    "\n",
    "prediction(chain, train)"
   ]
  },
  {
   "cell_type": "code",
   "execution_count": null,
   "metadata": {},
   "outputs": [],
   "source": [
    "using GLM\n",
    "\n",
    "ols = lm(@formula(MPG ~ Cyl + Disp + HP + DRat + WT + QSec + VS + AM + Gear + Carb), train_cut)"
   ]
  },
  {
   "cell_type": "code",
   "execution_count": null,
   "metadata": {},
   "outputs": [],
   "source": [
    "prediction(chain, train)"
   ]
  },
  {
   "cell_type": "code",
   "execution_count": null,
   "metadata": {},
   "outputs": [],
   "source": [
    "predict(ols)"
   ]
  },
  {
   "cell_type": "code",
   "execution_count": null,
   "metadata": {},
   "outputs": [],
   "source": [
    "predict(ols) - prediction(chain, train)"
   ]
  },
  {
   "cell_type": "code",
   "execution_count": null,
   "metadata": {},
   "outputs": [],
   "source": [
    "sum((train_label - predict(ols)).^2)"
   ]
  },
  {
   "cell_type": "code",
   "execution_count": null,
   "metadata": {},
   "outputs": [],
   "source": [
    "sum((train_label - prediction(chain, train)).^2)"
   ]
  },
  {
   "cell_type": "code",
   "execution_count": null,
   "metadata": {},
   "outputs": [],
   "source": []
  }
 ],
 "metadata": {
  "kernelspec": {
   "display_name": "Julia 1.0.0",
   "language": "julia",
   "name": "julia-1.0"
  },
  "language_info": {
   "file_extension": ".jl",
   "mimetype": "application/julia",
   "name": "julia",
   "version": "1.0.0"
  }
 },
 "nbformat": 4,
 "nbformat_minor": 2
}
