{
 "cells": [
  {
   "cell_type": "markdown",
   "metadata": {},
   "source": [
    "# Probabilistic Modelling using the Infinite Mixture Model"
   ]
  },
  {
   "cell_type": "code",
   "execution_count": 1,
   "metadata": {},
   "outputs": [],
   "source": [
    "using Turing"
   ]
  },
  {
   "cell_type": "markdown",
   "metadata": {},
   "source": [
    "In many applications it is desirable to allow the model to adjust its complexity to the amount the data. Consider for example the task of grouping objects into clusters / groups. This task often involves the specification of the number of groups. However, often times it is not known a prior how many groups exist. Moreover, in some applictions, e.g. modelling topics in text documents or grouping species, the number of examples per group is heavy tailed. Thus making it impossible to predefine the number of groups and requiring the model to form new groups when data points from previously unseen groups are observed."
   ]
  },
  {
   "cell_type": "markdown",
   "metadata": {},
   "source": [
    "A natural approach for such applications is the use of non-parametric models. This tutorial will introduce how to use the Dirichlet process in a mixture of infinitely many Gaussians using Turing. For further information on Bayesian nonparametrics and the Dirichlet process we refer to the [introduction by Zoubin Ghahramani](http://mlg.eng.cam.ac.uk/pub/pdf/Gha12.pdf) and the book \"Fundamentals of Nonparametric Bayesian Inference\" by Subhashis Ghosal and Aad van der Vaart."
   ]
  },
  {
   "cell_type": "markdown",
   "metadata": {},
   "source": [
    "## Mixture Model"
   ]
  },
  {
   "cell_type": "markdown",
   "metadata": {},
   "source": [
    "Before introducing how to learn infinite mixture models in Turing, we will briefly review the construction of finite mixture models. Subsequently, we will define how to use the \"Chinese restaurant process\" construction of a Dirichlet process for non-parametric clustering."
   ]
  },
  {
   "cell_type": "markdown",
   "metadata": {},
   "source": [
    "#### Two-Component Model"
   ]
  },
  {
   "cell_type": "markdown",
   "metadata": {},
   "source": [
    "First, consider the simple case of a mixture model with two Gaussian components with fixed covariance. \n",
    "The generative process of such a model can be written as:\n",
    "\n",
    "$$ \\pi_1 \\sim Beta(a, b) $$\n",
    "$$ \\pi_2 = 1-\\pi_1 $$\n",
    "$$ \\mu_1 \\sim Normal(\\mu_0, \\Sigma_0) $$\n",
    "$$ \\mu_2 \\sim Normal(\\mu_0, \\Sigma_0) $$\n",
    "$$ z_i \\sim Categorical(\\pi_1, \\pi_2) $$\n",
    "$$ x_i \\sim Normal(\\mu_{z_i}, \\Sigma) $$\n",
    "\n",
    "where $\\pi_1, \\pi_2$ are the mixing weights of the mixture model, i.e. $\\pi_1 + \\pi_2 = 1$, and $z_i$ is a latent assignment of the observation $x_i$ to a component (Gaussian).\n",
    "\n",
    "We can implement this model in Turing for 1D data as follows:"
   ]
  },
  {
   "cell_type": "code",
   "execution_count": 2,
   "metadata": {},
   "outputs": [
    {
     "data": {
      "text/plain": [
       "two_model (generic function with 2 methods)"
      ]
     },
     "execution_count": 2,
     "metadata": {},
     "output_type": "execute_result"
    }
   ],
   "source": [
    "@model two_model(x) = begin\n",
    "    \n",
    "    # Hyper-parameters\n",
    "    μ0 = 0.0\n",
    "    σ0 = 1.0\n",
    "    \n",
    "    # Draw weights.\n",
    "    π1 ~ Beta(1,1)\n",
    "    π2 = 1-π1\n",
    "    \n",
    "    # Draw locations of the components.\n",
    "    μ1 ~ Normal(μ0, σ0)\n",
    "    μ2 ~ Normal(μ0, σ0)\n",
    "    \n",
    "    # Draw latent assignment.\n",
    "    z ~ Categorical([π1, π2])\n",
    "    \n",
    "    # Draw observation from selected component.\n",
    "    if z == 1\n",
    "        x ~ Normal(μ1, 1.0)\n",
    "    else\n",
    "        x ~ Normal(μ2, 1.0)\n",
    "    end\n",
    "end"
   ]
  },
  {
   "cell_type": "markdown",
   "metadata": {},
   "source": [
    "#### Finite Mixture Model"
   ]
  },
  {
   "cell_type": "markdown",
   "metadata": {},
   "source": [
    "If we have more than two components, this model can elegantly be extend using a Dirichlet distribution as prior for the mixing weights $\\pi_1, \\dots, \\pi_K$. Note that the Dirichlet distribution is the multivariate generalization of the beta distribution. The resulting model can be written as:\n",
    "\n",
    "$$ (\\pi_1, \\dots, \\pi_K) \\sim Dirichlet(K, \\alpha) $$\n",
    "$$ \\mu_k \\sim Normal(\\mu_0, \\Sigma_0), \\;\\; \\forall k$$\n",
    "$$ z \\sim Categorical(\\pi_1, \\dots, \\pi_K) $$\n",
    "$$ x \\sim Normal(\\mu_z, \\Sigma) $$\n",
    "\n",
    "which resembles the model in the [Gaussian mixture model tutorial](1_GaussianMixtureModel.ipynb) with a slightly different notation."
   ]
  },
  {
   "cell_type": "markdown",
   "metadata": {},
   "source": [
    "## Infinite Mixture Model"
   ]
  },
  {
   "cell_type": "markdown",
   "metadata": {},
   "source": [
    "The question now arises, is there a generalization of a Dirichlet distribution for which the dimensionality $K$ is infinite, i.e. $K = \\infty$?"
   ]
  },
  {
   "cell_type": "markdown",
   "metadata": {},
   "source": [
    "But first, to implement an infinite Gaussian mixture model in Turing, we first need to load the `Turing.RandomMeasures` module."
   ]
  },
  {
   "cell_type": "code",
   "execution_count": 3,
   "metadata": {},
   "outputs": [],
   "source": [
    "using Turing.RandomMeasures"
   ]
  },
  {
   "cell_type": "markdown",
   "metadata": {},
   "source": [
    "---"
   ]
  },
  {
   "cell_type": "markdown",
   "metadata": {},
   "source": [
    "We now will utilize the fact that one can integrate out the mixing weights in a Gaussian mixture model allowing us to arrive at the Chinese restaurant process construction. See Carl E. Rasmussen: [The Infinite Gaussian Mixture Model](https://www.seas.harvard.edu/courses/cs281/papers/rasmussen-1999a.pdf), NIPS (2000) for details.\n",
    "\n",
    "In fact, if the mixing weights are integrated out the conditional prior for the latent variable $z$ is given by:\n",
    "\n",
    "$$ p(z_i = k | z_{\\not i}, \\alpha) = \\frac{n_k + \\alpha/K}{N - 1 + \\alpha} $$\n",
    "\n",
    "where $z_{\\not i}$ are the latent assignments of all observations except observation $i$. Not that we use $n_k$ to denote the number of observations at component $k$ excluding observation $i$. The parameter $\\alpha$ is the concentration parameter of the Dirichlet distribution used as prior over the mixing weights."
   ]
  },
  {
   "cell_type": "markdown",
   "metadata": {},
   "source": [
    "#### Chinese Restaurant Process"
   ]
  },
  {
   "cell_type": "markdown",
   "metadata": {},
   "source": [
    "To obtain the Chinese restaurant process construction, we can now derive the conditional prior if $K \\rightarrow \\infty$.\n",
    "\n",
    "For $n_k > 0$ we obtain:\n",
    "\n",
    "$$ p(z_i = k | z_{\\not i}, \\alpha) = \\frac{n_k}{N - 1 + \\alpha} $$\n",
    "\n",
    "and for all infinitely many clusters that are empty (combined) we get:\n",
    "\n",
    "$$ p(z_i = k | z_{\\not i}, \\alpha) = \\frac{\\alpha}{N - 1 + \\alpha} $$\n"
   ]
  },
  {
   "cell_type": "markdown",
   "metadata": {},
   "source": [
    "Those equations show that the conditional prior for component assignments is proportional to the number of such observations, meaning that the Chinese restaurant process has a rich get richer property."
   ]
  },
  {
   "cell_type": "markdown",
   "metadata": {},
   "source": [
    "To get a better understanding of this property, we can plot the cluster choosen by for each new observation drawn from the conditional prior."
   ]
  },
  {
   "cell_type": "code",
   "execution_count": 4,
   "metadata": {},
   "outputs": [],
   "source": [
    "# Concentration parameter.\n",
    "α = 10.0\n",
    "\n",
    "# Random measure, e.g. Dirichlet process.\n",
    "rpm = DirichletProcess(α)\n",
    "\n",
    "# Cluster assignments for each observation.\n",
    "z = Vector{Int}()\n",
    "\n",
    "# Maximum number of observations we observe.\n",
    "Nmax = 500\n",
    "\n",
    "for i in 1:Nmax\n",
    "    # Number of observations per cluster.\n",
    "    K = isempty(z) ? 0 : maximum(z)\n",
    "    nk = Vector{Int}(map(k -> sum(z .== k), 1:K))\n",
    "    \n",
    "    # Draw new assignment.\n",
    "    push!(z, rand(ChineseRestaurantProcess(rpm, nk)))\n",
    "end"
   ]
  },
  {
   "cell_type": "code",
   "execution_count": 5,
   "metadata": {},
   "outputs": [
    {
     "name": "stderr",
     "output_type": "stream",
     "text": [
      "┌ Info: Saved animation to \n",
      "│   fn = /Users/martin/git/TuringTutorials/tmp.gif\n",
      "└ @ Plots /Users/martin/.julia/packages/Plots/QYETN/src/animation.jl:90\n"
     ]
    },
    {
     "data": {
      "text/html": [
       "<img src=\"tmp.gif\" />"
      ],
      "text/plain": [
       "Plots.AnimatedGif(\"/Users/martin/git/TuringTutorials/tmp.gif\")"
      ]
     },
     "execution_count": 5,
     "metadata": {},
     "output_type": "execute_result"
    }
   ],
   "source": [
    "using Plots\n",
    "\n",
    "# Plot the cluster assignments over time \n",
    "@gif for i in 1:Nmax\n",
    "    scatter(collect(1:i), z[1:i], markersize = 2, xlabel = \"observation (i)\", ylabel = \"cluster (k)\", legend = false)\n",
    "end"
   ]
  },
  {
   "cell_type": "markdown",
   "metadata": {},
   "source": [
    "Further, we can see that the number of clusters is logarithmic in the number of observations / data points. This rate is a side-effect of the rich gets richer phenomenon, i.e. we expect large cluster thus the number of clusters has to be smaller than the number of observations.\n",
    "\n",
    "$$ E[K|N] \\approx \\alpha * log(1 - \\frac{N}{\\alpha}) $$\n",
    "\n",
    "We can see from the equation that the concetration parameter $\\alpha$ allows use to control the number of cluster formed a priori."
   ]
  },
  {
   "cell_type": "markdown",
   "metadata": {},
   "source": [
    "---"
   ]
  },
  {
   "cell_type": "markdown",
   "metadata": {},
   "source": [
    "In Turing we can implement an infinite Gaussian mixture model using a Chinese restaurant process construction of a Dirichlet process as follows:"
   ]
  },
  {
   "cell_type": "code",
   "execution_count": 11,
   "metadata": {},
   "outputs": [
    {
     "data": {
      "text/plain": [
       "infiniteGMM (generic function with 2 methods)"
      ]
     },
     "execution_count": 11,
     "metadata": {},
     "output_type": "execute_result"
    }
   ],
   "source": [
    "@model infiniteGMM(x) = begin\n",
    "    \n",
    "    # Hyper-parameters, i.e. concentration parameter and parameters of H.\n",
    "    α = 1.0\n",
    "    μ0 = 0.0\n",
    "    σ0 = 1.0\n",
    "    \n",
    "    # Define random measure, e.g. Dirichlet process.\n",
    "    rpm = DirichletProcess(α)\n",
    "    \n",
    "    # Define the base distribution, i.e. expected value of the Dirichlet process.\n",
    "    H = Normal(μ0, σ0)\n",
    "    \n",
    "    # Latent assignment.\n",
    "    z = tzeros(Int, length(x))\n",
    "        \n",
    "    # Locations of the infinitely many clusters.\n",
    "    μ = tzeros(Float64, 0)\n",
    "    \n",
    "    for i in 1:length(x)\n",
    "        \n",
    "        # Number of clusters.\n",
    "        K = maximum(z)\n",
    "        nk = Vector{Int}(map(k -> sum(z .== k), 1:K))\n",
    "\n",
    "        # Draw the latent assignment.\n",
    "        z[i] ~ ChineseRestaurantProcess(rpm, nk)\n",
    "        \n",
    "        # Create a new cluster?\n",
    "        if z[i] > K\n",
    "            push!(μ, 0.0)\n",
    "\n",
    "            # Draw location of new cluster.\n",
    "            μ[z[i]] ~ H\n",
    "        end\n",
    "                \n",
    "        # Draw observation.\n",
    "        x[i] ~ Normal(μ[z[i]], 1.0)\n",
    "    end\n",
    "end"
   ]
  },
  {
   "cell_type": "markdown",
   "metadata": {},
   "source": [
    "We can now use Turing to infer the assignments of some data points."
   ]
  },
  {
   "cell_type": "code",
   "execution_count": 12,
   "metadata": {},
   "outputs": [],
   "source": [
    "using Plots, Random\n",
    "\n",
    "# Generate some test data.\n",
    "Random.seed!(1)\n",
    "data = vcat(randn(10), randn(10) .- 5, randn(10) .+ 10)\n",
    "data .-= mean(data)\n",
    "data /= std(data);"
   ]
  },
  {
   "cell_type": "code",
   "execution_count": 13,
   "metadata": {},
   "outputs": [],
   "source": [
    "model_fun = infiniteGMM(data);"
   ]
  },
  {
   "cell_type": "code",
   "execution_count": 14,
   "metadata": {},
   "outputs": [],
   "source": [
    "iterations = 1000\n",
    "\n",
    "# MCMC sampling\n",
    "Random.seed!(2)\n",
    "chain = sample(model_fun, SMC(iterations));"
   ]
  },
  {
   "cell_type": "code",
   "execution_count": 15,
   "metadata": {},
   "outputs": [],
   "source": [
    "# Extract the number of clusters for each sample of the Markov chain.\n",
    "k = map(t -> length(unique(chain[:z].value[t,:,:])), 1:iterations);"
   ]
  },
  {
   "cell_type": "code",
   "execution_count": 17,
   "metadata": {},
   "outputs": [
    {
     "data": {
      "image/svg+xml": [
       "<?xml version=\"1.0\" encoding=\"utf-8\"?>\n",
       "<svg xmlns=\"http://www.w3.org/2000/svg\" xmlns:xlink=\"http://www.w3.org/1999/xlink\" width=\"600\" height=\"400\" viewBox=\"0 0 2400 1600\">\n",
       "<defs>\n",
       "  <clipPath id=\"clip0900\">\n",
       "    <rect x=\"0\" y=\"0\" width=\"2000\" height=\"2000\"/>\n",
       "  </clipPath>\n",
       "</defs>\n",
       "<defs>\n",
       "  <clipPath id=\"clip0901\">\n",
       "    <rect x=\"0\" y=\"0\" width=\"2400\" height=\"1600\"/>\n",
       "  </clipPath>\n",
       "</defs>\n",
       "<polygon clip-path=\"url(#clip0901)\" points=\"\n",
       "0,1600 2400,1600 2400,0 0,0 \n",
       "  \" fill=\"#ffffff\" fill-rule=\"evenodd\" fill-opacity=\"1\"/>\n",
       "<defs>\n",
       "  <clipPath id=\"clip0902\">\n",
       "    <rect x=\"480\" y=\"0\" width=\"1681\" height=\"1600\"/>\n",
       "  </clipPath>\n",
       "</defs>\n",
       "<polygon clip-path=\"url(#clip0901)\" points=\"\n",
       "211.005,1440.48 2321.26,1440.48 2321.26,47.2441 211.005,47.2441 \n",
       "  \" fill=\"#ffffff\" fill-rule=\"evenodd\" fill-opacity=\"1\"/>\n",
       "<defs>\n",
       "  <clipPath id=\"clip0903\">\n",
       "    <rect x=\"211\" y=\"47\" width=\"2111\" height=\"1394\"/>\n",
       "  </clipPath>\n",
       "</defs>\n",
       "<polyline clip-path=\"url(#clip0903)\" style=\"stroke:#000000; stroke-width:2; stroke-opacity:0.1; fill:none\" points=\"\n",
       "  268.736,1440.48 268.736,47.2441 \n",
       "  \"/>\n",
       "<polyline clip-path=\"url(#clip0903)\" style=\"stroke:#000000; stroke-width:2; stroke-opacity:0.1; fill:none\" points=\"\n",
       "  766.936,1440.48 766.936,47.2441 \n",
       "  \"/>\n",
       "<polyline clip-path=\"url(#clip0903)\" style=\"stroke:#000000; stroke-width:2; stroke-opacity:0.1; fill:none\" points=\"\n",
       "  1265.14,1440.48 1265.14,47.2441 \n",
       "  \"/>\n",
       "<polyline clip-path=\"url(#clip0903)\" style=\"stroke:#000000; stroke-width:2; stroke-opacity:0.1; fill:none\" points=\"\n",
       "  1763.34,1440.48 1763.34,47.2441 \n",
       "  \"/>\n",
       "<polyline clip-path=\"url(#clip0903)\" style=\"stroke:#000000; stroke-width:2; stroke-opacity:0.1; fill:none\" points=\"\n",
       "  2261.54,1440.48 2261.54,47.2441 \n",
       "  \"/>\n",
       "<polyline clip-path=\"url(#clip0903)\" style=\"stroke:#000000; stroke-width:2; stroke-opacity:0.1; fill:none\" points=\"\n",
       "  211.005,1269.61 2321.26,1269.61 \n",
       "  \"/>\n",
       "<polyline clip-path=\"url(#clip0903)\" style=\"stroke:#000000; stroke-width:2; stroke-opacity:0.1; fill:none\" points=\"\n",
       "  211.005,1006.74 2321.26,1006.74 \n",
       "  \"/>\n",
       "<polyline clip-path=\"url(#clip0903)\" style=\"stroke:#000000; stroke-width:2; stroke-opacity:0.1; fill:none\" points=\"\n",
       "  211.005,743.863 2321.26,743.863 \n",
       "  \"/>\n",
       "<polyline clip-path=\"url(#clip0903)\" style=\"stroke:#000000; stroke-width:2; stroke-opacity:0.1; fill:none\" points=\"\n",
       "  211.005,480.988 2321.26,480.988 \n",
       "  \"/>\n",
       "<polyline clip-path=\"url(#clip0903)\" style=\"stroke:#000000; stroke-width:2; stroke-opacity:0.1; fill:none\" points=\"\n",
       "  211.005,218.113 2321.26,218.113 \n",
       "  \"/>\n",
       "<polyline clip-path=\"url(#clip0901)\" style=\"stroke:#000000; stroke-width:4; stroke-opacity:1; fill:none\" points=\"\n",
       "  211.005,1440.48 2321.26,1440.48 \n",
       "  \"/>\n",
       "<polyline clip-path=\"url(#clip0901)\" style=\"stroke:#000000; stroke-width:4; stroke-opacity:1; fill:none\" points=\"\n",
       "  211.005,1440.48 211.005,47.2441 \n",
       "  \"/>\n",
       "<polyline clip-path=\"url(#clip0901)\" style=\"stroke:#000000; stroke-width:4; stroke-opacity:1; fill:none\" points=\"\n",
       "  268.736,1440.48 268.736,1419.58 \n",
       "  \"/>\n",
       "<polyline clip-path=\"url(#clip0901)\" style=\"stroke:#000000; stroke-width:4; stroke-opacity:1; fill:none\" points=\"\n",
       "  766.936,1440.48 766.936,1419.58 \n",
       "  \"/>\n",
       "<polyline clip-path=\"url(#clip0901)\" style=\"stroke:#000000; stroke-width:4; stroke-opacity:1; fill:none\" points=\"\n",
       "  1265.14,1440.48 1265.14,1419.58 \n",
       "  \"/>\n",
       "<polyline clip-path=\"url(#clip0901)\" style=\"stroke:#000000; stroke-width:4; stroke-opacity:1; fill:none\" points=\"\n",
       "  1763.34,1440.48 1763.34,1419.58 \n",
       "  \"/>\n",
       "<polyline clip-path=\"url(#clip0901)\" style=\"stroke:#000000; stroke-width:4; stroke-opacity:1; fill:none\" points=\"\n",
       "  2261.54,1440.48 2261.54,1419.58 \n",
       "  \"/>\n",
       "<polyline clip-path=\"url(#clip0901)\" style=\"stroke:#000000; stroke-width:4; stroke-opacity:1; fill:none\" points=\"\n",
       "  211.005,1269.61 242.659,1269.61 \n",
       "  \"/>\n",
       "<polyline clip-path=\"url(#clip0901)\" style=\"stroke:#000000; stroke-width:4; stroke-opacity:1; fill:none\" points=\"\n",
       "  211.005,1006.74 242.659,1006.74 \n",
       "  \"/>\n",
       "<polyline clip-path=\"url(#clip0901)\" style=\"stroke:#000000; stroke-width:4; stroke-opacity:1; fill:none\" points=\"\n",
       "  211.005,743.863 242.659,743.863 \n",
       "  \"/>\n",
       "<polyline clip-path=\"url(#clip0901)\" style=\"stroke:#000000; stroke-width:4; stroke-opacity:1; fill:none\" points=\"\n",
       "  211.005,480.988 242.659,480.988 \n",
       "  \"/>\n",
       "<polyline clip-path=\"url(#clip0901)\" style=\"stroke:#000000; stroke-width:4; stroke-opacity:1; fill:none\" points=\"\n",
       "  211.005,218.113 242.659,218.113 \n",
       "  \"/>\n",
       "<g clip-path=\"url(#clip0901)\">\n",
       "<text style=\"fill:#000000; fill-opacity:1; font-family:Arial,Helvetica Neue,Helvetica,sans-serif; font-size:48px; text-anchor:middle;\" transform=\"rotate(0, 268.736, 1494.48)\" x=\"268.736\" y=\"1494.48\">0</text>\n",
       "</g>\n",
       "<g clip-path=\"url(#clip0901)\">\n",
       "<text style=\"fill:#000000; fill-opacity:1; font-family:Arial,Helvetica Neue,Helvetica,sans-serif; font-size:48px; text-anchor:middle;\" transform=\"rotate(0, 766.936, 1494.48)\" x=\"766.936\" y=\"1494.48\">250</text>\n",
       "</g>\n",
       "<g clip-path=\"url(#clip0901)\">\n",
       "<text style=\"fill:#000000; fill-opacity:1; font-family:Arial,Helvetica Neue,Helvetica,sans-serif; font-size:48px; text-anchor:middle;\" transform=\"rotate(0, 1265.14, 1494.48)\" x=\"1265.14\" y=\"1494.48\">500</text>\n",
       "</g>\n",
       "<g clip-path=\"url(#clip0901)\">\n",
       "<text style=\"fill:#000000; fill-opacity:1; font-family:Arial,Helvetica Neue,Helvetica,sans-serif; font-size:48px; text-anchor:middle;\" transform=\"rotate(0, 1763.34, 1494.48)\" x=\"1763.34\" y=\"1494.48\">750</text>\n",
       "</g>\n",
       "<g clip-path=\"url(#clip0901)\">\n",
       "<text style=\"fill:#000000; fill-opacity:1; font-family:Arial,Helvetica Neue,Helvetica,sans-serif; font-size:48px; text-anchor:middle;\" transform=\"rotate(0, 2261.54, 1494.48)\" x=\"2261.54\" y=\"1494.48\">1000</text>\n",
       "</g>\n",
       "<g clip-path=\"url(#clip0901)\">\n",
       "<text style=\"fill:#000000; fill-opacity:1; font-family:Arial,Helvetica Neue,Helvetica,sans-serif; font-size:48px; text-anchor:end;\" transform=\"rotate(0, 187.005, 1287.11)\" x=\"187.005\" y=\"1287.11\">2</text>\n",
       "</g>\n",
       "<g clip-path=\"url(#clip0901)\">\n",
       "<text style=\"fill:#000000; fill-opacity:1; font-family:Arial,Helvetica Neue,Helvetica,sans-serif; font-size:48px; text-anchor:end;\" transform=\"rotate(0, 187.005, 1024.24)\" x=\"187.005\" y=\"1024.24\">4</text>\n",
       "</g>\n",
       "<g clip-path=\"url(#clip0901)\">\n",
       "<text style=\"fill:#000000; fill-opacity:1; font-family:Arial,Helvetica Neue,Helvetica,sans-serif; font-size:48px; text-anchor:end;\" transform=\"rotate(0, 187.005, 761.363)\" x=\"187.005\" y=\"761.363\">6</text>\n",
       "</g>\n",
       "<g clip-path=\"url(#clip0901)\">\n",
       "<text style=\"fill:#000000; fill-opacity:1; font-family:Arial,Helvetica Neue,Helvetica,sans-serif; font-size:48px; text-anchor:end;\" transform=\"rotate(0, 187.005, 498.488)\" x=\"187.005\" y=\"498.488\">8</text>\n",
       "</g>\n",
       "<g clip-path=\"url(#clip0901)\">\n",
       "<text style=\"fill:#000000; fill-opacity:1; font-family:Arial,Helvetica Neue,Helvetica,sans-serif; font-size:48px; text-anchor:end;\" transform=\"rotate(0, 187.005, 235.613)\" x=\"187.005\" y=\"235.613\">10</text>\n",
       "</g>\n",
       "<g clip-path=\"url(#clip0901)\">\n",
       "<text style=\"fill:#000000; fill-opacity:1; font-family:Arial,Helvetica Neue,Helvetica,sans-serif; font-size:66px; text-anchor:middle;\" transform=\"rotate(0, 1266.13, 1590.4)\" x=\"1266.13\" y=\"1590.4\">Iteration</text>\n",
       "</g>\n",
       "<g clip-path=\"url(#clip0901)\">\n",
       "<text style=\"fill:#000000; fill-opacity:1; font-family:Arial,Helvetica Neue,Helvetica,sans-serif; font-size:66px; text-anchor:middle;\" transform=\"rotate(-90, 57.6, 743.863)\" x=\"57.6\" y=\"743.863\">Number of clusters</text>\n",
       "</g>\n",
       "<polyline clip-path=\"url(#clip0903)\" style=\"stroke:#009af9; stroke-width:4; stroke-opacity:1; fill:none\" points=\"\n",
       "  270.729,1138.18 272.722,1006.74 274.715,1006.74 276.708,875.301 278.7,1269.61 280.693,1138.18 282.686,1269.61 284.679,1269.61 286.672,1269.61 288.664,1269.61 \n",
       "  290.657,1269.61 292.65,1269.61 294.643,1269.61 296.636,1269.61 298.628,1269.61 300.621,1138.18 302.614,1138.18 304.607,1138.18 306.6,1269.61 308.592,1269.61 \n",
       "  310.585,1138.18 312.578,1269.61 314.571,1269.61 316.564,1269.61 318.556,1138.18 320.549,1138.18 322.542,1138.18 324.535,1138.18 326.528,1138.18 328.52,1138.18 \n",
       "  330.513,1138.18 332.506,1138.18 334.499,1138.18 336.492,1138.18 338.484,1138.18 340.477,1269.61 342.47,1269.61 344.463,1269.61 346.456,1269.61 348.448,1269.61 \n",
       "  350.441,1269.61 352.434,1269.61 354.427,1269.61 356.42,1269.61 358.412,1269.61 360.405,1269.61 362.398,1269.61 364.391,1269.61 366.384,1269.61 368.376,1269.61 \n",
       "  370.369,1269.61 372.362,1269.61 374.355,1138.18 376.348,1006.74 378.34,1006.74 380.333,1138.18 382.326,1138.18 384.319,1138.18 386.312,1138.18 388.304,1138.18 \n",
       "  390.297,875.301 392.29,743.863 394.283,743.863 396.276,743.863 398.268,743.863 400.261,743.863 402.254,743.863 404.247,743.863 406.24,743.863 408.232,875.301 \n",
       "  410.225,875.301 412.218,875.301 414.211,1138.18 416.204,1138.18 418.196,1138.18 420.189,1138.18 422.182,1138.18 424.175,1138.18 426.168,1138.18 428.16,1138.18 \n",
       "  430.153,1269.61 432.146,1269.61 434.139,1269.61 436.132,1138.18 438.124,1138.18 440.117,1269.61 442.11,1138.18 444.103,1006.74 446.096,875.301 448.088,1006.74 \n",
       "  450.081,1138.18 452.074,1138.18 454.067,1138.18 456.06,1006.74 458.052,1006.74 460.045,1006.74 462.038,1006.74 464.031,1006.74 466.024,1006.74 468.016,1006.74 \n",
       "  470.009,875.301 472.002,875.301 473.995,743.863 475.988,875.301 477.98,875.301 479.973,875.301 481.966,875.301 483.959,743.863 485.952,875.301 487.944,875.301 \n",
       "  489.937,875.301 491.93,875.301 493.923,875.301 495.916,875.301 497.908,1006.74 499.901,1006.74 501.894,1006.74 503.887,1006.74 505.88,1006.74 507.872,1006.74 \n",
       "  509.865,1006.74 511.858,1006.74 513.851,1006.74 515.843,875.301 517.836,1006.74 519.829,1006.74 521.822,1006.74 523.815,1006.74 525.807,1006.74 527.8,1006.74 \n",
       "  529.793,1006.74 531.786,1006.74 533.779,1006.74 535.771,1006.74 537.764,1138.18 539.757,1269.61 541.75,875.301 543.743,875.301 545.735,875.301 547.728,743.863 \n",
       "  549.721,743.863 551.714,743.863 553.707,1006.74 555.699,349.551 557.692,349.551 559.685,349.551 561.678,349.551 563.671,349.551 565.663,349.551 567.656,349.551 \n",
       "  569.649,349.551 571.642,349.551 573.635,218.113 575.627,218.113 577.62,349.551 579.613,349.551 581.606,349.551 583.599,349.551 585.591,218.113 587.584,218.113 \n",
       "  589.577,218.113 591.57,218.113 593.563,218.113 595.555,218.113 597.548,218.113 599.541,218.113 601.534,218.113 603.527,218.113 605.519,218.113 607.512,218.113 \n",
       "  609.505,86.6754 611.498,86.6754 613.491,86.6754 615.483,86.6754 617.476,86.6754 619.469,86.6754 621.462,86.6754 623.455,86.6754 625.447,86.6754 627.44,86.6754 \n",
       "  629.433,86.6754 631.426,218.113 633.419,218.113 635.411,218.113 637.404,218.113 639.397,218.113 641.39,218.113 643.383,218.113 645.375,218.113 647.368,218.113 \n",
       "  649.361,218.113 651.354,218.113 653.347,218.113 655.339,86.6754 657.332,218.113 659.325,218.113 661.318,349.551 663.311,1006.74 665.303,1006.74 667.296,1006.74 \n",
       "  669.289,1006.74 671.282,1006.74 673.275,1006.74 675.267,1006.74 677.26,1006.74 679.253,875.301 681.246,875.301 683.239,875.301 685.231,743.863 687.224,743.863 \n",
       "  689.217,743.863 691.21,743.863 693.203,743.863 695.195,743.863 697.188,743.863 699.181,875.301 701.174,875.301 703.167,875.301 705.159,875.301 707.152,875.301 \n",
       "  709.145,743.863 711.138,743.863 713.131,875.301 715.123,1138.18 717.116,1138.18 719.109,1138.18 721.102,875.301 723.095,875.301 725.087,875.301 727.08,875.301 \n",
       "  729.073,875.301 731.066,1269.61 733.059,1138.18 735.051,1269.61 737.044,875.301 739.037,875.301 741.03,875.301 743.023,875.301 745.015,875.301 747.008,743.863 \n",
       "  749.001,743.863 750.994,743.863 752.987,1269.61 754.979,1138.18 756.972,1269.61 758.965,480.988 760.958,1006.74 762.951,1006.74 764.943,743.863 766.936,875.301 \n",
       "  768.929,875.301 770.922,875.301 772.915,875.301 774.907,875.301 776.9,612.426 778.893,743.863 780.886,743.863 782.879,743.863 784.871,743.863 786.864,612.426 \n",
       "  788.857,743.863 790.85,743.863 792.843,1138.18 794.835,1138.18 796.828,1138.18 798.821,1006.74 800.814,1006.74 802.807,1138.18 804.799,875.301 806.792,743.863 \n",
       "  808.785,743.863 810.778,743.863 812.771,743.863 814.763,743.863 816.756,743.863 818.749,743.863 820.742,743.863 822.735,743.863 824.727,743.863 826.72,612.426 \n",
       "  828.713,612.426 830.706,612.426 832.699,612.426 834.691,612.426 836.684,612.426 838.677,612.426 840.67,743.863 842.663,743.863 844.655,743.863 846.648,743.863 \n",
       "  848.641,612.426 850.634,743.863 852.627,743.863 854.619,743.863 856.612,743.863 858.605,743.863 860.598,743.863 862.591,743.863 864.583,743.863 866.576,743.863 \n",
       "  868.569,743.863 870.562,743.863 872.555,743.863 874.547,743.863 876.54,743.863 878.533,743.863 880.526,743.863 882.519,612.426 884.511,743.863 886.504,743.863 \n",
       "  888.497,875.301 890.49,875.301 892.483,875.301 894.475,875.301 896.468,875.301 898.461,875.301 900.454,875.301 902.447,1269.61 904.439,1269.61 906.432,1269.61 \n",
       "  908.425,1269.61 910.418,1269.61 912.411,1138.18 914.403,1138.18 916.396,1138.18 918.389,1138.18 920.382,1269.61 922.375,1138.18 924.367,1269.61 926.36,1269.61 \n",
       "  928.353,1269.61 930.346,1269.61 932.339,1269.61 934.331,1269.61 936.324,1269.61 938.317,1269.61 940.31,1269.61 942.303,1269.61 944.295,1269.61 946.288,1269.61 \n",
       "  948.281,1269.61 950.274,1269.61 952.267,1269.61 954.259,1269.61 956.252,1269.61 958.245,1269.61 960.238,1269.61 962.231,1269.61 964.223,1269.61 966.216,1269.61 \n",
       "  968.209,1269.61 970.202,1269.61 972.195,1269.61 974.187,1269.61 976.18,1269.61 978.173,1269.61 980.166,1269.61 982.159,1269.61 984.151,1269.61 986.144,1269.61 \n",
       "  988.137,1269.61 990.13,1269.61 992.123,1269.61 994.115,1269.61 996.108,1269.61 998.101,1138.18 1000.09,1138.18 1002.09,1269.61 1004.08,1269.61 1006.07,1269.61 \n",
       "  1008.06,1401.05 1010.06,1401.05 1012.05,1401.05 1014.04,1269.61 1016.04,875.301 1018.03,1401.05 1020.02,1269.61 1022.01,1269.61 1024.01,875.301 1026,875.301 \n",
       "  1027.99,875.301 1029.99,875.301 1031.98,875.301 1033.97,1138.18 1035.96,1006.74 1037.96,1006.74 1039.95,1138.18 1041.94,875.301 1043.94,1006.74 1045.93,875.301 \n",
       "  1047.92,1006.74 1049.91,1006.74 1051.91,875.301 1053.9,875.301 1055.89,1006.74 1057.88,1006.74 1059.88,1006.74 1061.87,1006.74 1063.86,1006.74 1065.86,1006.74 \n",
       "  1067.85,1006.74 1069.84,1006.74 1071.83,1006.74 1073.83,1006.74 1075.82,1006.74 1077.81,1006.74 1079.81,1006.74 1081.8,743.863 1083.79,743.863 1085.78,1006.74 \n",
       "  1087.78,875.301 1089.77,1006.74 1091.76,1006.74 1093.76,1006.74 1095.75,875.301 1097.74,875.301 1099.73,1006.74 1101.73,875.301 1103.72,1269.61 1105.71,1269.61 \n",
       "  1107.7,1138.18 1109.7,1138.18 1111.69,1138.18 1113.68,1138.18 1115.68,1138.18 1117.67,1138.18 1119.66,1269.61 1121.65,1269.61 1123.65,1269.61 1125.64,1269.61 \n",
       "  1127.63,1138.18 1129.63,1138.18 1131.62,1006.74 1133.61,1138.18 1135.6,1138.18 1137.6,1006.74 1139.59,1138.18 1141.58,1138.18 1143.58,1138.18 1145.57,1138.18 \n",
       "  1147.56,1269.61 1149.55,1269.61 1151.55,1269.61 1153.54,1269.61 1155.53,1138.18 1157.52,1269.61 1159.52,1269.61 1161.51,1269.61 1163.5,1269.61 1165.5,1269.61 \n",
       "  1167.49,1269.61 1169.48,1269.61 1171.47,1269.61 1173.47,1269.61 1175.46,1138.18 1177.45,1269.61 1179.45,1269.61 1181.44,1269.61 1183.43,1269.61 1185.42,1138.18 \n",
       "  1187.42,1138.18 1189.41,1269.61 1191.4,1138.18 1193.4,1138.18 1195.39,1006.74 1197.38,875.301 1199.37,1138.18 1201.37,1138.18 1203.36,1006.74 1205.35,1138.18 \n",
       "  1207.34,1138.18 1209.34,1138.18 1211.33,1138.18 1213.32,1138.18 1215.32,1138.18 1217.31,1138.18 1219.3,1138.18 1221.29,1138.18 1223.29,1138.18 1225.28,1269.61 \n",
       "  1227.27,1269.61 1229.27,1269.61 1231.26,1269.61 1233.25,1269.61 1235.24,1269.61 1237.24,1269.61 1239.23,1269.61 1241.22,1269.61 1243.22,1269.61 1245.21,1269.61 \n",
       "  1247.2,1269.61 1249.19,1269.61 1251.19,1269.61 1253.18,1269.61 1255.17,1269.61 1257.16,875.301 1259.16,875.301 1261.15,875.301 1263.14,1006.74 1265.14,1006.74 \n",
       "  1267.13,1138.18 1269.12,1138.18 1271.11,1138.18 1273.11,1138.18 1275.1,875.301 1277.09,1006.74 1279.09,875.301 1281.08,875.301 1283.07,743.863 1285.06,1006.74 \n",
       "  1287.06,1006.74 1289.05,1006.74 1291.04,1006.74 1293.04,1006.74 1295.03,1269.61 1297.02,1401.05 1299.01,1401.05 1301.01,1401.05 1303,1401.05 1304.99,1401.05 \n",
       "  1306.98,1138.18 1308.98,1138.18 1310.97,1138.18 1312.96,875.301 1314.96,1138.18 1316.95,1401.05 1318.94,612.426 1320.93,612.426 1322.93,875.301 1324.92,875.301 \n",
       "  1326.91,875.301 1328.91,875.301 1330.9,1138.18 1332.89,1138.18 1334.88,1138.18 1336.88,1138.18 1338.87,1269.61 1340.86,875.301 1342.86,743.863 1344.85,743.863 \n",
       "  1346.84,1006.74 1348.83,875.301 1350.83,875.301 1352.82,875.301 1354.81,1006.74 1356.8,1006.74 1358.8,1269.61 1360.79,1269.61 1362.78,1269.61 1364.78,1269.61 \n",
       "  1366.77,1006.74 1368.76,1006.74 1370.75,1006.74 1372.75,1269.61 1374.74,1269.61 1376.73,1269.61 1378.73,1138.18 1380.72,1138.18 1382.71,1269.61 1384.7,1269.61 \n",
       "  1386.7,1006.74 1388.69,1138.18 1390.68,1138.18 1392.68,1138.18 1394.67,1138.18 1396.66,1138.18 1398.65,1138.18 1400.65,1006.74 1402.64,1138.18 1404.63,1006.74 \n",
       "  1406.62,1006.74 1408.62,1006.74 1410.61,1006.74 1412.6,1006.74 1414.6,1006.74 1416.59,612.426 1418.58,875.301 1420.57,875.301 1422.57,875.301 1424.56,1006.74 \n",
       "  1426.55,1006.74 1428.55,1006.74 1430.54,1006.74 1432.53,1006.74 1434.52,1006.74 1436.52,743.863 1438.51,1006.74 1440.5,1006.74 1442.5,875.301 1444.49,875.301 \n",
       "  1446.48,1138.18 1448.47,1269.61 1450.47,1269.61 1452.46,1138.18 1454.45,1269.61 1456.44,1401.05 1458.44,1269.61 1460.43,1138.18 1462.42,1401.05 1464.42,1401.05 \n",
       "  1466.41,1401.05 1468.4,743.863 1470.39,612.426 1472.39,612.426 1474.38,612.426 1476.37,612.426 1478.37,612.426 1480.36,612.426 1482.35,1138.18 1484.34,1138.18 \n",
       "  1486.34,1006.74 1488.33,875.301 1490.32,875.301 1492.32,743.863 1494.31,743.863 1496.3,875.301 1498.29,875.301 1500.29,875.301 1502.28,743.863 1504.27,743.863 \n",
       "  1506.26,743.863 1508.26,743.863 1510.25,743.863 1512.24,743.863 1514.24,1006.74 1516.23,1006.74 1518.22,1006.74 1520.21,1006.74 1522.21,1006.74 1524.2,1269.61 \n",
       "  1526.19,1269.61 1528.19,1269.61 1530.18,1269.61 1532.17,1269.61 1534.16,1269.61 1536.16,1269.61 1538.15,1269.61 1540.14,1269.61 1542.14,1269.61 1544.13,1269.61 \n",
       "  1546.12,1138.18 1548.11,1006.74 1550.11,1006.74 1552.1,1006.74 1554.09,1138.18 1556.08,1138.18 1558.08,1138.18 1560.07,1138.18 1562.06,1138.18 1564.06,1138.18 \n",
       "  1566.05,1138.18 1568.04,875.301 1570.03,1138.18 1572.03,1006.74 1574.02,1138.18 1576.01,1138.18 1578.01,1006.74 1580,875.301 1581.99,1138.18 1583.98,1006.74 \n",
       "  1585.98,1006.74 1587.97,1006.74 1589.96,1138.18 1591.96,1138.18 1593.95,1006.74 1595.94,1138.18 1597.93,1138.18 1599.93,1138.18 1601.92,1138.18 1603.91,1138.18 \n",
       "  1605.9,1006.74 1607.9,875.301 1609.89,1006.74 1611.88,1269.61 1613.88,1269.61 1615.87,1269.61 1617.86,1138.18 1619.85,1269.61 1621.85,1138.18 1623.84,1269.61 \n",
       "  1625.83,1401.05 1627.83,1401.05 1629.82,1401.05 1631.81,1401.05 1633.8,1401.05 1635.8,1401.05 1637.79,1401.05 1639.78,1401.05 1641.78,1401.05 1643.77,1401.05 \n",
       "  1645.76,1269.61 1647.75,1269.61 1649.75,1006.74 1651.74,1006.74 1653.73,1006.74 1655.72,1006.74 1657.72,875.301 1659.71,875.301 1661.7,1138.18 1663.7,1269.61 \n",
       "  1665.69,1138.18 1667.68,1138.18 1669.67,1138.18 1671.67,1138.18 1673.66,1138.18 1675.65,1006.74 1677.65,1269.61 1679.64,1006.74 1681.63,1138.18 1683.62,1138.18 \n",
       "  1685.62,1138.18 1687.61,1138.18 1689.6,1006.74 1691.6,1006.74 1693.59,1269.61 1695.58,1138.18 1697.57,1269.61 1699.57,1269.61 1701.56,1269.61 1703.55,1269.61 \n",
       "  1705.54,1006.74 1707.54,1269.61 1709.53,1269.61 1711.52,875.301 1713.52,1138.18 1715.51,1138.18 1717.5,875.301 1719.49,875.301 1721.49,875.301 1723.48,743.863 \n",
       "  1725.47,743.863 1727.47,743.863 1729.46,743.863 1731.45,743.863 1733.44,743.863 1735.44,743.863 1737.43,743.863 1739.42,612.426 1741.42,743.863 1743.41,743.863 \n",
       "  1745.4,743.863 1747.39,743.863 1749.39,743.863 1751.38,612.426 1753.37,743.863 1755.36,743.863 1757.36,612.426 1759.35,743.863 1761.34,743.863 1763.34,743.863 \n",
       "  1765.33,743.863 1767.32,743.863 1769.31,743.863 1771.31,743.863 1773.3,743.863 1775.29,743.863 1777.29,743.863 1779.28,743.863 1781.27,743.863 1783.26,743.863 \n",
       "  1785.26,743.863 1787.25,743.863 1789.24,743.863 1791.24,743.863 1793.23,612.426 1795.22,743.863 1797.21,743.863 1799.21,743.863 1801.2,743.863 1803.19,743.863 \n",
       "  1805.18,612.426 1807.18,1138.18 1809.17,1138.18 1811.16,1138.18 1813.16,1006.74 1815.15,875.301 1817.14,875.301 1819.13,875.301 1821.13,743.863 1823.12,875.301 \n",
       "  1825.11,875.301 1827.11,875.301 1829.1,875.301 1831.09,875.301 1833.08,875.301 1835.08,875.301 1837.07,875.301 1839.06,875.301 1841.06,875.301 1843.05,875.301 \n",
       "  1845.04,875.301 1847.03,875.301 1849.03,875.301 1851.02,743.863 1853.01,743.863 1855,875.301 1857,875.301 1858.99,875.301 1860.98,743.863 1862.98,743.863 \n",
       "  1864.97,875.301 1866.96,875.301 1868.95,875.301 1870.95,875.301 1872.94,875.301 1874.93,875.301 1876.93,875.301 1878.92,875.301 1880.91,875.301 1882.9,875.301 \n",
       "  1884.9,875.301 1886.89,875.301 1888.88,875.301 1890.87,875.301 1892.87,875.301 1894.86,875.301 1896.85,1006.74 1898.85,1006.74 1900.84,1006.74 1902.83,1006.74 \n",
       "  1904.82,1006.74 1906.82,1006.74 1908.81,1006.74 1910.8,1006.74 1912.8,1006.74 1914.79,875.301 1916.78,875.301 1918.77,1138.18 1920.77,1138.18 1922.76,1138.18 \n",
       "  1924.75,1269.61 1926.75,875.301 1928.74,1269.61 1930.73,1269.61 1932.72,1269.61 1934.72,1138.18 1936.71,1269.61 1938.7,1269.61 1940.69,1006.74 1942.69,1006.74 \n",
       "  1944.68,1006.74 1946.67,875.301 1948.67,875.301 1950.66,875.301 1952.65,875.301 1954.64,1138.18 1956.64,1138.18 1958.63,1138.18 1960.62,1138.18 1962.62,1138.18 \n",
       "  1964.61,1006.74 1966.6,875.301 1968.59,875.301 1970.59,875.301 1972.58,1138.18 1974.57,1006.74 1976.57,875.301 1978.56,1006.74 1980.55,1006.74 1982.54,1006.74 \n",
       "  1984.54,1006.74 1986.53,1138.18 1988.52,1138.18 1990.51,1138.18 1992.51,1138.18 1994.5,1138.18 1996.49,1138.18 1998.49,1138.18 2000.48,1138.18 2002.47,1006.74 \n",
       "  2004.46,875.301 2006.46,1006.74 2008.45,1006.74 2010.44,1006.74 2012.44,1006.74 2014.43,1006.74 2016.42,1006.74 2018.41,1006.74 2020.41,1006.74 2022.4,875.301 \n",
       "  2024.39,1138.18 2026.39,1138.18 2028.38,1138.18 2030.37,1138.18 2032.36,1138.18 2034.36,1006.74 2036.35,1006.74 2038.34,1006.74 2040.33,1138.18 2042.33,1138.18 \n",
       "  2044.32,1138.18 2046.31,1138.18 2048.31,1138.18 2050.3,1138.18 2052.29,1138.18 2054.28,1138.18 2056.28,1138.18 2058.27,1138.18 2060.26,1138.18 2062.26,1138.18 \n",
       "  2064.25,1138.18 2066.24,1138.18 2068.23,1138.18 2070.23,1138.18 2072.22,1138.18 2074.21,1138.18 2076.21,1138.18 2078.2,1006.74 2080.19,1006.74 2082.18,1006.74 \n",
       "  2084.18,1138.18 2086.17,1138.18 2088.16,1138.18 2090.15,1138.18 2092.15,1138.18 2094.14,1138.18 2096.13,1138.18 2098.13,1138.18 2100.12,1138.18 2102.11,1138.18 \n",
       "  2104.1,1006.74 2106.1,1006.74 2108.09,1006.74 2110.08,1006.74 2112.08,875.301 2114.07,875.301 2116.06,875.301 2118.05,1138.18 2120.05,1138.18 2122.04,1138.18 \n",
       "  2124.03,1138.18 2126.03,1138.18 2128.02,1138.18 2130.01,1138.18 2132,1138.18 2134,1138.18 2135.99,1138.18 2137.98,1138.18 2139.97,1138.18 2141.97,1138.18 \n",
       "  2143.96,1138.18 2145.95,1138.18 2147.95,1138.18 2149.94,1138.18 2151.93,1006.74 2153.92,1006.74 2155.92,875.301 2157.91,875.301 2159.9,1006.74 2161.9,1006.74 \n",
       "  2163.89,1006.74 2165.88,1006.74 2167.87,1006.74 2169.87,1006.74 2171.86,1006.74 2173.85,1006.74 2175.85,1006.74 2177.84,1006.74 2179.83,1006.74 2181.82,1006.74 \n",
       "  2183.82,1006.74 2185.81,1138.18 2187.8,1138.18 2189.79,1138.18 2191.79,1138.18 2193.78,1138.18 2195.77,1138.18 2197.77,1006.74 2199.76,1006.74 2201.75,1138.18 \n",
       "  2203.74,1138.18 2205.74,1138.18 2207.73,1138.18 2209.72,1138.18 2211.72,1138.18 2213.71,1138.18 2215.7,1138.18 2217.69,1138.18 2219.69,1138.18 2221.68,1138.18 \n",
       "  2223.67,1006.74 2225.67,1138.18 2227.66,1138.18 2229.65,1138.18 2231.64,1138.18 2233.64,1138.18 2235.63,1138.18 2237.62,1138.18 2239.61,1138.18 2241.61,1138.18 \n",
       "  2243.6,1138.18 2245.59,1138.18 2247.59,1138.18 2249.58,1138.18 2251.57,1138.18 2253.56,1138.18 2255.56,1138.18 2257.55,1138.18 2259.54,1138.18 2261.54,1138.18 \n",
       "  \n",
       "  \"/>\n",
       "<polygon clip-path=\"url(#clip0901)\" points=\"\n",
       "1843.39,251.724 2249.26,251.724 2249.26,130.764 1843.39,130.764 \n",
       "  \" fill=\"#ffffff\" fill-rule=\"evenodd\" fill-opacity=\"1\"/>\n",
       "<polyline clip-path=\"url(#clip0901)\" style=\"stroke:#000000; stroke-width:4; stroke-opacity:1; fill:none\" points=\"\n",
       "  1843.39,251.724 2249.26,251.724 2249.26,130.764 1843.39,130.764 1843.39,251.724 \n",
       "  \"/>\n",
       "<polyline clip-path=\"url(#clip0901)\" style=\"stroke:#009af9; stroke-width:4; stroke-opacity:1; fill:none\" points=\"\n",
       "  1867.39,191.244 2011.39,191.244 \n",
       "  \"/>\n",
       "<g clip-path=\"url(#clip0901)\">\n",
       "<text style=\"fill:#000000; fill-opacity:1; font-family:Arial,Helvetica Neue,Helvetica,sans-serif; font-size:48px; text-anchor:start;\" transform=\"rotate(0, 2035.39, 208.744)\" x=\"2035.39\" y=\"208.744\">Chain 1</text>\n",
       "</g>\n",
       "</svg>\n"
      ]
     },
     "execution_count": 17,
     "metadata": {},
     "output_type": "execute_result"
    }
   ],
   "source": [
    "# Visualize the number of clusters.\n",
    "plot(k, xlabel = \"Iteration\", ylabel = \"Number of clusters\", label = \"Chain 1\")"
   ]
  },
  {
   "cell_type": "markdown",
   "metadata": {},
   "source": [
    "If we visualize the histgram of the number of clusters sampled from our posterior, we can observe that the model seems to prefer 3 clusters, which is the true number of clusters. Note that the number of clusters in a Dirichlet process mixture model is not limited a priori and will grow to infinity with probability one. However, if conditioned on data the posterior will concentrate on a finite number of clusters enforcing the resulting model to have a finite amount of clusters. It is, however, not given that the posterior of a Dirichlet process Gaussian mixture model converges to the true number of clusters, given that data comes from a finite mixture model. See Jeffrey Miller and Matthew Harrison: [A simple example of Dirichlet process mixture inconsitency for the number ov components](https://arxiv.org/pdf/1301.2708.pdf) for details."
   ]
  },
  {
   "cell_type": "code",
   "execution_count": 20,
   "metadata": {},
   "outputs": [
    {
     "data": {
      "image/svg+xml": [
       "<?xml version=\"1.0\" encoding=\"utf-8\"?>\n",
       "<svg xmlns=\"http://www.w3.org/2000/svg\" xmlns:xlink=\"http://www.w3.org/1999/xlink\" width=\"600\" height=\"400\" viewBox=\"0 0 2400 1600\">\n",
       "<defs>\n",
       "  <clipPath id=\"clip1500\">\n",
       "    <rect x=\"0\" y=\"0\" width=\"2000\" height=\"2000\"/>\n",
       "  </clipPath>\n",
       "</defs>\n",
       "<defs>\n",
       "  <clipPath id=\"clip1501\">\n",
       "    <rect x=\"0\" y=\"0\" width=\"2400\" height=\"1600\"/>\n",
       "  </clipPath>\n",
       "</defs>\n",
       "<polygon clip-path=\"url(#clip1501)\" points=\"\n",
       "0,1600 2400,1600 2400,0 0,0 \n",
       "  \" fill=\"#ffffff\" fill-rule=\"evenodd\" fill-opacity=\"1\"/>\n",
       "<defs>\n",
       "  <clipPath id=\"clip1502\">\n",
       "    <rect x=\"480\" y=\"0\" width=\"1681\" height=\"1600\"/>\n",
       "  </clipPath>\n",
       "</defs>\n",
       "<polygon clip-path=\"url(#clip1501)\" points=\"\n",
       "174.775,1440.48 2321.26,1440.48 2321.26,47.2441 174.775,47.2441 \n",
       "  \" fill=\"#ffffff\" fill-rule=\"evenodd\" fill-opacity=\"1\"/>\n",
       "<defs>\n",
       "  <clipPath id=\"clip1503\">\n",
       "    <rect x=\"174\" y=\"47\" width=\"2147\" height=\"1394\"/>\n",
       "  </clipPath>\n",
       "</defs>\n",
       "<polyline clip-path=\"url(#clip1503)\" style=\"stroke:#000000; stroke-width:2; stroke-opacity:0.1; fill:none\" points=\"\n",
       "  565.745,1440.48 565.745,47.2441 \n",
       "  \"/>\n",
       "<polyline clip-path=\"url(#clip1503)\" style=\"stroke:#000000; stroke-width:2; stroke-opacity:0.1; fill:none\" points=\"\n",
       "  1020.59,1440.48 1020.59,47.2441 \n",
       "  \"/>\n",
       "<polyline clip-path=\"url(#clip1503)\" style=\"stroke:#000000; stroke-width:2; stroke-opacity:0.1; fill:none\" points=\"\n",
       "  1475.44,1440.48 1475.44,47.2441 \n",
       "  \"/>\n",
       "<polyline clip-path=\"url(#clip1503)\" style=\"stroke:#000000; stroke-width:2; stroke-opacity:0.1; fill:none\" points=\"\n",
       "  1930.29,1440.48 1930.29,47.2441 \n",
       "  \"/>\n",
       "<polyline clip-path=\"url(#clip1503)\" style=\"stroke:#000000; stroke-width:2; stroke-opacity:0.1; fill:none\" points=\"\n",
       "  174.775,1401.05 2321.26,1401.05 \n",
       "  \"/>\n",
       "<polyline clip-path=\"url(#clip1503)\" style=\"stroke:#000000; stroke-width:2; stroke-opacity:0.1; fill:none\" points=\"\n",
       "  174.775,1144.34 2321.26,1144.34 \n",
       "  \"/>\n",
       "<polyline clip-path=\"url(#clip1503)\" style=\"stroke:#000000; stroke-width:2; stroke-opacity:0.1; fill:none\" points=\"\n",
       "  174.775,887.623 2321.26,887.623 \n",
       "  \"/>\n",
       "<polyline clip-path=\"url(#clip1503)\" style=\"stroke:#000000; stroke-width:2; stroke-opacity:0.1; fill:none\" points=\"\n",
       "  174.775,630.909 2321.26,630.909 \n",
       "  \"/>\n",
       "<polyline clip-path=\"url(#clip1503)\" style=\"stroke:#000000; stroke-width:2; stroke-opacity:0.1; fill:none\" points=\"\n",
       "  174.775,374.195 2321.26,374.195 \n",
       "  \"/>\n",
       "<polyline clip-path=\"url(#clip1503)\" style=\"stroke:#000000; stroke-width:2; stroke-opacity:0.1; fill:none\" points=\"\n",
       "  174.775,117.481 2321.26,117.481 \n",
       "  \"/>\n",
       "<polyline clip-path=\"url(#clip1501)\" style=\"stroke:#000000; stroke-width:4; stroke-opacity:1; fill:none\" points=\"\n",
       "  174.775,1440.48 2321.26,1440.48 \n",
       "  \"/>\n",
       "<polyline clip-path=\"url(#clip1501)\" style=\"stroke:#000000; stroke-width:4; stroke-opacity:1; fill:none\" points=\"\n",
       "  174.775,1440.48 174.775,47.2441 \n",
       "  \"/>\n",
       "<polyline clip-path=\"url(#clip1501)\" style=\"stroke:#000000; stroke-width:4; stroke-opacity:1; fill:none\" points=\"\n",
       "  565.745,1440.48 565.745,1419.58 \n",
       "  \"/>\n",
       "<polyline clip-path=\"url(#clip1501)\" style=\"stroke:#000000; stroke-width:4; stroke-opacity:1; fill:none\" points=\"\n",
       "  1020.59,1440.48 1020.59,1419.58 \n",
       "  \"/>\n",
       "<polyline clip-path=\"url(#clip1501)\" style=\"stroke:#000000; stroke-width:4; stroke-opacity:1; fill:none\" points=\"\n",
       "  1475.44,1440.48 1475.44,1419.58 \n",
       "  \"/>\n",
       "<polyline clip-path=\"url(#clip1501)\" style=\"stroke:#000000; stroke-width:4; stroke-opacity:1; fill:none\" points=\"\n",
       "  1930.29,1440.48 1930.29,1419.58 \n",
       "  \"/>\n",
       "<polyline clip-path=\"url(#clip1501)\" style=\"stroke:#000000; stroke-width:4; stroke-opacity:1; fill:none\" points=\"\n",
       "  174.775,1401.05 206.972,1401.05 \n",
       "  \"/>\n",
       "<polyline clip-path=\"url(#clip1501)\" style=\"stroke:#000000; stroke-width:4; stroke-opacity:1; fill:none\" points=\"\n",
       "  174.775,1144.34 206.972,1144.34 \n",
       "  \"/>\n",
       "<polyline clip-path=\"url(#clip1501)\" style=\"stroke:#000000; stroke-width:4; stroke-opacity:1; fill:none\" points=\"\n",
       "  174.775,887.623 206.972,887.623 \n",
       "  \"/>\n",
       "<polyline clip-path=\"url(#clip1501)\" style=\"stroke:#000000; stroke-width:4; stroke-opacity:1; fill:none\" points=\"\n",
       "  174.775,630.909 206.972,630.909 \n",
       "  \"/>\n",
       "<polyline clip-path=\"url(#clip1501)\" style=\"stroke:#000000; stroke-width:4; stroke-opacity:1; fill:none\" points=\"\n",
       "  174.775,374.195 206.972,374.195 \n",
       "  \"/>\n",
       "<polyline clip-path=\"url(#clip1501)\" style=\"stroke:#000000; stroke-width:4; stroke-opacity:1; fill:none\" points=\"\n",
       "  174.775,117.481 206.972,117.481 \n",
       "  \"/>\n",
       "<g clip-path=\"url(#clip1501)\">\n",
       "<text style=\"fill:#000000; fill-opacity:1; font-family:Arial,Helvetica Neue,Helvetica,sans-serif; font-size:48px; text-anchor:middle;\" transform=\"rotate(0, 565.745, 1494.48)\" x=\"565.745\" y=\"1494.48\">2.5</text>\n",
       "</g>\n",
       "<g clip-path=\"url(#clip1501)\">\n",
       "<text style=\"fill:#000000; fill-opacity:1; font-family:Arial,Helvetica Neue,Helvetica,sans-serif; font-size:48px; text-anchor:middle;\" transform=\"rotate(0, 1020.59, 1494.48)\" x=\"1020.59\" y=\"1494.48\">5.0</text>\n",
       "</g>\n",
       "<g clip-path=\"url(#clip1501)\">\n",
       "<text style=\"fill:#000000; fill-opacity:1; font-family:Arial,Helvetica Neue,Helvetica,sans-serif; font-size:48px; text-anchor:middle;\" transform=\"rotate(0, 1475.44, 1494.48)\" x=\"1475.44\" y=\"1494.48\">7.5</text>\n",
       "</g>\n",
       "<g clip-path=\"url(#clip1501)\">\n",
       "<text style=\"fill:#000000; fill-opacity:1; font-family:Arial,Helvetica Neue,Helvetica,sans-serif; font-size:48px; text-anchor:middle;\" transform=\"rotate(0, 1930.29, 1494.48)\" x=\"1930.29\" y=\"1494.48\">10.0</text>\n",
       "</g>\n",
       "<g clip-path=\"url(#clip1501)\">\n",
       "<text style=\"fill:#000000; fill-opacity:1; font-family:Arial,Helvetica Neue,Helvetica,sans-serif; font-size:48px; text-anchor:end;\" transform=\"rotate(0, 150.775, 1418.55)\" x=\"150.775\" y=\"1418.55\">0</text>\n",
       "</g>\n",
       "<g clip-path=\"url(#clip1501)\">\n",
       "<text style=\"fill:#000000; fill-opacity:1; font-family:Arial,Helvetica Neue,Helvetica,sans-serif; font-size:48px; text-anchor:end;\" transform=\"rotate(0, 150.775, 1161.84)\" x=\"150.775\" y=\"1161.84\">50</text>\n",
       "</g>\n",
       "<g clip-path=\"url(#clip1501)\">\n",
       "<text style=\"fill:#000000; fill-opacity:1; font-family:Arial,Helvetica Neue,Helvetica,sans-serif; font-size:48px; text-anchor:end;\" transform=\"rotate(0, 150.775, 905.123)\" x=\"150.775\" y=\"905.123\">100</text>\n",
       "</g>\n",
       "<g clip-path=\"url(#clip1501)\">\n",
       "<text style=\"fill:#000000; fill-opacity:1; font-family:Arial,Helvetica Neue,Helvetica,sans-serif; font-size:48px; text-anchor:end;\" transform=\"rotate(0, 150.775, 648.409)\" x=\"150.775\" y=\"648.409\">150</text>\n",
       "</g>\n",
       "<g clip-path=\"url(#clip1501)\">\n",
       "<text style=\"fill:#000000; fill-opacity:1; font-family:Arial,Helvetica Neue,Helvetica,sans-serif; font-size:48px; text-anchor:end;\" transform=\"rotate(0, 150.775, 391.695)\" x=\"150.775\" y=\"391.695\">200</text>\n",
       "</g>\n",
       "<g clip-path=\"url(#clip1501)\">\n",
       "<text style=\"fill:#000000; fill-opacity:1; font-family:Arial,Helvetica Neue,Helvetica,sans-serif; font-size:48px; text-anchor:end;\" transform=\"rotate(0, 150.775, 134.981)\" x=\"150.775\" y=\"134.981\">250</text>\n",
       "</g>\n",
       "<g clip-path=\"url(#clip1501)\">\n",
       "<text style=\"fill:#000000; fill-opacity:1; font-family:Arial,Helvetica Neue,Helvetica,sans-serif; font-size:66px; text-anchor:middle;\" transform=\"rotate(0, 1248.02, 1590.4)\" x=\"1248.02\" y=\"1590.4\">Number of clusters</text>\n",
       "</g>\n",
       "<polygon clip-path=\"url(#clip1503)\" points=\"\n",
       "292.836,1277.83 292.836,1401.05 383.805,1401.05 383.805,1277.83 292.836,1277.83 292.836,1277.83 \n",
       "  \" fill=\"#009af9\" fill-rule=\"evenodd\" fill-opacity=\"1\"/>\n",
       "<polyline clip-path=\"url(#clip1503)\" style=\"stroke:#000000; stroke-width:4; stroke-opacity:1; fill:none\" points=\"\n",
       "  292.836,1277.83 292.836,1401.05 383.805,1401.05 383.805,1277.83 292.836,1277.83 \n",
       "  \"/>\n",
       "<polygon clip-path=\"url(#clip1503)\" points=\"\n",
       "383.805,1401.05 383.805,1401.05 474.775,1401.05 474.775,1401.05 383.805,1401.05 383.805,1401.05 \n",
       "  \" fill=\"#009af9\" fill-rule=\"evenodd\" fill-opacity=\"1\"/>\n",
       "<polyline clip-path=\"url(#clip1503)\" style=\"stroke:#000000; stroke-width:4; stroke-opacity:1; fill:none\" points=\"\n",
       "  383.805,1401.05 383.805,1401.05 474.775,1401.05 383.805,1401.05 \n",
       "  \"/>\n",
       "<polygon clip-path=\"url(#clip1503)\" points=\"\n",
       "474.775,487.149 474.775,1401.05 565.745,1401.05 565.745,487.149 474.775,487.149 474.775,487.149 \n",
       "  \" fill=\"#009af9\" fill-rule=\"evenodd\" fill-opacity=\"1\"/>\n",
       "<polyline clip-path=\"url(#clip1503)\" style=\"stroke:#000000; stroke-width:4; stroke-opacity:1; fill:none\" points=\"\n",
       "  474.775,487.149 474.775,1401.05 565.745,1401.05 565.745,487.149 474.775,487.149 \n",
       "  \"/>\n",
       "<polygon clip-path=\"url(#clip1503)\" points=\"\n",
       "565.745,1401.05 565.745,1401.05 656.714,1401.05 656.714,1401.05 565.745,1401.05 565.745,1401.05 \n",
       "  \" fill=\"#009af9\" fill-rule=\"evenodd\" fill-opacity=\"1\"/>\n",
       "<polyline clip-path=\"url(#clip1503)\" style=\"stroke:#000000; stroke-width:4; stroke-opacity:1; fill:none\" points=\"\n",
       "  565.745,1401.05 565.745,1401.05 656.714,1401.05 565.745,1401.05 \n",
       "  \"/>\n",
       "<polygon clip-path=\"url(#clip1503)\" points=\"\n",
       "656.714,86.6754 656.714,1401.05 747.684,1401.05 747.684,86.6754 656.714,86.6754 656.714,86.6754 \n",
       "  \" fill=\"#009af9\" fill-rule=\"evenodd\" fill-opacity=\"1\"/>\n",
       "<polyline clip-path=\"url(#clip1503)\" style=\"stroke:#000000; stroke-width:4; stroke-opacity:1; fill:none\" points=\"\n",
       "  656.714,86.6754 656.714,1401.05 747.684,1401.05 747.684,86.6754 656.714,86.6754 \n",
       "  \"/>\n",
       "<polygon clip-path=\"url(#clip1503)\" points=\"\n",
       "747.684,1401.05 747.684,1401.05 838.654,1401.05 838.654,1401.05 747.684,1401.05 747.684,1401.05 \n",
       "  \" fill=\"#009af9\" fill-rule=\"evenodd\" fill-opacity=\"1\"/>\n",
       "<polyline clip-path=\"url(#clip1503)\" style=\"stroke:#000000; stroke-width:4; stroke-opacity:1; fill:none\" points=\"\n",
       "  747.684,1401.05 747.684,1401.05 838.654,1401.05 747.684,1401.05 \n",
       "  \"/>\n",
       "<polygon clip-path=\"url(#clip1503)\" points=\"\n",
       "838.654,456.344 838.654,1401.05 929.624,1401.05 929.624,456.344 838.654,456.344 838.654,456.344 \n",
       "  \" fill=\"#009af9\" fill-rule=\"evenodd\" fill-opacity=\"1\"/>\n",
       "<polyline clip-path=\"url(#clip1503)\" style=\"stroke:#000000; stroke-width:4; stroke-opacity:1; fill:none\" points=\"\n",
       "  838.654,456.344 838.654,1401.05 929.624,1401.05 929.624,456.344 838.654,456.344 \n",
       "  \"/>\n",
       "<polygon clip-path=\"url(#clip1503)\" points=\"\n",
       "929.624,1401.05 929.624,1401.05 1020.59,1401.05 1020.59,1401.05 929.624,1401.05 929.624,1401.05 \n",
       "  \" fill=\"#009af9\" fill-rule=\"evenodd\" fill-opacity=\"1\"/>\n",
       "<polyline clip-path=\"url(#clip1503)\" style=\"stroke:#000000; stroke-width:4; stroke-opacity:1; fill:none\" points=\"\n",
       "  929.624,1401.05 929.624,1401.05 1020.59,1401.05 929.624,1401.05 \n",
       "  \"/>\n",
       "<polygon clip-path=\"url(#clip1503)\" points=\"\n",
       "1020.59,594.969 1020.59,1401.05 1111.56,1401.05 1111.56,594.969 1020.59,594.969 1020.59,594.969 \n",
       "  \" fill=\"#009af9\" fill-rule=\"evenodd\" fill-opacity=\"1\"/>\n",
       "<polyline clip-path=\"url(#clip1503)\" style=\"stroke:#000000; stroke-width:4; stroke-opacity:1; fill:none\" points=\"\n",
       "  1020.59,594.969 1020.59,1401.05 1111.56,1401.05 1111.56,594.969 1020.59,594.969 \n",
       "  \"/>\n",
       "<polygon clip-path=\"url(#clip1503)\" points=\"\n",
       "1111.56,1401.05 1111.56,1401.05 1202.53,1401.05 1202.53,1401.05 1111.56,1401.05 1111.56,1401.05 \n",
       "  \" fill=\"#009af9\" fill-rule=\"evenodd\" fill-opacity=\"1\"/>\n",
       "<polyline clip-path=\"url(#clip1503)\" style=\"stroke:#000000; stroke-width:4; stroke-opacity:1; fill:none\" points=\"\n",
       "  1111.56,1401.05 1111.56,1401.05 1202.53,1401.05 1111.56,1401.05 \n",
       "  \"/>\n",
       "<polygon clip-path=\"url(#clip1503)\" points=\"\n",
       "1202.53,779.803 1202.53,1401.05 1293.5,1401.05 1293.5,779.803 1202.53,779.803 1202.53,779.803 \n",
       "  \" fill=\"#009af9\" fill-rule=\"evenodd\" fill-opacity=\"1\"/>\n",
       "<polyline clip-path=\"url(#clip1503)\" style=\"stroke:#000000; stroke-width:4; stroke-opacity:1; fill:none\" points=\"\n",
       "  1202.53,779.803 1202.53,1401.05 1293.5,1401.05 1293.5,779.803 1202.53,779.803 \n",
       "  \"/>\n",
       "<polygon clip-path=\"url(#clip1503)\" points=\"\n",
       "1293.5,1401.05 1293.5,1401.05 1384.47,1401.05 1384.47,1401.05 1293.5,1401.05 1293.5,1401.05 \n",
       "  \" fill=\"#009af9\" fill-rule=\"evenodd\" fill-opacity=\"1\"/>\n",
       "<polyline clip-path=\"url(#clip1503)\" style=\"stroke:#000000; stroke-width:4; stroke-opacity:1; fill:none\" points=\"\n",
       "  1293.5,1401.05 1293.5,1401.05 1384.47,1401.05 1293.5,1401.05 \n",
       "  \"/>\n",
       "<polygon clip-path=\"url(#clip1503)\" points=\"\n",
       "1384.47,1272.69 1384.47,1401.05 1475.44,1401.05 1475.44,1272.69 1384.47,1272.69 1384.47,1272.69 \n",
       "  \" fill=\"#009af9\" fill-rule=\"evenodd\" fill-opacity=\"1\"/>\n",
       "<polyline clip-path=\"url(#clip1503)\" style=\"stroke:#000000; stroke-width:4; stroke-opacity:1; fill:none\" points=\"\n",
       "  1384.47,1272.69 1384.47,1401.05 1475.44,1401.05 1475.44,1272.69 1384.47,1272.69 \n",
       "  \"/>\n",
       "<polygon clip-path=\"url(#clip1503)\" points=\"\n",
       "1475.44,1401.05 1475.44,1401.05 1566.41,1401.05 1566.41,1401.05 1475.44,1401.05 1475.44,1401.05 \n",
       "  \" fill=\"#009af9\" fill-rule=\"evenodd\" fill-opacity=\"1\"/>\n",
       "<polyline clip-path=\"url(#clip1503)\" style=\"stroke:#000000; stroke-width:4; stroke-opacity:1; fill:none\" points=\"\n",
       "  1475.44,1401.05 1475.44,1401.05 1566.41,1401.05 1475.44,1401.05 \n",
       "  \"/>\n",
       "<polygon clip-path=\"url(#clip1503)\" points=\"\n",
       "1566.41,1395.92 1566.41,1401.05 1657.38,1401.05 1657.38,1395.92 1566.41,1395.92 1566.41,1395.92 \n",
       "  \" fill=\"#009af9\" fill-rule=\"evenodd\" fill-opacity=\"1\"/>\n",
       "<polyline clip-path=\"url(#clip1503)\" style=\"stroke:#000000; stroke-width:4; stroke-opacity:1; fill:none\" points=\"\n",
       "  1566.41,1395.92 1566.41,1401.05 1657.38,1401.05 1657.38,1395.92 1566.41,1395.92 \n",
       "  \"/>\n",
       "<polygon clip-path=\"url(#clip1503)\" points=\"\n",
       "1657.38,1401.05 1657.38,1401.05 1748.35,1401.05 1748.35,1401.05 1657.38,1401.05 1657.38,1401.05 \n",
       "  \" fill=\"#009af9\" fill-rule=\"evenodd\" fill-opacity=\"1\"/>\n",
       "<polyline clip-path=\"url(#clip1503)\" style=\"stroke:#000000; stroke-width:4; stroke-opacity:1; fill:none\" points=\"\n",
       "  1657.38,1401.05 1657.38,1401.05 1748.35,1401.05 1657.38,1401.05 \n",
       "  \"/>\n",
       "<polygon clip-path=\"url(#clip1503)\" points=\"\n",
       "1748.35,1329.17 1748.35,1401.05 1839.32,1401.05 1839.32,1329.17 1748.35,1329.17 1748.35,1329.17 \n",
       "  \" fill=\"#009af9\" fill-rule=\"evenodd\" fill-opacity=\"1\"/>\n",
       "<polyline clip-path=\"url(#clip1503)\" style=\"stroke:#000000; stroke-width:4; stroke-opacity:1; fill:none\" points=\"\n",
       "  1748.35,1329.17 1748.35,1401.05 1839.32,1401.05 1839.32,1329.17 1748.35,1329.17 \n",
       "  \"/>\n",
       "<polygon clip-path=\"url(#clip1503)\" points=\"\n",
       "1839.32,1401.05 1839.32,1401.05 1930.29,1401.05 1930.29,1401.05 1839.32,1401.05 1839.32,1401.05 \n",
       "  \" fill=\"#009af9\" fill-rule=\"evenodd\" fill-opacity=\"1\"/>\n",
       "<polyline clip-path=\"url(#clip1503)\" style=\"stroke:#000000; stroke-width:4; stroke-opacity:1; fill:none\" points=\"\n",
       "  1839.32,1401.05 1839.32,1401.05 1930.29,1401.05 1839.32,1401.05 \n",
       "  \"/>\n",
       "<polygon clip-path=\"url(#clip1503)\" points=\"\n",
       "1930.29,1257.29 1930.29,1401.05 2021.26,1401.05 2021.26,1257.29 1930.29,1257.29 1930.29,1257.29 \n",
       "  \" fill=\"#009af9\" fill-rule=\"evenodd\" fill-opacity=\"1\"/>\n",
       "<polyline clip-path=\"url(#clip1503)\" style=\"stroke:#000000; stroke-width:4; stroke-opacity:1; fill:none\" points=\"\n",
       "  1930.29,1257.29 1930.29,1401.05 2021.26,1401.05 2021.26,1257.29 1930.29,1257.29 \n",
       "  \"/>\n",
       "<polygon clip-path=\"url(#clip1503)\" points=\"\n",
       "2021.26,1401.05 2021.26,1401.05 2112.23,1401.05 2112.23,1401.05 2021.26,1401.05 2021.26,1401.05 \n",
       "  \" fill=\"#009af9\" fill-rule=\"evenodd\" fill-opacity=\"1\"/>\n",
       "<polyline clip-path=\"url(#clip1503)\" style=\"stroke:#000000; stroke-width:4; stroke-opacity:1; fill:none\" points=\"\n",
       "  2021.26,1401.05 2021.26,1401.05 2112.23,1401.05 2021.26,1401.05 \n",
       "  \"/>\n",
       "<polygon clip-path=\"url(#clip1503)\" points=\"\n",
       "2112.23,1339.44 2112.23,1401.05 2203.2,1401.05 2203.2,1339.44 2112.23,1339.44 2112.23,1339.44 \n",
       "  \" fill=\"#009af9\" fill-rule=\"evenodd\" fill-opacity=\"1\"/>\n",
       "<polyline clip-path=\"url(#clip1503)\" style=\"stroke:#000000; stroke-width:4; stroke-opacity:1; fill:none\" points=\"\n",
       "  2112.23,1339.44 2112.23,1401.05 2203.2,1401.05 2203.2,1339.44 2112.23,1339.44 \n",
       "  \"/>\n",
       "</svg>\n"
      ]
     },
     "execution_count": 20,
     "metadata": {},
     "output_type": "execute_result"
    }
   ],
   "source": [
    "histogram(k, xlabel = \"Number of clusters\", legend = false)"
   ]
  },
  {
   "cell_type": "markdown",
   "metadata": {},
   "source": [
    "One issue with the Chinese restaurant process construction is that the number of latent parameters we need to sample scales with the number of observations. Therefore, it might be desirable to use alternative constructions in certain cases. You can see the possible construction in the documentation of the `DirichletProcess` type."
   ]
  },
  {
   "cell_type": "code",
   "execution_count": 10,
   "metadata": {},
   "outputs": [
    {
     "name": "stdout",
     "output_type": "stream",
     "text": [
      "search: \u001b[0m\u001b[1mD\u001b[22m\u001b[0m\u001b[1mi\u001b[22m\u001b[0m\u001b[1mr\u001b[22m\u001b[0m\u001b[1mi\u001b[22m\u001b[0m\u001b[1mc\u001b[22m\u001b[0m\u001b[1mh\u001b[22m\u001b[0m\u001b[1ml\u001b[22m\u001b[0m\u001b[1me\u001b[22m\u001b[0m\u001b[1mt\u001b[22m\u001b[0m\u001b[1mP\u001b[22m\u001b[0m\u001b[1mr\u001b[22m\u001b[0m\u001b[1mo\u001b[22m\u001b[0m\u001b[1mc\u001b[22m\u001b[0m\u001b[1me\u001b[22m\u001b[0m\u001b[1ms\u001b[22m\u001b[0m\u001b[1ms\u001b[22m\n",
      "\n"
     ]
    },
    {
     "data": {
      "text/latex": [
       "\\begin{verbatim}\n",
       "DirichletProcess(α)\n",
       "\\end{verbatim}\n",
       "The \\emph{Dirichlet Process} with concentration parameter \\texttt{α}. Samples from the Dirichlet process can be constructed via the following representations.\n",
       "\n",
       "\\emph{Size-Biased Sampling Process}\n",
       "\n",
       "$$j_k \\sim Beta(1, \\alpha) * surplus$$\n",
       "\\emph{Stick-Breaking Process}\n",
       "\n",
       "$$v_k \\sim Beta(1, \\alpha)$$\n",
       "\\emph{Chinese Restaurant Process}\n",
       "\n",
       "$$p(z_n = k | z_{1:n-1}) \\propto \\begin{cases} \n",
       "        \\frac{m_k}{n-1+\\alpha}, \\text{if} m_k > 0\\\\ \n",
       "        \\frac{\\alpha}{n-1+\\alpha}\n",
       "    \\end{cases}$$\n",
       "For more details see: https://www.stats.ox.ac.uk/{\\sim}teh/research/npbayes/Teh2010a.pdf\n",
       "\n"
      ],
      "text/markdown": [
       "```\n",
       "DirichletProcess(α)\n",
       "```\n",
       "\n",
       "The *Dirichlet Process* with concentration parameter `α`. Samples from the Dirichlet process can be constructed via the following representations.\n",
       "\n",
       "*Size-Biased Sampling Process*\n",
       "\n",
       "$$\n",
       "j_k \\sim Beta(1, \\alpha) * surplus\n",
       "$$\n",
       "\n",
       "*Stick-Breaking Process*\n",
       "\n",
       "$$\n",
       "v_k \\sim Beta(1, \\alpha)\n",
       "$$\n",
       "\n",
       "*Chinese Restaurant Process*\n",
       "\n",
       "$$\n",
       "p(z_n = k | z_{1:n-1}) \\propto \\begin{cases} \n",
       "        \\frac{m_k}{n-1+\\alpha}, \\text{if} m_k > 0\\\\ \n",
       "        \\frac{\\alpha}{n-1+\\alpha}\n",
       "    \\end{cases}\n",
       "$$\n",
       "\n",
       "For more details see: https://www.stats.ox.ac.uk/~teh/research/npbayes/Teh2010a.pdf\n"
      ],
      "text/plain": [
       "\u001b[36m  DirichletProcess(α)\u001b[39m\n",
       "\n",
       "  The \u001b[4mDirichlet Process\u001b[24m with concentration parameter \u001b[36mα\u001b[39m. Samples from the\n",
       "  Dirichlet process can be constructed via the following representations.\n",
       "\n",
       "  \u001b[4mSize-Biased Sampling Process\u001b[24m\n",
       "\n",
       "\u001b[35mj_k \\sim Beta(1, \\alpha) * surplus\u001b[39m\n",
       "\n",
       "  \u001b[4mStick-Breaking Process\u001b[24m\n",
       "\n",
       "\u001b[35mv_k \\sim Beta(1, \\alpha)\u001b[39m\n",
       "\n",
       "  \u001b[4mChinese Restaurant Process\u001b[24m\n",
       "\n",
       "\u001b[35mp(z_n = k | z_{1:n-1}) \\propto \\begin{cases} \u001b[39m\n",
       "\u001b[35m        \\frac{m_k}{n-1+\\alpha}, \\text{if} m_k > 0\\\\ \u001b[39m\n",
       "\u001b[35m        \\frac{\\alpha}{n-1+\\alpha}\u001b[39m\n",
       "\u001b[35m    \\end{cases}\u001b[39m\n",
       "\n",
       "  For more details see:\n",
       "  https://www.stats.ox.ac.uk/~teh/research/npbayes/Teh2010a.pdf"
      ]
     },
     "execution_count": 10,
     "metadata": {},
     "output_type": "execute_result"
    }
   ],
   "source": [
    "? DirichletProcess"
   ]
  }
 ],
 "metadata": {
  "kernelspec": {
   "display_name": "Julia 1.1.0",
   "language": "julia",
   "name": "julia-1.1"
  },
  "language_info": {
   "file_extension": ".jl",
   "mimetype": "application/julia",
   "name": "julia",
   "version": "1.1.0"
  }
 },
 "nbformat": 4,
 "nbformat_minor": 2
}
