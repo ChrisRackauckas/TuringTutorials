{
 "cells": [
  {
   "cell_type": "markdown",
   "metadata": {},
   "source": [
    "# Probabilistic Modelling using the Infinite Mixture Model"
   ]
  },
  {
   "cell_type": "code",
   "execution_count": 2,
   "metadata": {},
   "outputs": [],
   "source": [
    "using Turing"
   ]
  },
  {
   "cell_type": "markdown",
   "metadata": {},
   "source": [
    "In many applications it is desirable to allow the model to adjust its complexity according to the complexity of the data. Consider for example the task of grouping objects into clusters / groups. This task often involves the specification of the number of groups. However, in real world applications it is often not known a prior how many groups are to be expected. Further, the number of examples per group often is heavy tailed, making it necessary to allow the model to form new groups when new data points are observed."
   ]
  },
  {
   "cell_type": "markdown",
   "metadata": {},
   "source": [
    "A natural approach for such applications is the use of non-parametric models. This tutorial will introduce how to use the Dirichlet process to model a mixture of infinitely many groups in Turing. For further information on Bayesian nonparametrics and the Dirichlet process we refer to the [introduction by Zoubin Ghahramani](http://mlg.eng.cam.ac.uk/pub/pdf/Gha12.pdf) and the book \"Fundamentals of Nonparametric Bayesian Inference\" by Subhashis Ghosal and Aad van der Vaart."
   ]
  },
  {
   "cell_type": "markdown",
   "metadata": {},
   "source": [
    "## Mixture Model"
   ]
  },
  {
   "cell_type": "markdown",
   "metadata": {},
   "source": [
    "Before introducting how to learn infinite mixture models in Turing, we will briefly review the construction of finite mixture models. Subsequently, we will define what a Dirichlet process is and show how to use the \"Chinese restaurant process\" construction for non-parametric clustering of observations."
   ]
  },
  {
   "cell_type": "markdown",
   "metadata": {},
   "source": [
    "#### Two-Component Model"
   ]
  },
  {
   "cell_type": "markdown",
   "metadata": {},
   "source": [
    "First, consider the simple case of a mixture model with two Gaussian components with fixed covariance. \n",
    "The generative procvess of such a model can be written as:\n",
    "\n",
    "$$ (\\pi_1, \\pi_2) \\sim Beta(a, b) $$\n",
    "$$ \\mu_1 \\sim Normal(\\mu_0, \\Sigma_0) $$\n",
    "$$ \\mu_2 \\sim Normal(\\mu_0, \\Sigma_0) $$\n",
    "$$ z \\sim Categorical(\\pi_1, \\pi_2) $$\n",
    "$$ x \\sim Normal(\\mu_z, \\Sigma) $$\n",
    "\n",
    "If we would implement this model in Turing for 1D data we would write:"
   ]
  },
  {
   "cell_type": "code",
   "execution_count": 5,
   "metadata": {},
   "outputs": [
    {
     "data": {
      "text/plain": [
       "two_model (generic function with 2 methods)"
      ]
     },
     "execution_count": 5,
     "metadata": {},
     "output_type": "execute_result"
    }
   ],
   "source": [
    "@model two_model(x; a=1, b=1, μ0=0.0, σ0=1.0) = begin\n",
    "    \n",
    "    # Draw weights.\n",
    "    π1 ~ Beta(a,b)\n",
    "    π2 = 1-π1\n",
    "    \n",
    "    # Draw locations of the components.\n",
    "    μ1 ~ Normal(μ0, σ0)\n",
    "    μ2 ~ Normal(μ0, σ0)\n",
    "    \n",
    "    # Draw latent assignment.\n",
    "    z ~ Categorical([π1, π2])\n",
    "    \n",
    "    # Draw observation from selected component.\n",
    "    if z == 1\n",
    "        x ~ Normal(μ1, 1.0)\n",
    "    else\n",
    "        x ~ Normal(μ2, 1.0)\n",
    "    end\n",
    "end"
   ]
  },
  {
   "cell_type": "markdown",
   "metadata": {},
   "source": [
    "#### Finite Mixture Model"
   ]
  },
  {
   "cell_type": "markdown",
   "metadata": {},
   "source": [
    "If we have more than one component we can elegantly extend this model by using a Dirichlet distribution as prior for the weights $\\pi_1, \\dots, \\pi_K$ as the Dirichlet distribution is the multivariate generalization of the beta distribution. The resulting model then can be written as:\n",
    "\n",
    "$$ (\\pi_1, \\dots, \\pi_K) \\sim Dirichlet(K, \\alpha) $$\n",
    "$$ \\mu_k \\sim Normal(\\mu_0, \\Sigma_0), \\;\\; \\forall k$$\n",
    "$$ z \\sim Categorical(\\pi_1, \\dots, \\pi_K) $$\n",
    "$$ x \\sim Normal(\\mu_z, \\Sigma) $$\n",
    "\n",
    "which resembles the model in the [Gaussian mixture model tutorial](1_GaussianMixtureModel.ipynb) with a slightly different notation."
   ]
  },
  {
   "cell_type": "markdown",
   "metadata": {},
   "source": [
    "## Infinite Mixture Model (Dirichlet process)"
   ]
  },
  {
   "cell_type": "markdown",
   "metadata": {},
   "source": [
    "The question now arises, is there a generalization of a Dirichlet distribution for which the dimensionality $K$ is infinite, i.e. $K = \\infty$? And if so, how would we use / learn such a model as it would require us to represent and store infinitely many weights and parameters, which is obviously not possible."
   ]
  },
  {
   "cell_type": "code",
   "execution_count": null,
   "metadata": {},
   "outputs": [],
   "source": [
    "One way to "
   ]
  },
  {
   "cell_type": "code",
   "execution_count": null,
   "metadata": {},
   "outputs": [],
   "source": []
  },
  {
   "cell_type": "markdown",
   "metadata": {},
   "source": [
    "#### Chinese Restaurant Process"
   ]
  },
  {
   "cell_type": "code",
   "execution_count": 1,
   "metadata": {},
   "outputs": [],
   "source": [
    "using Turing, Turing.RandomMeasures, Plots, Random"
   ]
  },
  {
   "cell_type": "code",
   "execution_count": 75,
   "metadata": {},
   "outputs": [],
   "source": [
    "# Number of observations.\n",
    "Ns = [10^2, 5*10^2, 10^3, 5*10^3, 10^4]\n",
    "\n",
    "# Concentration parameters of the Dirichlet process.\n",
    "αs = [1.0, 10.0, 30.0]\n",
    "\n",
    "# Number of re-runs to get stable estimates.\n",
    "R = 4\n",
    "\n",
    "# Output.\n",
    "K = zeros(length(Ns), length(αs))\n",
    "\n",
    "for (j, α) in enumerate(αs)\n",
    "    \n",
    "    # Construct a Dirichlet process with concentration α.\n",
    "    rpm = DirichletProcess(α)\n",
    "    for (i, N) in enumerate(Ns)\n",
    "        Random.seed!(1)\n",
    "        for r in 1:R\n",
    "            \n",
    "            # Number of observations per cluster.\n",
    "            m = Vector{Int}()\n",
    "            for n in 1:N\n",
    "                \n",
    "                # Sample assignment for each observation using a ChineseRestaurantProcess.\n",
    "                z = rand(ChineseRestaurantProcess(rpm, m))\n",
    "                if z > length(m)\n",
    "                    \n",
    "                    # Assignment to a new cluster.\n",
    "                    append!(m, [1])\n",
    "                else\n",
    "                    \n",
    "                    # Assignment to an existing cluster.\n",
    "                    m[z] += 1\n",
    "                end\n",
    "            end\n",
    "            K[i,j] += length(m)\n",
    "        end\n",
    "        K[i,j] /= R\n",
    "    end\n",
    "end"
   ]
  },
  {
   "cell_type": "code",
   "execution_count": 76,
   "metadata": {},
   "outputs": [
    {
     "data": {
      "image/svg+xml": [
       "<?xml version=\"1.0\" encoding=\"utf-8\"?>\n",
       "<svg xmlns=\"http://www.w3.org/2000/svg\" xmlns:xlink=\"http://www.w3.org/1999/xlink\" width=\"600\" height=\"400\" viewBox=\"0 0 2400 1600\">\n",
       "<defs>\n",
       "  <clipPath id=\"clip3700\">\n",
       "    <rect x=\"0\" y=\"0\" width=\"2000\" height=\"2000\"/>\n",
       "  </clipPath>\n",
       "</defs>\n",
       "<defs>\n",
       "  <clipPath id=\"clip3701\">\n",
       "    <rect x=\"0\" y=\"0\" width=\"2400\" height=\"1600\"/>\n",
       "  </clipPath>\n",
       "</defs>\n",
       "<polygon clip-path=\"url(#clip3701)\" points=\"\n",
       "0,1600 2400,1600 2400,0 0,0 \n",
       "  \" fill=\"#ffffff\" fill-rule=\"evenodd\" fill-opacity=\"1\"/>\n",
       "<defs>\n",
       "  <clipPath id=\"clip3702\">\n",
       "    <rect x=\"480\" y=\"0\" width=\"1681\" height=\"1600\"/>\n",
       "  </clipPath>\n",
       "</defs>\n",
       "<polygon clip-path=\"url(#clip3701)\" points=\"\n",
       "237.767,1440.48 2321.26,1440.48 2321.26,47.2441 237.767,47.2441 \n",
       "  \" fill=\"#ffffff\" fill-rule=\"evenodd\" fill-opacity=\"1\"/>\n",
       "<defs>\n",
       "  <clipPath id=\"clip3703\">\n",
       "    <rect x=\"237\" y=\"47\" width=\"2084\" height=\"1394\"/>\n",
       "  </clipPath>\n",
       "</defs>\n",
       "<polyline clip-path=\"url(#clip3703)\" style=\"stroke:#000000; stroke-width:2; stroke-opacity:0.1; fill:none\" points=\"\n",
       "  276.88,1440.48 276.88,47.2441 \n",
       "  \"/>\n",
       "<polyline clip-path=\"url(#clip3703)\" style=\"stroke:#000000; stroke-width:2; stroke-opacity:0.1; fill:none\" points=\"\n",
       "  773.233,1440.48 773.233,47.2441 \n",
       "  \"/>\n",
       "<polyline clip-path=\"url(#clip3703)\" style=\"stroke:#000000; stroke-width:2; stroke-opacity:0.1; fill:none\" points=\"\n",
       "  1269.59,1440.48 1269.59,47.2441 \n",
       "  \"/>\n",
       "<polyline clip-path=\"url(#clip3703)\" style=\"stroke:#000000; stroke-width:2; stroke-opacity:0.1; fill:none\" points=\"\n",
       "  1765.94,1440.48 1765.94,47.2441 \n",
       "  \"/>\n",
       "<polyline clip-path=\"url(#clip3703)\" style=\"stroke:#000000; stroke-width:2; stroke-opacity:0.1; fill:none\" points=\"\n",
       "  2262.29,1440.48 2262.29,47.2441 \n",
       "  \"/>\n",
       "<polyline clip-path=\"url(#clip3703)\" style=\"stroke:#000000; stroke-width:2; stroke-opacity:0.1; fill:none\" points=\"\n",
       "  237.767,1216.15 2321.26,1216.15 \n",
       "  \"/>\n",
       "<polyline clip-path=\"url(#clip3703)\" style=\"stroke:#000000; stroke-width:2; stroke-opacity:0.1; fill:none\" points=\"\n",
       "  237.767,974.985 2321.26,974.985 \n",
       "  \"/>\n",
       "<polyline clip-path=\"url(#clip3703)\" style=\"stroke:#000000; stroke-width:2; stroke-opacity:0.1; fill:none\" points=\"\n",
       "  237.767,733.815 2321.26,733.815 \n",
       "  \"/>\n",
       "<polyline clip-path=\"url(#clip3703)\" style=\"stroke:#000000; stroke-width:2; stroke-opacity:0.1; fill:none\" points=\"\n",
       "  237.767,492.645 2321.26,492.645 \n",
       "  \"/>\n",
       "<polyline clip-path=\"url(#clip3703)\" style=\"stroke:#000000; stroke-width:2; stroke-opacity:0.1; fill:none\" points=\"\n",
       "  237.767,251.475 2321.26,251.475 \n",
       "  \"/>\n",
       "<polyline clip-path=\"url(#clip3701)\" style=\"stroke:#000000; stroke-width:4; stroke-opacity:1; fill:none\" points=\"\n",
       "  237.767,1440.48 2321.26,1440.48 \n",
       "  \"/>\n",
       "<polyline clip-path=\"url(#clip3701)\" style=\"stroke:#000000; stroke-width:4; stroke-opacity:1; fill:none\" points=\"\n",
       "  237.767,1440.48 237.767,47.2441 \n",
       "  \"/>\n",
       "<polyline clip-path=\"url(#clip3701)\" style=\"stroke:#000000; stroke-width:4; stroke-opacity:1; fill:none\" points=\"\n",
       "  276.88,1440.48 276.88,1419.58 \n",
       "  \"/>\n",
       "<polyline clip-path=\"url(#clip3701)\" style=\"stroke:#000000; stroke-width:4; stroke-opacity:1; fill:none\" points=\"\n",
       "  773.233,1440.48 773.233,1419.58 \n",
       "  \"/>\n",
       "<polyline clip-path=\"url(#clip3701)\" style=\"stroke:#000000; stroke-width:4; stroke-opacity:1; fill:none\" points=\"\n",
       "  1269.59,1440.48 1269.59,1419.58 \n",
       "  \"/>\n",
       "<polyline clip-path=\"url(#clip3701)\" style=\"stroke:#000000; stroke-width:4; stroke-opacity:1; fill:none\" points=\"\n",
       "  1765.94,1440.48 1765.94,1419.58 \n",
       "  \"/>\n",
       "<polyline clip-path=\"url(#clip3701)\" style=\"stroke:#000000; stroke-width:4; stroke-opacity:1; fill:none\" points=\"\n",
       "  2262.29,1440.48 2262.29,1419.58 \n",
       "  \"/>\n",
       "<polyline clip-path=\"url(#clip3701)\" style=\"stroke:#000000; stroke-width:4; stroke-opacity:1; fill:none\" points=\"\n",
       "  237.767,1216.15 269.02,1216.15 \n",
       "  \"/>\n",
       "<polyline clip-path=\"url(#clip3701)\" style=\"stroke:#000000; stroke-width:4; stroke-opacity:1; fill:none\" points=\"\n",
       "  237.767,974.985 269.02,974.985 \n",
       "  \"/>\n",
       "<polyline clip-path=\"url(#clip3701)\" style=\"stroke:#000000; stroke-width:4; stroke-opacity:1; fill:none\" points=\"\n",
       "  237.767,733.815 269.02,733.815 \n",
       "  \"/>\n",
       "<polyline clip-path=\"url(#clip3701)\" style=\"stroke:#000000; stroke-width:4; stroke-opacity:1; fill:none\" points=\"\n",
       "  237.767,492.645 269.02,492.645 \n",
       "  \"/>\n",
       "<polyline clip-path=\"url(#clip3701)\" style=\"stroke:#000000; stroke-width:4; stroke-opacity:1; fill:none\" points=\"\n",
       "  237.767,251.475 269.02,251.475 \n",
       "  \"/>\n",
       "<g clip-path=\"url(#clip3701)\">\n",
       "<text style=\"fill:#000000; fill-opacity:1; font-family:Arial,Helvetica Neue,Helvetica,sans-serif; font-size:48px; text-anchor:middle;\" transform=\"rotate(0, 276.88, 1494.48)\" x=\"276.88\" y=\"1494.48\">0</text>\n",
       "</g>\n",
       "<g clip-path=\"url(#clip3701)\">\n",
       "<text style=\"fill:#000000; fill-opacity:1; font-family:Arial,Helvetica Neue,Helvetica,sans-serif; font-size:48px; text-anchor:middle;\" transform=\"rotate(0, 773.233, 1494.48)\" x=\"773.233\" y=\"1494.48\">2500</text>\n",
       "</g>\n",
       "<g clip-path=\"url(#clip3701)\">\n",
       "<text style=\"fill:#000000; fill-opacity:1; font-family:Arial,Helvetica Neue,Helvetica,sans-serif; font-size:48px; text-anchor:middle;\" transform=\"rotate(0, 1269.59, 1494.48)\" x=\"1269.59\" y=\"1494.48\">5000</text>\n",
       "</g>\n",
       "<g clip-path=\"url(#clip3701)\">\n",
       "<text style=\"fill:#000000; fill-opacity:1; font-family:Arial,Helvetica Neue,Helvetica,sans-serif; font-size:48px; text-anchor:middle;\" transform=\"rotate(0, 1765.94, 1494.48)\" x=\"1765.94\" y=\"1494.48\">7500</text>\n",
       "</g>\n",
       "<g clip-path=\"url(#clip3701)\">\n",
       "<text style=\"fill:#000000; fill-opacity:1; font-family:Arial,Helvetica Neue,Helvetica,sans-serif; font-size:48px; text-anchor:middle;\" transform=\"rotate(0, 2262.29, 1494.48)\" x=\"2262.29\" y=\"1494.48\">10000</text>\n",
       "</g>\n",
       "<g clip-path=\"url(#clip3701)\">\n",
       "<text style=\"fill:#000000; fill-opacity:1; font-family:Arial,Helvetica Neue,Helvetica,sans-serif; font-size:48px; text-anchor:end;\" transform=\"rotate(0, 213.767, 1233.65)\" x=\"213.767\" y=\"1233.65\">30</text>\n",
       "</g>\n",
       "<g clip-path=\"url(#clip3701)\">\n",
       "<text style=\"fill:#000000; fill-opacity:1; font-family:Arial,Helvetica Neue,Helvetica,sans-serif; font-size:48px; text-anchor:end;\" transform=\"rotate(0, 213.767, 992.485)\" x=\"213.767\" y=\"992.485\">60</text>\n",
       "</g>\n",
       "<g clip-path=\"url(#clip3701)\">\n",
       "<text style=\"fill:#000000; fill-opacity:1; font-family:Arial,Helvetica Neue,Helvetica,sans-serif; font-size:48px; text-anchor:end;\" transform=\"rotate(0, 213.767, 751.315)\" x=\"213.767\" y=\"751.315\">90</text>\n",
       "</g>\n",
       "<g clip-path=\"url(#clip3701)\">\n",
       "<text style=\"fill:#000000; fill-opacity:1; font-family:Arial,Helvetica Neue,Helvetica,sans-serif; font-size:48px; text-anchor:end;\" transform=\"rotate(0, 213.767, 510.145)\" x=\"213.767\" y=\"510.145\">120</text>\n",
       "</g>\n",
       "<g clip-path=\"url(#clip3701)\">\n",
       "<text style=\"fill:#000000; fill-opacity:1; font-family:Arial,Helvetica Neue,Helvetica,sans-serif; font-size:48px; text-anchor:end;\" transform=\"rotate(0, 213.767, 268.975)\" x=\"213.767\" y=\"268.975\">150</text>\n",
       "</g>\n",
       "<g clip-path=\"url(#clip3701)\">\n",
       "<text style=\"fill:#000000; fill-opacity:1; font-family:Arial,Helvetica Neue,Helvetica,sans-serif; font-size:66px; text-anchor:middle;\" transform=\"rotate(0, 1279.51, 1590.4)\" x=\"1279.51\" y=\"1590.4\"># observations</text>\n",
       "</g>\n",
       "<g clip-path=\"url(#clip3701)\">\n",
       "<text style=\"fill:#000000; fill-opacity:1; font-family:Arial,Helvetica Neue,Helvetica,sans-serif; font-size:66px; text-anchor:middle;\" transform=\"rotate(-90, 57.6, 743.863)\" x=\"57.6\" y=\"743.863\"># clusters</text>\n",
       "</g>\n",
       "<polyline clip-path=\"url(#clip3703)\" style=\"stroke:#009af9; stroke-width:4; stroke-opacity:1; fill:none\" points=\"\n",
       "  296.734,1388.99 376.151,1397.03 475.421,1401.05 1269.59,1388.99 2262.29,1391 \n",
       "  \"/>\n",
       "<polyline clip-path=\"url(#clip3703)\" style=\"stroke:#e26f46; stroke-width:4; stroke-opacity:1; fill:none\" points=\"\n",
       "  296.734,1258.36 376.151,1153.85 475.421,1105.62 1269.59,950.868 2262.29,924.741 \n",
       "  \"/>\n",
       "<polyline clip-path=\"url(#clip3703)\" style=\"stroke:#3da44d; stroke-width:4; stroke-opacity:1; fill:none\" points=\"\n",
       "  296.734,1103.61 376.151,790.088 475.421,619.259 1269.59,185.153 2262.29,86.6754 \n",
       "  \"/>\n",
       "<polygon clip-path=\"url(#clip3701)\" points=\"\n",
       "1771.09,372.684 2249.26,372.684 2249.26,130.764 1771.09,130.764 \n",
       "  \" fill=\"#ffffff\" fill-rule=\"evenodd\" fill-opacity=\"1\"/>\n",
       "<polyline clip-path=\"url(#clip3701)\" style=\"stroke:#000000; stroke-width:4; stroke-opacity:1; fill:none\" points=\"\n",
       "  1771.09,372.684 2249.26,372.684 2249.26,130.764 1771.09,130.764 1771.09,372.684 \n",
       "  \"/>\n",
       "<polyline clip-path=\"url(#clip3701)\" style=\"stroke:#009af9; stroke-width:4; stroke-opacity:1; fill:none\" points=\"\n",
       "  1795.09,191.244 1939.09,191.244 \n",
       "  \"/>\n",
       "<g clip-path=\"url(#clip3701)\">\n",
       "<text style=\"fill:#000000; fill-opacity:1; font-family:Arial,Helvetica Neue,Helvetica,sans-serif; font-size:48px; text-anchor:start;\" transform=\"rotate(0, 1963.09, 208.744)\" x=\"1963.09\" y=\"208.744\">alpha: 1.0</text>\n",
       "</g>\n",
       "<polyline clip-path=\"url(#clip3701)\" style=\"stroke:#e26f46; stroke-width:4; stroke-opacity:1; fill:none\" points=\"\n",
       "  1795.09,251.724 1939.09,251.724 \n",
       "  \"/>\n",
       "<g clip-path=\"url(#clip3701)\">\n",
       "<text style=\"fill:#000000; fill-opacity:1; font-family:Arial,Helvetica Neue,Helvetica,sans-serif; font-size:48px; text-anchor:start;\" transform=\"rotate(0, 1963.09, 269.224)\" x=\"1963.09\" y=\"269.224\">alpha: 10.0</text>\n",
       "</g>\n",
       "<polyline clip-path=\"url(#clip3701)\" style=\"stroke:#3da44d; stroke-width:4; stroke-opacity:1; fill:none\" points=\"\n",
       "  1795.09,312.204 1939.09,312.204 \n",
       "  \"/>\n",
       "<g clip-path=\"url(#clip3701)\">\n",
       "<text style=\"fill:#000000; fill-opacity:1; font-family:Arial,Helvetica Neue,Helvetica,sans-serif; font-size:48px; text-anchor:start;\" transform=\"rotate(0, 1963.09, 329.704)\" x=\"1963.09\" y=\"329.704\">alpha: 30.0</text>\n",
       "</g>\n",
       "</svg>\n"
      ]
     },
     "execution_count": 76,
     "metadata": {},
     "output_type": "execute_result"
    }
   ],
   "source": [
    "plot(Ns, K, labels = map(α -> \"alpha: $α\", αs), \n",
    "    xlabel = \"# observations\", ylabel = \"# clusters\")"
   ]
  },
  {
   "cell_type": "code",
   "execution_count": null,
   "metadata": {},
   "outputs": [],
   "source": []
  }
 ],
 "metadata": {
  "kernelspec": {
   "display_name": "Julia 1.0.2",
   "language": "julia",
   "name": "julia-1.0"
  },
  "language_info": {
   "file_extension": ".jl",
   "mimetype": "application/julia",
   "name": "julia",
   "version": "1.0.2"
  }
 },
 "nbformat": 4,
 "nbformat_minor": 2
}
