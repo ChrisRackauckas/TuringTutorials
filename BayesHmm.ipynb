{
 "cells": [
  {
   "cell_type": "markdown",
   "metadata": {},
   "source": [
    "# Bayesian Hidden Markov Models"
   ]
  },
  {
   "cell_type": "markdown",
   "metadata": {},
   "source": [
    "This tutorial illustrates training Bayesian Hidden Markov Models (HMM) using *Turing*. The main goals are learning the transition matrix, emission parameter, and hidden states.\n",
    "\n",
    "Let's load the libraries we'll need. We also set a random seed (for reproducibility) and the automatic differentiation backend to forward mode (more [here](https://github.com/TuringLang/Turing.jl/issues/511) on why this is useful). "
   ]
  },
  {
   "cell_type": "code",
   "execution_count": 1,
   "metadata": {},
   "outputs": [],
   "source": [
    "# Load libraries.\n",
    "using Turing, Plots, Random\n",
    "\n",
    "# Set a random seed and use the forward_diff AD mode.\n",
    "Random.seed!(1234);\n",
    "Turing.setadbackend(:forward_diff);"
   ]
  },
  {
   "cell_type": "markdown",
   "metadata": {},
   "source": [
    "## Simple State Detection\n",
    "\n",
    "In this example, we'll use something where the states and emission parameters are very obvious. "
   ]
  },
  {
   "cell_type": "code",
   "execution_count": 114,
   "metadata": {},
   "outputs": [
    {
     "data": {
      "image/svg+xml": [
       "<?xml version=\"1.0\" encoding=\"utf-8\"?>\n",
       "<svg xmlns=\"http://www.w3.org/2000/svg\" xmlns:xlink=\"http://www.w3.org/1999/xlink\" width=\"500\" height=\"250\" viewBox=\"0 0 2000 1000\">\n",
       "<defs>\n",
       "  <clipPath id=\"clip3900\">\n",
       "    <rect x=\"0\" y=\"0\" width=\"2000\" height=\"2000\"/>\n",
       "  </clipPath>\n",
       "</defs>\n",
       "<defs>\n",
       "  <clipPath id=\"clip3901\">\n",
       "    <rect x=\"0\" y=\"0\" width=\"2000\" height=\"1000\"/>\n",
       "  </clipPath>\n",
       "</defs>\n",
       "<polygon clip-path=\"url(#clip3901)\" points=\"\n",
       "0,1000 2000,1000 2000,0 0,0 \n",
       "  \" fill=\"#ffffff\" fill-rule=\"evenodd\" fill-opacity=\"1\"/>\n",
       "<defs>\n",
       "  <clipPath id=\"clip3902\">\n",
       "    <rect x=\"400\" y=\"0\" width=\"1401\" height=\"1000\"/>\n",
       "  </clipPath>\n",
       "</defs>\n",
       "<polygon clip-path=\"url(#clip3901)\" points=\"\n",
       "149.361,903.475 1921.26,903.475 1921.26,47.2441 149.361,47.2441 \n",
       "  \" fill=\"#ffffff\" fill-rule=\"evenodd\" fill-opacity=\"1\"/>\n",
       "<defs>\n",
       "  <clipPath id=\"clip3903\">\n",
       "    <rect x=\"149\" y=\"47\" width=\"1773\" height=\"857\"/>\n",
       "  </clipPath>\n",
       "</defs>\n",
       "<polyline clip-path=\"url(#clip3903)\" style=\"stroke:#000000; stroke-width:2; stroke-opacity:0.1; fill:none\" points=\"\n",
       "  149.361,903.475 149.361,47.2441 \n",
       "  \"/>\n",
       "<polyline clip-path=\"url(#clip3903)\" style=\"stroke:#000000; stroke-width:2; stroke-opacity:0.1; fill:none\" points=\"\n",
       "  739.994,903.475 739.994,47.2441 \n",
       "  \"/>\n",
       "<polyline clip-path=\"url(#clip3903)\" style=\"stroke:#000000; stroke-width:2; stroke-opacity:0.1; fill:none\" points=\"\n",
       "  1330.63,903.475 1330.63,47.2441 \n",
       "  \"/>\n",
       "<polyline clip-path=\"url(#clip3903)\" style=\"stroke:#000000; stroke-width:2; stroke-opacity:0.1; fill:none\" points=\"\n",
       "  1921.26,903.475 1921.26,47.2441 \n",
       "  \"/>\n",
       "<polyline clip-path=\"url(#clip3903)\" style=\"stroke:#000000; stroke-width:2; stroke-opacity:0.1; fill:none\" points=\"\n",
       "  149.361,903.475 1921.26,903.475 \n",
       "  \"/>\n",
       "<polyline clip-path=\"url(#clip3903)\" style=\"stroke:#000000; stroke-width:2; stroke-opacity:0.1; fill:none\" points=\"\n",
       "  149.361,760.77 1921.26,760.77 \n",
       "  \"/>\n",
       "<polyline clip-path=\"url(#clip3903)\" style=\"stroke:#000000; stroke-width:2; stroke-opacity:0.1; fill:none\" points=\"\n",
       "  149.361,618.065 1921.26,618.065 \n",
       "  \"/>\n",
       "<polyline clip-path=\"url(#clip3903)\" style=\"stroke:#000000; stroke-width:2; stroke-opacity:0.1; fill:none\" points=\"\n",
       "  149.361,475.359 1921.26,475.359 \n",
       "  \"/>\n",
       "<polyline clip-path=\"url(#clip3903)\" style=\"stroke:#000000; stroke-width:2; stroke-opacity:0.1; fill:none\" points=\"\n",
       "  149.361,332.654 1921.26,332.654 \n",
       "  \"/>\n",
       "<polyline clip-path=\"url(#clip3903)\" style=\"stroke:#000000; stroke-width:2; stroke-opacity:0.1; fill:none\" points=\"\n",
       "  149.361,189.949 1921.26,189.949 \n",
       "  \"/>\n",
       "<polyline clip-path=\"url(#clip3903)\" style=\"stroke:#000000; stroke-width:2; stroke-opacity:0.1; fill:none\" points=\"\n",
       "  149.361,47.2441 1921.26,47.2441 \n",
       "  \"/>\n",
       "<polyline clip-path=\"url(#clip3901)\" style=\"stroke:#000000; stroke-width:4; stroke-opacity:1; fill:none\" points=\"\n",
       "  149.361,903.475 1921.26,903.475 \n",
       "  \"/>\n",
       "<polyline clip-path=\"url(#clip3901)\" style=\"stroke:#000000; stroke-width:4; stroke-opacity:1; fill:none\" points=\"\n",
       "  149.361,903.475 149.361,47.2441 \n",
       "  \"/>\n",
       "<polyline clip-path=\"url(#clip3901)\" style=\"stroke:#000000; stroke-width:4; stroke-opacity:1; fill:none\" points=\"\n",
       "  149.361,903.475 149.361,890.631 \n",
       "  \"/>\n",
       "<polyline clip-path=\"url(#clip3901)\" style=\"stroke:#000000; stroke-width:4; stroke-opacity:1; fill:none\" points=\"\n",
       "  739.994,903.475 739.994,890.631 \n",
       "  \"/>\n",
       "<polyline clip-path=\"url(#clip3901)\" style=\"stroke:#000000; stroke-width:4; stroke-opacity:1; fill:none\" points=\"\n",
       "  1330.63,903.475 1330.63,890.631 \n",
       "  \"/>\n",
       "<polyline clip-path=\"url(#clip3901)\" style=\"stroke:#000000; stroke-width:4; stroke-opacity:1; fill:none\" points=\"\n",
       "  1921.26,903.475 1921.26,890.631 \n",
       "  \"/>\n",
       "<polyline clip-path=\"url(#clip3901)\" style=\"stroke:#000000; stroke-width:4; stroke-opacity:1; fill:none\" points=\"\n",
       "  149.361,903.475 175.939,903.475 \n",
       "  \"/>\n",
       "<polyline clip-path=\"url(#clip3901)\" style=\"stroke:#000000; stroke-width:4; stroke-opacity:1; fill:none\" points=\"\n",
       "  149.361,760.77 175.939,760.77 \n",
       "  \"/>\n",
       "<polyline clip-path=\"url(#clip3901)\" style=\"stroke:#000000; stroke-width:4; stroke-opacity:1; fill:none\" points=\"\n",
       "  149.361,618.065 175.939,618.065 \n",
       "  \"/>\n",
       "<polyline clip-path=\"url(#clip3901)\" style=\"stroke:#000000; stroke-width:4; stroke-opacity:1; fill:none\" points=\"\n",
       "  149.361,475.359 175.939,475.359 \n",
       "  \"/>\n",
       "<polyline clip-path=\"url(#clip3901)\" style=\"stroke:#000000; stroke-width:4; stroke-opacity:1; fill:none\" points=\"\n",
       "  149.361,332.654 175.939,332.654 \n",
       "  \"/>\n",
       "<polyline clip-path=\"url(#clip3901)\" style=\"stroke:#000000; stroke-width:4; stroke-opacity:1; fill:none\" points=\"\n",
       "  149.361,189.949 175.939,189.949 \n",
       "  \"/>\n",
       "<polyline clip-path=\"url(#clip3901)\" style=\"stroke:#000000; stroke-width:4; stroke-opacity:1; fill:none\" points=\"\n",
       "  149.361,47.2441 175.939,47.2441 \n",
       "  \"/>\n",
       "<g clip-path=\"url(#clip3901)\">\n",
       "<text style=\"fill:#000000; fill-opacity:1; font-family:Arial,Helvetica Neue,Helvetica,sans-serif; font-size:48px; text-anchor:middle;\" transform=\"rotate(0, 149.361, 955.475)\" x=\"149.361\" y=\"955.475\">0</text>\n",
       "</g>\n",
       "<g clip-path=\"url(#clip3901)\">\n",
       "<text style=\"fill:#000000; fill-opacity:1; font-family:Arial,Helvetica Neue,Helvetica,sans-serif; font-size:48px; text-anchor:middle;\" transform=\"rotate(0, 739.994, 955.475)\" x=\"739.994\" y=\"955.475\">5</text>\n",
       "</g>\n",
       "<g clip-path=\"url(#clip3901)\">\n",
       "<text style=\"fill:#000000; fill-opacity:1; font-family:Arial,Helvetica Neue,Helvetica,sans-serif; font-size:48px; text-anchor:middle;\" transform=\"rotate(0, 1330.63, 955.475)\" x=\"1330.63\" y=\"955.475\">10</text>\n",
       "</g>\n",
       "<g clip-path=\"url(#clip3901)\">\n",
       "<text style=\"fill:#000000; fill-opacity:1; font-family:Arial,Helvetica Neue,Helvetica,sans-serif; font-size:48px; text-anchor:middle;\" transform=\"rotate(0, 1921.26, 955.475)\" x=\"1921.26\" y=\"955.475\">15</text>\n",
       "</g>\n",
       "<g clip-path=\"url(#clip3901)\">\n",
       "<text style=\"fill:#000000; fill-opacity:1; font-family:Arial,Helvetica Neue,Helvetica,sans-serif; font-size:48px; text-anchor:end;\" transform=\"rotate(0, 129.361, 920.975)\" x=\"129.361\" y=\"920.975\">-1</text>\n",
       "</g>\n",
       "<g clip-path=\"url(#clip3901)\">\n",
       "<text style=\"fill:#000000; fill-opacity:1; font-family:Arial,Helvetica Neue,Helvetica,sans-serif; font-size:48px; text-anchor:end;\" transform=\"rotate(0, 129.361, 778.27)\" x=\"129.361\" y=\"778.27\">0</text>\n",
       "</g>\n",
       "<g clip-path=\"url(#clip3901)\">\n",
       "<text style=\"fill:#000000; fill-opacity:1; font-family:Arial,Helvetica Neue,Helvetica,sans-serif; font-size:48px; text-anchor:end;\" transform=\"rotate(0, 129.361, 635.565)\" x=\"129.361\" y=\"635.565\">1</text>\n",
       "</g>\n",
       "<g clip-path=\"url(#clip3901)\">\n",
       "<text style=\"fill:#000000; fill-opacity:1; font-family:Arial,Helvetica Neue,Helvetica,sans-serif; font-size:48px; text-anchor:end;\" transform=\"rotate(0, 129.361, 492.859)\" x=\"129.361\" y=\"492.859\">2</text>\n",
       "</g>\n",
       "<g clip-path=\"url(#clip3901)\">\n",
       "<text style=\"fill:#000000; fill-opacity:1; font-family:Arial,Helvetica Neue,Helvetica,sans-serif; font-size:48px; text-anchor:end;\" transform=\"rotate(0, 129.361, 350.154)\" x=\"129.361\" y=\"350.154\">3</text>\n",
       "</g>\n",
       "<g clip-path=\"url(#clip3901)\">\n",
       "<text style=\"fill:#000000; fill-opacity:1; font-family:Arial,Helvetica Neue,Helvetica,sans-serif; font-size:48px; text-anchor:end;\" transform=\"rotate(0, 129.361, 207.449)\" x=\"129.361\" y=\"207.449\">4</text>\n",
       "</g>\n",
       "<g clip-path=\"url(#clip3901)\">\n",
       "<text style=\"fill:#000000; fill-opacity:1; font-family:Arial,Helvetica Neue,Helvetica,sans-serif; font-size:48px; text-anchor:end;\" transform=\"rotate(0, 129.361, 64.7441)\" x=\"129.361\" y=\"64.7441\">5</text>\n",
       "</g>\n",
       "<polyline clip-path=\"url(#clip3903)\" style=\"stroke:#009af9; stroke-width:4; stroke-opacity:1; fill:none\" points=\"\n",
       "  267.487,618.065 385.614,618.065 503.74,618.065 621.867,618.065 739.994,475.359 858.12,475.359 976.247,475.359 1094.37,332.654 1212.5,332.654 1330.63,332.654 \n",
       "  1448.75,475.359 1566.88,475.359 1685.01,475.359 1803.13,618.065 1921.26,618.065 \n",
       "  \"/>\n",
       "<polygon clip-path=\"url(#clip3901)\" points=\"\n",
       "1610.43,227.724 1861.26,227.724 1861.26,106.764 1610.43,106.764 \n",
       "  \" fill=\"#ffffff\" fill-rule=\"evenodd\" fill-opacity=\"1\"/>\n",
       "<polyline clip-path=\"url(#clip3901)\" style=\"stroke:#000000; stroke-width:4; stroke-opacity:1; fill:none\" points=\"\n",
       "  1610.43,227.724 1861.26,227.724 1861.26,106.764 1610.43,106.764 1610.43,227.724 \n",
       "  \"/>\n",
       "<polyline clip-path=\"url(#clip3901)\" style=\"stroke:#009af9; stroke-width:4; stroke-opacity:1; fill:none\" points=\"\n",
       "  1630.43,167.244 1750.43,167.244 \n",
       "  \"/>\n",
       "<g clip-path=\"url(#clip3901)\">\n",
       "<text style=\"fill:#000000; fill-opacity:1; font-family:Arial,Helvetica Neue,Helvetica,sans-serif; font-size:48px; text-anchor:start;\" transform=\"rotate(0, 1770.43, 184.744)\" x=\"1770.43\" y=\"184.744\">y1</text>\n",
       "</g>\n",
       "</svg>\n"
      ]
     },
     "execution_count": 114,
     "metadata": {},
     "output_type": "execute_result"
    }
   ],
   "source": [
    "# Define the emission parameter.\n",
    "y = [ 1.0, 1.0, 1.0, 1.0, 2.0, 2.0, 2.0, 3.0, 3.0, 3.0, 2.0, 2.0, 2.0, 1.0, 1.0 ];\n",
    "N = length(y);  K = 3;\n",
    "\n",
    "# Plot the data we just made.\n",
    "plot(y, xlim = (0,15), ylim = (-1,5), size = (500, 250))"
   ]
  },
  {
   "cell_type": "markdown",
   "metadata": {},
   "source": [
    "We can see that we have three states, one for each height of the plot (1, 2, 3). This height is also our emission parameter, so state one produces a value of one, state two produces a value of two, and so on.\n",
    "\n",
    "Ultimately, we would like to understand three major parameters:\n",
    "\n",
    "1. The transition matrix. This is a matrix that assigns a probability of switching from one state to any other state, including the state that we are already in.\n",
    "2. The emission matrix, which describes a typical value emitted by some state. In the plot above, the emission parameter for state one is simply one.\n",
    "3. The state sequence is our understanding of what state we were actually in when we observed some data. This is very important in more sophisticated HMM models.\n",
    "\n",
    "With this in mind, let's set up our model."
   ]
  },
  {
   "cell_type": "code",
   "execution_count": 123,
   "metadata": {},
   "outputs": [],
   "source": [
    "# Turing model definition.\n",
    "@model BayesHmm(y) = begin\n",
    "    # State sequence.\n",
    "    s = tzeros(Int, N)\n",
    "    \n",
    "    # Emission matrix.\n",
    "    m = Vector{Real}(undef, K)\n",
    "    \n",
    "    # Transition matrix.\n",
    "    T = Vector{Vector{Real}}(undef, K)\n",
    "    \n",
    "    # Assign distributions to each element \n",
    "    # of the transition matrix and the\n",
    "    # emission matrix.\n",
    "    for i = 1:K\n",
    "        T[i] ~ Dirichlet(ones(K)/K)\n",
    "        m[i] ~ Normal(i, 0.5)\n",
    "    end\n",
    "    \n",
    "    # Observe each point of the input.\n",
    "    s[1] ~ Categorical(K)\n",
    "    for i = 2:N\n",
    "        s[i] ~ Categorical(vec(T[s[i-1]]))\n",
    "        y[i] ~ Normal(m[s[i]], 0.1)\n",
    "    end\n",
    "    return(s, m)\n",
    "end;"
   ]
  },
  {
   "cell_type": "markdown",
   "metadata": {},
   "source": [
    "We will use a combination of two samplers ([HMC](http://turing.ml/docs/library/#Turing.HMC) and [Particle Gibbs](http://turing.ml/docs/library/#Turing.PG)) by passing them to the [Gibbs](http://turing.ml/docs/library/#Turing.Gibbs) sampler. The Gibbs sampler allows for compositional inference, where we can pass samplers across different parameters. In this case, we use HMC for `m` and `T`, representing the emission and transition matrices respectively. We use the Particle Gibbs sampler for `s`, the state sequence."
   ]
  },
  {
   "cell_type": "code",
   "execution_count": 129,
   "metadata": {},
   "outputs": [
    {
     "name": "stderr",
     "output_type": "stream",
     "text": [
      "┌ Info:  Assume - `T` is a parameter\n",
      "└ @ Turing /home/cameron/.julia/packages/Turing/YnwiD/src/core/compiler.jl:165\n",
      "┌ Info:  Assume - `m` is a parameter\n",
      "└ @ Turing /home/cameron/.julia/packages/Turing/YnwiD/src/core/compiler.jl:165\n",
      "┌ Info:  Assume - `s` is a parameter\n",
      "└ @ Turing /home/cameron/.julia/packages/Turing/YnwiD/src/core/compiler.jl:165\n",
      "┌ Info:  Observe - `y` is an observation\n",
      "└ @ Turing /home/cameron/.julia/packages/Turing/YnwiD/src/core/compiler.jl:153\n",
      "\u001b[32m[Gibbs] Sampling...100% Time: 0:01:26\u001b[39m\n",
      "┌ Info: [Gibbs] Finished with\n",
      "└ @ Turing /home/cameron/.julia/packages/Turing/YnwiD/src/samplers/gibbs.jl:163\n",
      "┌ Info:   Running time    = 85.85996221799995;\n",
      "└ @ Turing /home/cameron/.julia/packages/Turing/YnwiD/src/samplers/gibbs.jl:164\n"
     ]
    }
   ],
   "source": [
    "g = Gibbs(1000, HMC(2, 0.001, 7, :m, :T), PG(20, 1, :s))\n",
    "c = sample(BayesHmm(y), g);"
   ]
  },
  {
   "cell_type": "markdown",
   "metadata": {},
   "source": [
    "Let's see how well our chain performed. Ordinarily, using the `describe` function from [MCMCChain](https://github.com/TuringLang/MCMCChain.jl) would be a good first step, but we have generated a lot of parameters here. It's a bit easier to show how our model performed graphically.\n",
    "\n",
    "The code below generates an animation showing the graph of the data above, and the data our model generates in each sample."
   ]
  },
  {
   "cell_type": "code",
   "execution_count": 131,
   "metadata": {},
   "outputs": [
    {
     "name": "stderr",
     "output_type": "stream",
     "text": [
      "┌ Info: Saved animation to \n",
      "│   fn = /home/cameron/code/TuringTutorials/tmp1.gif\n",
      "└ @ Plots /home/cameron/.julia/packages/Plots/rmogG/src/animation.jl:90\n"
     ]
    },
    {
     "data": {
      "text/html": [
       "<img src=\"tmp1.gif?0.8742503747464234>\" />"
      ],
      "text/plain": [
       "Plots.AnimatedGif(\"/home/cameron/code/TuringTutorials/tmp1.gif\")"
      ]
     },
     "execution_count": 131,
     "metadata": {},
     "output_type": "execute_result"
    }
   ],
   "source": [
    "# Import StatsPlots for animating purposes.\n",
    "using StatPlots\n",
    "\n",
    "# Extract our m and s parameters from the chain.\n",
    "m_set = c[:m]\n",
    "s_set = c[:s]\n",
    "\n",
    "# Iterate through the MCMC samples.\n",
    "Ns = 1:300\n",
    "\n",
    "# Make an animation.\n",
    "animation = @animate for (i, N) in enumerate(Ns)\n",
    "    m = m_set[N]; s = s_set[N];\n",
    "    p = plot(y, c = :red,\n",
    "        size = (500, 250), \n",
    "        xlabel = \"Time\", \n",
    "        ylabel = \"State\", \n",
    "        legend = legend = :topright, label = \"True data\",\n",
    "        xlim = (0,15),\n",
    "        ylim = (-1,5)); \n",
    "    plot!(p, m[s], c = :blue, label = \"Sample $N\")\n",
    "end every 5;"
   ]
  },
  {
   "cell_type": "markdown",
   "metadata": {},
   "source": [
    "![animation](https://user-images.githubusercontent.com/422990/48961918-affd9b00-ef2d-11e8-9b7f-3bb39abd8662.gif)"
   ]
  },
  {
   "cell_type": "markdown",
   "metadata": {},
   "source": [
    "Looks like our model did a pretty good job!"
   ]
  },
  {
   "cell_type": "markdown",
   "metadata": {},
   "source": [
    "## Detecting A Fair Coin\n",
    "\n",
    "Now it's all well and good to plot a line on a nice, clean dataset. But what if we are trying to detect when someone is cheating us in a coin flipping game? \n",
    "\n",
    "Let's say we have a friend named Jane. Every once in a while we play a game with Jane where she flips a coin. Jane wins a dollar from us if it's heads, we win a dollar from Jane if it's tails. The problem is that Jane is sometimes a cheater -- 20% of the time, she'll bring out a coin that comes up heads 90% of the time, and she decides to switch back to the fair coin 80% of the time so we don't become suspicious. Hidden Markov models are ideal for learning this kind of transition matrix, so let's get to it.\n",
    "\n",
    "We set up some variables first, namely the transition matrix described in the preceding paragraph, and Bernoulli distributions for each of the coin flip types, fair and unfair."
   ]
  },
  {
   "cell_type": "code",
   "execution_count": 382,
   "metadata": {},
   "outputs": [],
   "source": [
    "# Define our fair/unfair coinflip probabilities.\n",
    "p_heads_fair = 0.5\n",
    "p_heads_unfair = 0.9\n",
    "\n",
    "# Setup Bernoulli distributions for our coinflips.\n",
    "# Note that we use 1 - p, because we\n",
    "fair = Bernoulli(1 -p_heads_fair);\n",
    "unfair = Bernoulli(1 - p_heads_unfair);\n",
    "\n",
    "# Define our transition matrix.\n",
    "transition_target = [0.9 0.1;\n",
    "                     0.8 0.2];"
   ]
  },
  {
   "cell_type": "markdown",
   "metadata": {},
   "source": [
    "The code below generates Jane's sometimes-unfair coinflips. "
   ]
  },
  {
   "cell_type": "code",
   "execution_count": 383,
   "metadata": {},
   "outputs": [],
   "source": [
    "# Number of coinflips we observe.\n",
    "num_flips = 20\n",
    "\n",
    "# Create variables to stash our coin flips and states.\n",
    "flips = []\n",
    "states = []\n",
    "\n",
    "# Jane always starts with a fair coin. How nice.\n",
    "fair_coin = true\n",
    "\n",
    "# Generate our coin flips.\n",
    "for i in 1:num_flips\n",
    "    # This variable stores the probability of staying with\n",
    "    # the current coin, fair or unfair.\n",
    "    success_val = 0\n",
    "    \n",
    "    # Flip the relevant coin and get the success_val.\n",
    "    if fair_coin == true\n",
    "        push!(flips, rand(fair))\n",
    "        success_val = transition_target[1,1]\n",
    "    else\n",
    "        push!(flips, rand(unfair))\n",
    "        success_val = transition_target[2,2]\n",
    "    end\n",
    "    \n",
    "    # Add the state we just used to the states variable.\n",
    "    push!(states, fair_coin)\n",
    "    \n",
    "    # Calculate whether to stay in our current state.\n",
    "    new_state = rand(Bernoulli(success_val))\n",
    "    \n",
    "    # If we got a zero in new_state, switch coins.\n",
    "    if new_state == 0\n",
    "        fair_coin = ~fair_coin\n",
    "    end\n",
    "end"
   ]
  },
  {
   "cell_type": "markdown",
   "metadata": {},
   "source": [
    "Time to declare our Turing model. You will note that this model is very similar to the one we used in the previous example, but now the emission parameter `m` has a `Beta` prior. This will allow us to model the probability of getting a heads in each state. Additionally, when we observe each data point `y[i]`, we are using the `Bernoulli` distribution, which models this coin-flipping game better than the `Normal` dsitribution we used previously."
   ]
  },
  {
   "cell_type": "code",
   "execution_count": 395,
   "metadata": {},
   "outputs": [],
   "source": [
    "# Turing model definition.\n",
    "@model BayesHmmCoins(y, K) = begin\n",
    "    num_obs = length(y)\n",
    "    \n",
    "    # State sequence.\n",
    "    s = tzeros(Int, num_obs)\n",
    "    \n",
    "    # Emission matrix.\n",
    "    m = Vector{Real}(undef, K)\n",
    "    \n",
    "    # Transition matrix.\n",
    "    T = Vector{Vector{Real}}(undef, K)\n",
    "    \n",
    "    # Assign distributions to each element \n",
    "    # of the transition matrix and the\n",
    "    # emission matrix.\n",
    "    for i = 1:K\n",
    "        T[i] ~ Dirichlet(ones(K)/K)\n",
    "        m[i] ~ Beta(1,1)\n",
    "    end\n",
    "    \n",
    "    # Observe each point of the input.\n",
    "    s[1] ~ Categorical(K)\n",
    "    for i = 2:num_obs\n",
    "        s[i] ~ Categorical(vec(T[s[i-1]]))\n",
    "        y[i] ~ Bernoulli(m[s[i]])\n",
    "    end\n",
    "    \n",
    "    return(s, m)\n",
    "end;"
   ]
  },
  {
   "cell_type": "markdown",
   "metadata": {},
   "source": [
    "We reuse the Gibbs sampler as declared above, but with some parameters changed around very slightly."
   ]
  },
  {
   "cell_type": "code",
   "execution_count": 411,
   "metadata": {},
   "outputs": [
    {
     "name": "stderr",
     "output_type": "stream",
     "text": [
      "┌ Info:  Assume - `T` is a parameter\n",
      "└ @ Turing /home/cameron/.julia/packages/Turing/YnwiD/src/core/compiler.jl:165\n",
      "┌ Info:  Assume - `m` is a parameter\n",
      "└ @ Turing /home/cameron/.julia/packages/Turing/YnwiD/src/core/compiler.jl:165\n",
      "┌ Info:  Assume - `s` is a parameter\n",
      "└ @ Turing /home/cameron/.julia/packages/Turing/YnwiD/src/core/compiler.jl:165\n",
      "┌ Info:  Observe - `y` is an observation\n",
      "└ @ Turing /home/cameron/.julia/packages/Turing/YnwiD/src/core/compiler.jl:153\n",
      "\u001b[32m[Gibbs] Sampling...100% Time: 0:01:44\u001b[39m\n",
      "┌ Info: [Gibbs] Finished with\n",
      "└ @ Turing /home/cameron/.julia/packages/Turing/YnwiD/src/samplers/gibbs.jl:163\n",
      "┌ Info:   Running time    = 104.23629854699996;\n",
      "└ @ Turing /home/cameron/.julia/packages/Turing/YnwiD/src/samplers/gibbs.jl:164\n"
     ]
    }
   ],
   "source": [
    "g = Gibbs(500, HMC(10, 0.001, 10, :m, :T), PG(60, 1, :s))\n",
    "c2 = sample(BayesHmmCoins(flips, 2), g);"
   ]
  },
  {
   "cell_type": "markdown",
   "metadata": {},
   "source": [
    "What do each of the parameters in our HMM model (the transition matrix, emission matrix, or state sequence) tell us?\n",
    "\n",
    "Jane has already cheated us in the past, so the state sequence matrix won't be very helpful on it's own in future games. The emission matrix tells us how probable a heads is in each state. The transition matrix can use it to determine the probabilities that Jane will cheat us in the future, assuming we know the current state.\n",
    "\n",
    "The graph below plots the distance between the main diagonals on the transition matrix that Jane uses, and the ones we sampled from."
   ]
  },
  {
   "cell_type": "code",
   "execution_count": 412,
   "metadata": {},
   "outputs": [
    {
     "name": "stderr",
     "output_type": "stream",
     "text": [
      "┌ Info: Saved animation to \n",
      "│   fn = /home/cameron/code/TuringTutorials/tmp.gif\n",
      "└ @ Plots /home/cameron/.julia/packages/Plots/rmogG/src/animation.jl:90\n"
     ]
    },
    {
     "data": {
      "text/html": [
       "<img src=\"tmp.gif?0.11356243969012625>\" />"
      ],
      "text/plain": [
       "Plots.AnimatedGif(\"/home/cameron/code/TuringTutorials/tmp.gif\")"
      ]
     },
     "execution_count": 412,
     "metadata": {},
     "output_type": "execute_result"
    }
   ],
   "source": [
    "# Extract our m and s parameters from the chain.\n",
    "t_set = c2[:T]\n",
    "\n",
    "# Iterate through the MCMC samples.\n",
    "Ns = 1:length(t_set)\n",
    "\n",
    "# Make an animation.\n",
    "animation = @animate for (i, N) in enumerate(Ns)\n",
    "    t = t_set[N]\n",
    "    point1 = (t[1][1], t[1][2])\n",
    "    point2 = (transition_target[1, 1], transition_target[1, 2])\n",
    "    p1_dist = abs(point1[1] - point2[1])\n",
    "    \n",
    "    point3 = (t[2][1], t[2][2])\n",
    "    point4 = (transition_target[2, 1], transition_target[2, 2])\n",
    "    p2_dist = abs(point3[2] - point4[2])\n",
    "    \n",
    "    bar([p1_dist, p2_dist], \n",
    "        title=\"Sample $N\", \n",
    "        ylim=(0,0.2),\n",
    "        labels = [\"State 1\", \"State 2\"])\n",
    "end every 10;\n",
    "\n",
    "gif(animation, \"tmp.gif\", fps=15)"
   ]
  }
 ],
 "metadata": {
  "anaconda-cloud": {},
  "kernel_info": {
   "name": "julia-0.5"
  },
  "kernelspec": {
   "display_name": "Julia 1.0.0",
   "language": "julia",
   "name": "julia-1.0"
  },
  "language_info": {
   "file_extension": ".jl",
   "mimetype": "application/julia",
   "name": "julia",
   "version": "1.0.0"
  }
 },
 "nbformat": 4,
 "nbformat_minor": 2
}
