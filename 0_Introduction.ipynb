{
 "cells": [
  {
   "cell_type": "markdown",
   "metadata": {},
   "source": [
    "# Introduction to Turing\n",
    "\n",
    "## Introduction\n",
    "This is the first of a series of tutorials on the universal probabilistic programming language **Turing**.\n",
    "\n",
    "Turing is probabilistic programming system written entirely in Julia. It has an intuitive modelling syntax and supports a wide range of sampling-based inference algorithms. Most importantly, Turing inference is composable: it combines Markov chain sampling operations on subsets of model variables, e.g. using a combination of a Hamiltonian Monte Carlo (HMC) engine and a particle Gibbs (PG) engine. This composable inference engine allows the user to easily switch between black-box style inference methods such as HMC and customized inference methods.\n",
    " \n",
    "Familiarity with Julia is assumed through out this tutorial. If you are new to Julia, [Learning Julia](https://julialang.org/learning/) is a good starting point.\n",
    "\n",
    "For users new to Bayesian machine learning, please consider more thorough introductions to the field, such as [Pattern Recognition and Machine Learning](https://www.springer.com/us/book/9780387310732). This tutorial tries to provide an intuition for Bayesian inference and gives a simple example on how to use Turing. Note that this is not a comprehensive introduction to Bayesian machine learning."
   ]
  },
  {
   "cell_type": "markdown",
   "metadata": {},
   "source": [
    "### Coin-Flipping Without Turing\n",
    "The following example illustrates the effect of updating our beliefs with every piece of new evidence we observe. In particular, assume that we are unsure about the probability of heads in a coin flip. To get an intuitive understanding of what \"updating our beliefs\" is, we will visualize the probability of heads in a coin flip after each observed evidence.\n",
    "\n",
    "First, let's load some of the packages we need to flip a coin (`Random`, `Distributions`) and show our results (`Plots`). You will note that Turing is not an import here — we do not need it for this example. If you are already familiar with posterior updates, you can proceed to the next step."
   ]
  },
  {
   "cell_type": "code",
   "execution_count": 26,
   "metadata": {},
   "outputs": [],
   "source": [
    "# Using Base modules.\n",
    "using Random\n",
    "\n",
    "# Load a plotting library.\n",
    "using Plots\n",
    "\n",
    "# Load the distributions library.\n",
    "using Distributions"
   ]
  },
  {
   "cell_type": "markdown",
   "metadata": {},
   "source": [
    "Next, we configure our posterior update model. First, let's set the true probability that any coin flip will turn up heads and set the number of coin flips we will show our model:"
   ]
  },
  {
   "cell_type": "code",
   "execution_count": 27,
   "metadata": {},
   "outputs": [],
   "source": [
    "# Set the true probability of heads in a coin.\n",
    "p_true = 0.5\n",
    "\n",
    "# Iterate from having seen 0 observations to 100 observations.\n",
    "Ns = 0:100;"
   ]
  },
  {
   "cell_type": "markdown",
   "metadata": {},
   "source": [
    "We will now use the Bernoulli distribution to flip 100 coins, and collect the results in a variable called `data`:"
   ]
  },
  {
   "cell_type": "code",
   "execution_count": 28,
   "metadata": {},
   "outputs": [
    {
     "data": {
      "text/plain": [
       "5-element Array{Int64,1}:\n",
       " 1\n",
       " 0\n",
       " 1\n",
       " 1\n",
       " 0"
      ]
     },
     "execution_count": 28,
     "metadata": {},
     "output_type": "execute_result"
    }
   ],
   "source": [
    "# Draw data from a Bernoulli distribution, i.e. draw heads or tails.\n",
    "Random.seed!(12)\n",
    "data = rand(Bernoulli(p_true), last(Ns))\n",
    "\n",
    "# Here's what the first five coin flips look like:\n",
    "data[1:5]"
   ]
  },
  {
   "cell_type": "markdown",
   "metadata": {},
   "source": [
    "After flipping all our coins, we want to set a prior belief about what we think the distribution of coin flips look like. In this case, we are going to choose a common prior distribution called the [Beta](https://en.wikipedia.org/wiki/Beta_distribution) distribution."
   ]
  },
  {
   "cell_type": "code",
   "execution_count": 29,
   "metadata": {},
   "outputs": [],
   "source": [
    "# Our prior belief about the probability of heads in a coin toss.\n",
    "prior_belief = Beta(1, 1);"
   ]
  },
  {
   "cell_type": "markdown",
   "metadata": {},
   "source": [
    "With our priors set and our data at hand, we can perform Bayesian inference.\n",
    "\n",
    "This is a fairly simple process. We expose one additional coin flip to our model every iteration, such that the first run only sees the first coin flip, while the last iteration sees all the coin flips. Then, we set the `updated_belief` variable to an updated version of the original Beta distribution that accounts for the new proportion of heads and tails. "
   ]
  },
  {
   "cell_type": "markdown",
   "metadata": {},
   "source": [
    "For the mathematically inclined, the `Beta` distribution is updated by adding each coin flip to the distribution's $\\alpha$ and $\\beta$ parameters, which are initially defined as $\\alpha = 1, \\beta = 1$. Over time, with more and more coin flips, $\\alpha$ and $\\beta$ will be approximately equal to each other as we are equally likely to flip a heads or a tails, and the plot of the beta distribution will become more tightly centered around 0.5. \n",
    "\n",
    "This works because mean of the `Beta` distribution is defined as the following:\n",
    "\n",
    "$$ \\text{E}[\\text{Beta}] = \\dfrac{\\alpha}{\\alpha+\\beta} $$\n",
    "\n",
    "Which is 0.5 when $\\alpha = \\beta$, as we expect for a large enough number of coin flips. As we increase the number of samples, our variance will also decrease, such that the distribution will reflect less uncertainty about the probability of receiving a heads. The definition of the variance for the `Beta` distribution is the following:\n",
    "\n",
    "$$ \\text{var}[\\text{Beta}] = \\dfrac{\\alpha\\beta}{(\\alpha + \\beta)^2 (\\alpha + \\beta + 1)} $$\n",
    "\n",
    "The intuition about this definition is that the variance of the distribution will approach 0 with more and more samples, as the denominator will grow faster than will the numerator. More samples means less variance."
   ]
  },
  {
   "cell_type": "code",
   "execution_count": 30,
   "metadata": {},
   "outputs": [
    {
     "name": "stderr",
     "output_type": "stream",
     "text": [
      "┌ Info: Saved animation to \n",
      "│   fn = /home/cameron/code/TuringTutorials/tmp.gif\n",
      "└ @ Plots /home/cameron/.julia/packages/Plots/gylTh/src/animation.jl:90\n"
     ]
    }
   ],
   "source": [
    "# Import StatsPlots for animating purposes.\n",
    "using StatsPlots\n",
    "\n",
    "# Make an animation.\n",
    "animation = @gif for (i, N) in enumerate(Ns)\n",
    "\n",
    "    # Count the number of heads and tails.\n",
    "    heads = sum(data[1:i-1])\n",
    "    tails = N - heads\n",
    "    \n",
    "    # Update our prior belief in closed form (this is possible because we use a conjugate prior).\n",
    "    updated_belief = Beta(prior_belief.α + heads, prior_belief.β + tails)\n",
    "\n",
    "    # Plotting\n",
    "    plot(updated_belief, \n",
    "        size = (500, 250), \n",
    "        title = \"Updated belief after $N observations\",\n",
    "        xlabel = \"probability of heads\", \n",
    "        ylabel = \"\", \n",
    "        legend = nothing,\n",
    "        xlim = (0,1),\n",
    "        fill=0, α=0.3, w=3)\n",
    "    vline!([p_true])\n",
    "end;"
   ]
  },
  {
   "cell_type": "markdown",
   "metadata": {},
   "source": [
    "![animation](https://user-images.githubusercontent.com/7974003/44995702-37c1b200-af9c-11e8-8b26-c88a528956af.gif)"
   ]
  },
  {
   "cell_type": "markdown",
   "metadata": {},
   "source": [
    "The animation above shows that with increasing evidence our belief about the probability of heads in a coin flip slowly adjusts towards the true value. The orange line in the animation represents the true probability of seeing heads on a single coin flip, while the mode of the distribution shows what the model believes the probability of a heads is given the evidence it has seen."
   ]
  },
  {
   "cell_type": "markdown",
   "metadata": {},
   "source": [
    "### Coin Flipping With Turing\n",
    "\n",
    "In the previous example, we used the fact that our prior distribution is a [conjugate prior](https://en.wikipedia.org/wiki/Conjugate_prior). Note that a closed-form expression (the `updated_belief` expression) for the posterior is not accessible in general and usually does not exist for more interesting models. \n",
    "\n",
    "We are now going to move away from the closed-form expression above and specify the same model using **Turing**. To do so, we will first need to import `Turing`, `MCMCChains`, `Distributions`, and `StatPlots`. `MCMCChains` is a library built by the Turing team to help summarize Markov Chain Monte Carlo (MCMC) simulations, as well as a variety of utility functions for diagnostics and visualizations."
   ]
  },
  {
   "cell_type": "code",
   "execution_count": 31,
   "metadata": {},
   "outputs": [],
   "source": [
    "# Load Turing and MCMCChains.\n",
    "using Turing, MCMCChains\n",
    "\n",
    "# Load the distributions library.\n",
    "using Distributions\n",
    "\n",
    "# Load stats plots for density plots.\n",
    "using StatsPlots"
   ]
  },
  {
   "cell_type": "markdown",
   "metadata": {},
   "source": [
    "First, we define the coin-flip model using Turing."
   ]
  },
  {
   "cell_type": "code",
   "execution_count": 32,
   "metadata": {},
   "outputs": [],
   "source": [
    "@model coinflip(y) = begin\n",
    "    \n",
    "    # Our prior belief about the probability of heads in a coin.\n",
    "    p ~ Beta(1, 1)\n",
    "    \n",
    "    # The number of observations.\n",
    "    N = length(y)\n",
    "    for n in 1:N\n",
    "        # Heads or tails of a coin are drawn from a Bernoulli distribution.\n",
    "        y[n] ~ Bernoulli(p)\n",
    "    end\n",
    "end;"
   ]
  },
  {
   "cell_type": "markdown",
   "metadata": {},
   "source": [
    "After defining the model, we can approximate the posterior distribution by drawing samples from the distribution. In this example, we use a [Hamiltonian Monte Carlo](https://en.wikipedia.org/wiki/Hamiltonian_Monte_Carlo) sampler to draw these samples. Later tutorials will give more information on the samplers available in Turing and discuss their use for different models."
   ]
  },
  {
   "cell_type": "code",
   "execution_count": 33,
   "metadata": {},
   "outputs": [
    {
     "name": "stderr",
     "output_type": "stream",
     "text": [
      "\u001b[32m[HMC] Sampling... 14%  ETA: 0:00:07\u001b[39m\n",
      "\u001b[34m  ϵ:         0.05\u001b[39m\n",
      "\u001b[34m  α:         0.9880998225926902\u001b[39m\n",
      "\u001b[A4m  pre_cond:  [1.0]\u001b[39m\n",
      "\n",
      "\n",
      "\u001b[32m[HMC] Sampling... 51%  ETA: 0:00:02\u001b[39m\n",
      "\u001b[34m  ϵ:         0.05\u001b[39m\n",
      "\u001b[34m  α:         1.0\u001b[39m\n",
      "\u001b[A4m  pre_cond:  [1.0]\u001b[39m"
     ]
    },
    {
     "name": "stdout",
     "output_type": "stream",
     "text": [
      "[HMC] Finished with\n",
      "  Running time        = 3.210658175000005;\n",
      "  Accept rate         = 0.997;\n",
      "  #lf / sample        = 9.99;\n",
      "  #evals / sample     = 11.99;\n",
      "  pre-cond. metric    = [1.0].\n"
     ]
    },
    {
     "name": "stderr",
     "output_type": "stream",
     "text": [
      "\n",
      "\n",
      "\n",
      "\u001b[32m[HMC] Sampling... 96%  ETA: 0:00:00\u001b[39m\n",
      "\u001b[34m  ϵ:         0.05\u001b[39m\n",
      "\u001b[34m  α:         0.9942766616472698\u001b[39m\n",
      "\u001b[A4m  pre_cond:  [1.0]\u001b[39m\n",
      "\n",
      "\n",
      "\u001b[32m[HMC] Sampling...100% Time: 0:00:03\u001b[39m\n"
     ]
    }
   ],
   "source": [
    "# Settings of the Hamiltonian Monte Carlo (HMC) sampler.\n",
    "iterations = 1000\n",
    "ϵ = 0.05\n",
    "τ = 10\n",
    "\n",
    "# Start sampling.\n",
    "chain = sample(coinflip(data), HMC(iterations, ϵ, τ));"
   ]
  },
  {
   "cell_type": "markdown",
   "metadata": {},
   "source": [
    "After finishing the sampling process, we can visualize the posterior distribution approximated using Turing against the posterior distribution in closed-form. We can extract the chain data from the sampler using the `Chains(chain[:p])` function, exported from the `MCMCChain` module. `Chains(chain[:p])` creates an instance of the `Chain` type which summarizes the MCMC simulation — the `MCMCChain` module supports numerous tools for plotting, summarizing, and describing variables of type `Chain`."
   ]
  },
  {
   "cell_type": "code",
   "execution_count": 34,
   "metadata": {},
   "outputs": [
    {
     "data": {
      "image/svg+xml": [
       "<?xml version=\"1.0\" encoding=\"utf-8\"?>\n",
       "<svg xmlns=\"http://www.w3.org/2000/svg\" xmlns:xlink=\"http://www.w3.org/1999/xlink\" width=\"500\" height=\"250\" viewBox=\"0 0 2000 1000\">\n",
       "<defs>\n",
       "  <clipPath id=\"clip6700\">\n",
       "    <rect x=\"0\" y=\"0\" width=\"2000\" height=\"2000\"/>\n",
       "  </clipPath>\n",
       "</defs>\n",
       "<defs>\n",
       "  <clipPath id=\"clip6701\">\n",
       "    <rect x=\"0\" y=\"0\" width=\"2000\" height=\"1000\"/>\n",
       "  </clipPath>\n",
       "</defs>\n",
       "<polygon clip-path=\"url(#clip6701)\" points=\"\n",
       "0,1000 2000,1000 2000,0 0,0 \n",
       "  \" fill=\"#ffffff\" fill-rule=\"evenodd\" fill-opacity=\"1\"/>\n",
       "<defs>\n",
       "  <clipPath id=\"clip6702\">\n",
       "    <rect x=\"400\" y=\"0\" width=\"1401\" height=\"1000\"/>\n",
       "  </clipPath>\n",
       "</defs>\n",
       "<polygon clip-path=\"url(#clip6701)\" points=\"\n",
       "237.767,848.866 1921.26,848.866 1921.26,125.984 237.767,125.984 \n",
       "  \" fill=\"#ffffff\" fill-rule=\"evenodd\" fill-opacity=\"1\"/>\n",
       "<defs>\n",
       "  <clipPath id=\"clip6703\">\n",
       "    <rect x=\"237\" y=\"125\" width=\"1684\" height=\"724\"/>\n",
       "  </clipPath>\n",
       "</defs>\n",
       "<polyline clip-path=\"url(#clip6703)\" style=\"stroke:#000000; stroke-width:2; stroke-opacity:0.1; fill:none\" points=\"\n",
       "  330.362,848.866 330.362,125.984 \n",
       "  \"/>\n",
       "<polyline clip-path=\"url(#clip6703)\" style=\"stroke:#000000; stroke-width:2; stroke-opacity:0.1; fill:none\" points=\"\n",
       "  784.393,848.866 784.393,125.984 \n",
       "  \"/>\n",
       "<polyline clip-path=\"url(#clip6703)\" style=\"stroke:#000000; stroke-width:2; stroke-opacity:0.1; fill:none\" points=\"\n",
       "  1238.42,848.866 1238.42,125.984 \n",
       "  \"/>\n",
       "<polyline clip-path=\"url(#clip6703)\" style=\"stroke:#000000; stroke-width:2; stroke-opacity:0.1; fill:none\" points=\"\n",
       "  1692.46,848.866 1692.46,125.984 \n",
       "  \"/>\n",
       "<polyline clip-path=\"url(#clip6703)\" style=\"stroke:#000000; stroke-width:2; stroke-opacity:0.1; fill:none\" points=\"\n",
       "  237.767,828.407 1921.26,828.407 \n",
       "  \"/>\n",
       "<polyline clip-path=\"url(#clip6703)\" style=\"stroke:#000000; stroke-width:2; stroke-opacity:0.1; fill:none\" points=\"\n",
       "  237.767,612.596 1921.26,612.596 \n",
       "  \"/>\n",
       "<polyline clip-path=\"url(#clip6703)\" style=\"stroke:#000000; stroke-width:2; stroke-opacity:0.1; fill:none\" points=\"\n",
       "  237.767,396.784 1921.26,396.784 \n",
       "  \"/>\n",
       "<polyline clip-path=\"url(#clip6703)\" style=\"stroke:#000000; stroke-width:2; stroke-opacity:0.1; fill:none\" points=\"\n",
       "  237.767,180.973 1921.26,180.973 \n",
       "  \"/>\n",
       "<polyline clip-path=\"url(#clip6701)\" style=\"stroke:#000000; stroke-width:4; stroke-opacity:1; fill:none\" points=\"\n",
       "  237.767,848.866 1921.26,848.866 \n",
       "  \"/>\n",
       "<polyline clip-path=\"url(#clip6701)\" style=\"stroke:#000000; stroke-width:4; stroke-opacity:1; fill:none\" points=\"\n",
       "  237.767,848.866 237.767,125.984 \n",
       "  \"/>\n",
       "<polyline clip-path=\"url(#clip6701)\" style=\"stroke:#000000; stroke-width:4; stroke-opacity:1; fill:none\" points=\"\n",
       "  330.362,848.866 330.362,838.023 \n",
       "  \"/>\n",
       "<polyline clip-path=\"url(#clip6701)\" style=\"stroke:#000000; stroke-width:4; stroke-opacity:1; fill:none\" points=\"\n",
       "  784.393,848.866 784.393,838.023 \n",
       "  \"/>\n",
       "<polyline clip-path=\"url(#clip6701)\" style=\"stroke:#000000; stroke-width:4; stroke-opacity:1; fill:none\" points=\"\n",
       "  1238.42,848.866 1238.42,838.023 \n",
       "  \"/>\n",
       "<polyline clip-path=\"url(#clip6701)\" style=\"stroke:#000000; stroke-width:4; stroke-opacity:1; fill:none\" points=\"\n",
       "  1692.46,848.866 1692.46,838.023 \n",
       "  \"/>\n",
       "<polyline clip-path=\"url(#clip6701)\" style=\"stroke:#000000; stroke-width:4; stroke-opacity:1; fill:none\" points=\"\n",
       "  237.767,828.407 263.02,828.407 \n",
       "  \"/>\n",
       "<polyline clip-path=\"url(#clip6701)\" style=\"stroke:#000000; stroke-width:4; stroke-opacity:1; fill:none\" points=\"\n",
       "  237.767,612.596 263.02,612.596 \n",
       "  \"/>\n",
       "<polyline clip-path=\"url(#clip6701)\" style=\"stroke:#000000; stroke-width:4; stroke-opacity:1; fill:none\" points=\"\n",
       "  237.767,396.784 263.02,396.784 \n",
       "  \"/>\n",
       "<polyline clip-path=\"url(#clip6701)\" style=\"stroke:#000000; stroke-width:4; stroke-opacity:1; fill:none\" points=\"\n",
       "  237.767,180.973 263.02,180.973 \n",
       "  \"/>\n",
       "<g clip-path=\"url(#clip6701)\">\n",
       "<text style=\"fill:#000000; fill-opacity:1; font-family:Arial,Helvetica Neue,Helvetica,sans-serif; font-size:48px; text-anchor:middle;\" transform=\"rotate(0, 330.362, 900.866)\" x=\"330.362\" y=\"900.866\">0.2</text>\n",
       "</g>\n",
       "<g clip-path=\"url(#clip6701)\">\n",
       "<text style=\"fill:#000000; fill-opacity:1; font-family:Arial,Helvetica Neue,Helvetica,sans-serif; font-size:48px; text-anchor:middle;\" transform=\"rotate(0, 784.393, 900.866)\" x=\"784.393\" y=\"900.866\">0.4</text>\n",
       "</g>\n",
       "<g clip-path=\"url(#clip6701)\">\n",
       "<text style=\"fill:#000000; fill-opacity:1; font-family:Arial,Helvetica Neue,Helvetica,sans-serif; font-size:48px; text-anchor:middle;\" transform=\"rotate(0, 1238.42, 900.866)\" x=\"1238.42\" y=\"900.866\">0.6</text>\n",
       "</g>\n",
       "<g clip-path=\"url(#clip6701)\">\n",
       "<text style=\"fill:#000000; fill-opacity:1; font-family:Arial,Helvetica Neue,Helvetica,sans-serif; font-size:48px; text-anchor:middle;\" transform=\"rotate(0, 1692.46, 900.866)\" x=\"1692.46\" y=\"900.866\">0.8</text>\n",
       "</g>\n",
       "<g clip-path=\"url(#clip6701)\">\n",
       "<text style=\"fill:#000000; fill-opacity:1; font-family:Arial,Helvetica Neue,Helvetica,sans-serif; font-size:48px; text-anchor:end;\" transform=\"rotate(0, 217.767, 845.907)\" x=\"217.767\" y=\"845.907\">0</text>\n",
       "</g>\n",
       "<g clip-path=\"url(#clip6701)\">\n",
       "<text style=\"fill:#000000; fill-opacity:1; font-family:Arial,Helvetica Neue,Helvetica,sans-serif; font-size:48px; text-anchor:end;\" transform=\"rotate(0, 217.767, 630.096)\" x=\"217.767\" y=\"630.096\">50</text>\n",
       "</g>\n",
       "<g clip-path=\"url(#clip6701)\">\n",
       "<text style=\"fill:#000000; fill-opacity:1; font-family:Arial,Helvetica Neue,Helvetica,sans-serif; font-size:48px; text-anchor:end;\" transform=\"rotate(0, 217.767, 414.284)\" x=\"217.767\" y=\"414.284\">100</text>\n",
       "</g>\n",
       "<g clip-path=\"url(#clip6701)\">\n",
       "<text style=\"fill:#000000; fill-opacity:1; font-family:Arial,Helvetica Neue,Helvetica,sans-serif; font-size:48px; text-anchor:end;\" transform=\"rotate(0, 217.767, 198.473)\" x=\"217.767\" y=\"198.473\">150</text>\n",
       "</g>\n",
       "<g clip-path=\"url(#clip6701)\">\n",
       "<text style=\"fill:#000000; fill-opacity:1; font-family:Arial,Helvetica Neue,Helvetica,sans-serif; font-size:84px; text-anchor:middle;\" transform=\"rotate(0, 1079.51, 73.2)\" x=\"1079.51\" y=\"73.2\">Param1</text>\n",
       "</g>\n",
       "<g clip-path=\"url(#clip6701)\">\n",
       "<text style=\"fill:#000000; fill-opacity:1; font-family:Arial,Helvetica Neue,Helvetica,sans-serif; font-size:66px; text-anchor:middle;\" transform=\"rotate(0, 1079.51, 990.4)\" x=\"1079.51\" y=\"990.4\">Sample value</text>\n",
       "</g>\n",
       "<g clip-path=\"url(#clip6701)\">\n",
       "<text style=\"fill:#000000; fill-opacity:1; font-family:Arial,Helvetica Neue,Helvetica,sans-serif; font-size:66px; text-anchor:middle;\" transform=\"rotate(-90, 57.6, 487.425)\" x=\"57.6\" y=\"487.425\">Frequency</text>\n",
       "</g>\n",
       "<polygon clip-path=\"url(#clip6703)\" points=\"\n",
       "330.362,824.091 330.362,828.407 375.766,828.407 375.766,824.091 330.362,824.091 330.362,824.091 \n",
       "  \" fill=\"#009af9\" fill-rule=\"evenodd\" fill-opacity=\"0.7\"/>\n",
       "<polyline clip-path=\"url(#clip6703)\" style=\"stroke:#000000; stroke-width:4; stroke-opacity:1; fill:none\" points=\"\n",
       "  330.362,824.091 330.362,828.407 375.766,828.407 375.766,824.091 330.362,824.091 \n",
       "  \"/>\n",
       "<polygon clip-path=\"url(#clip6703)\" points=\"\n",
       "375.766,828.407 375.766,828.407 421.169,828.407 421.169,828.407 375.766,828.407 375.766,828.407 \n",
       "  \" fill=\"#009af9\" fill-rule=\"evenodd\" fill-opacity=\"0.7\"/>\n",
       "<polyline clip-path=\"url(#clip6703)\" style=\"stroke:#000000; stroke-width:4; stroke-opacity:1; fill:none\" points=\"\n",
       "  375.766,828.407 375.766,828.407 421.169,828.407 375.766,828.407 \n",
       "  \"/>\n",
       "<polygon clip-path=\"url(#clip6703)\" points=\"\n",
       "421.169,824.091 421.169,828.407 466.572,828.407 466.572,824.091 421.169,824.091 421.169,824.091 \n",
       "  \" fill=\"#009af9\" fill-rule=\"evenodd\" fill-opacity=\"0.7\"/>\n",
       "<polyline clip-path=\"url(#clip6703)\" style=\"stroke:#000000; stroke-width:4; stroke-opacity:1; fill:none\" points=\"\n",
       "  421.169,824.091 421.169,828.407 466.572,828.407 466.572,824.091 421.169,824.091 \n",
       "  \"/>\n",
       "<polygon clip-path=\"url(#clip6703)\" points=\"\n",
       "466.572,828.407 466.572,828.407 511.975,828.407 511.975,828.407 466.572,828.407 466.572,828.407 \n",
       "  \" fill=\"#009af9\" fill-rule=\"evenodd\" fill-opacity=\"0.7\"/>\n",
       "<polyline clip-path=\"url(#clip6703)\" style=\"stroke:#000000; stroke-width:4; stroke-opacity:1; fill:none\" points=\"\n",
       "  466.572,828.407 466.572,828.407 511.975,828.407 466.572,828.407 \n",
       "  \"/>\n",
       "<polygon clip-path=\"url(#clip6703)\" points=\"\n",
       "511.975,828.407 511.975,828.407 557.378,828.407 557.378,828.407 511.975,828.407 511.975,828.407 \n",
       "  \" fill=\"#009af9\" fill-rule=\"evenodd\" fill-opacity=\"0.7\"/>\n",
       "<polyline clip-path=\"url(#clip6703)\" style=\"stroke:#000000; stroke-width:4; stroke-opacity:1; fill:none\" points=\"\n",
       "  511.975,828.407 511.975,828.407 557.378,828.407 511.975,828.407 \n",
       "  \"/>\n",
       "<polygon clip-path=\"url(#clip6703)\" points=\"\n",
       "557.378,828.407 557.378,828.407 602.781,828.407 602.781,828.407 557.378,828.407 557.378,828.407 \n",
       "  \" fill=\"#009af9\" fill-rule=\"evenodd\" fill-opacity=\"0.7\"/>\n",
       "<polyline clip-path=\"url(#clip6703)\" style=\"stroke:#000000; stroke-width:4; stroke-opacity:1; fill:none\" points=\"\n",
       "  557.378,828.407 557.378,828.407 602.781,828.407 557.378,828.407 \n",
       "  \"/>\n",
       "<polygon clip-path=\"url(#clip6703)\" points=\"\n",
       "602.781,824.091 602.781,828.407 648.184,828.407 648.184,824.091 602.781,824.091 602.781,824.091 \n",
       "  \" fill=\"#009af9\" fill-rule=\"evenodd\" fill-opacity=\"0.7\"/>\n",
       "<polyline clip-path=\"url(#clip6703)\" style=\"stroke:#000000; stroke-width:4; stroke-opacity:1; fill:none\" points=\"\n",
       "  602.781,824.091 602.781,828.407 648.184,828.407 648.184,824.091 602.781,824.091 \n",
       "  \"/>\n",
       "<polygon clip-path=\"url(#clip6703)\" points=\"\n",
       "648.184,828.407 648.184,828.407 693.587,828.407 693.587,828.407 648.184,828.407 648.184,828.407 \n",
       "  \" fill=\"#009af9\" fill-rule=\"evenodd\" fill-opacity=\"0.7\"/>\n",
       "<polyline clip-path=\"url(#clip6703)\" style=\"stroke:#000000; stroke-width:4; stroke-opacity:1; fill:none\" points=\"\n",
       "  648.184,828.407 648.184,828.407 693.587,828.407 648.184,828.407 \n",
       "  \"/>\n",
       "<polygon clip-path=\"url(#clip6703)\" points=\"\n",
       "693.587,811.142 693.587,828.407 738.99,828.407 738.99,811.142 693.587,811.142 693.587,811.142 \n",
       "  \" fill=\"#009af9\" fill-rule=\"evenodd\" fill-opacity=\"0.7\"/>\n",
       "<polyline clip-path=\"url(#clip6703)\" style=\"stroke:#000000; stroke-width:4; stroke-opacity:1; fill:none\" points=\"\n",
       "  693.587,811.142 693.587,828.407 738.99,828.407 738.99,811.142 693.587,811.142 \n",
       "  \"/>\n",
       "<polygon clip-path=\"url(#clip6703)\" points=\"\n",
       "738.99,802.51 738.99,828.407 784.393,828.407 784.393,802.51 738.99,802.51 738.99,802.51 \n",
       "  \" fill=\"#009af9\" fill-rule=\"evenodd\" fill-opacity=\"0.7\"/>\n",
       "<polyline clip-path=\"url(#clip6703)\" style=\"stroke:#000000; stroke-width:4; stroke-opacity:1; fill:none\" points=\"\n",
       "  738.99,802.51 738.99,828.407 784.393,828.407 784.393,802.51 738.99,802.51 \n",
       "  \"/>\n",
       "<polygon clip-path=\"url(#clip6703)\" points=\"\n",
       "784.393,733.45 784.393,828.407 829.797,828.407 829.797,733.45 784.393,733.45 784.393,733.45 \n",
       "  \" fill=\"#009af9\" fill-rule=\"evenodd\" fill-opacity=\"0.7\"/>\n",
       "<polyline clip-path=\"url(#clip6703)\" style=\"stroke:#000000; stroke-width:4; stroke-opacity:1; fill:none\" points=\"\n",
       "  784.393,733.45 784.393,828.407 829.797,828.407 829.797,733.45 784.393,733.45 \n",
       "  \"/>\n",
       "<polygon clip-path=\"url(#clip6703)\" points=\"\n",
       "829.797,677.339 829.797,828.407 875.2,828.407 875.2,677.339 829.797,677.339 829.797,677.339 \n",
       "  \" fill=\"#009af9\" fill-rule=\"evenodd\" fill-opacity=\"0.7\"/>\n",
       "<polyline clip-path=\"url(#clip6703)\" style=\"stroke:#000000; stroke-width:4; stroke-opacity:1; fill:none\" points=\"\n",
       "  829.797,677.339 829.797,828.407 875.2,828.407 875.2,677.339 829.797,677.339 \n",
       "  \"/>\n",
       "<polygon clip-path=\"url(#clip6703)\" points=\"\n",
       "875.2,539.22 875.2,828.407 920.603,828.407 920.603,539.22 875.2,539.22 875.2,539.22 \n",
       "  \" fill=\"#009af9\" fill-rule=\"evenodd\" fill-opacity=\"0.7\"/>\n",
       "<polyline clip-path=\"url(#clip6703)\" style=\"stroke:#000000; stroke-width:4; stroke-opacity:1; fill:none\" points=\"\n",
       "  875.2,539.22 875.2,828.407 920.603,828.407 920.603,539.22 875.2,539.22 \n",
       "  \"/>\n",
       "<polygon clip-path=\"url(#clip6703)\" points=\"\n",
       "920.603,448.579 920.603,828.407 966.006,828.407 966.006,448.579 920.603,448.579 920.603,448.579 \n",
       "  \" fill=\"#009af9\" fill-rule=\"evenodd\" fill-opacity=\"0.7\"/>\n",
       "<polyline clip-path=\"url(#clip6703)\" style=\"stroke:#000000; stroke-width:4; stroke-opacity:1; fill:none\" points=\"\n",
       "  920.603,448.579 920.603,828.407 966.006,828.407 966.006,448.579 920.603,448.579 \n",
       "  \"/>\n",
       "<polygon clip-path=\"url(#clip6703)\" points=\"\n",
       "966.006,280.246 966.006,828.407 1011.41,828.407 1011.41,280.246 966.006,280.246 966.006,280.246 \n",
       "  \" fill=\"#009af9\" fill-rule=\"evenodd\" fill-opacity=\"0.7\"/>\n",
       "<polyline clip-path=\"url(#clip6703)\" style=\"stroke:#000000; stroke-width:4; stroke-opacity:1; fill:none\" points=\"\n",
       "  966.006,280.246 966.006,828.407 1011.41,828.407 1011.41,280.246 966.006,280.246 \n",
       "  \"/>\n",
       "<polygon clip-path=\"url(#clip6703)\" points=\"\n",
       "1011.41,146.443 1011.41,828.407 1056.81,828.407 1056.81,146.443 1011.41,146.443 1011.41,146.443 \n",
       "  \" fill=\"#009af9\" fill-rule=\"evenodd\" fill-opacity=\"0.7\"/>\n",
       "<polyline clip-path=\"url(#clip6703)\" style=\"stroke:#000000; stroke-width:4; stroke-opacity:1; fill:none\" points=\"\n",
       "  1011.41,146.443 1011.41,828.407 1056.81,828.407 1056.81,146.443 1011.41,146.443 \n",
       "  \"/>\n",
       "<polygon clip-path=\"url(#clip6703)\" points=\"\n",
       "1056.81,245.716 1056.81,828.407 1102.22,828.407 1102.22,245.716 1056.81,245.716 1056.81,245.716 \n",
       "  \" fill=\"#009af9\" fill-rule=\"evenodd\" fill-opacity=\"0.7\"/>\n",
       "<polyline clip-path=\"url(#clip6703)\" style=\"stroke:#000000; stroke-width:4; stroke-opacity:1; fill:none\" points=\"\n",
       "  1056.81,245.716 1056.81,828.407 1102.22,828.407 1102.22,245.716 1056.81,245.716 \n",
       "  \"/>\n",
       "<polygon clip-path=\"url(#clip6703)\" points=\"\n",
       "1102.22,306.144 1102.22,828.407 1147.62,828.407 1147.62,306.144 1102.22,306.144 1102.22,306.144 \n",
       "  \" fill=\"#009af9\" fill-rule=\"evenodd\" fill-opacity=\"0.7\"/>\n",
       "<polyline clip-path=\"url(#clip6703)\" style=\"stroke:#000000; stroke-width:4; stroke-opacity:1; fill:none\" points=\"\n",
       "  1102.22,306.144 1102.22,828.407 1147.62,828.407 1147.62,306.144 1102.22,306.144 \n",
       "  \"/>\n",
       "<polygon clip-path=\"url(#clip6703)\" points=\"\n",
       "1147.62,392.468 1147.62,828.407 1193.02,828.407 1193.02,392.468 1147.62,392.468 1147.62,392.468 \n",
       "  \" fill=\"#009af9\" fill-rule=\"evenodd\" fill-opacity=\"0.7\"/>\n",
       "<polyline clip-path=\"url(#clip6703)\" style=\"stroke:#000000; stroke-width:4; stroke-opacity:1; fill:none\" points=\"\n",
       "  1147.62,392.468 1147.62,828.407 1193.02,828.407 1193.02,392.468 1147.62,392.468 \n",
       "  \"/>\n",
       "<polygon clip-path=\"url(#clip6703)\" points=\"\n",
       "1193.02,552.168 1193.02,828.407 1238.42,828.407 1238.42,552.168 1193.02,552.168 1193.02,552.168 \n",
       "  \" fill=\"#009af9\" fill-rule=\"evenodd\" fill-opacity=\"0.7\"/>\n",
       "<polyline clip-path=\"url(#clip6703)\" style=\"stroke:#000000; stroke-width:4; stroke-opacity:1; fill:none\" points=\"\n",
       "  1193.02,552.168 1193.02,828.407 1238.42,828.407 1238.42,552.168 1193.02,552.168 \n",
       "  \"/>\n",
       "<polygon clip-path=\"url(#clip6703)\" points=\"\n",
       "1238.42,642.809 1238.42,828.407 1283.83,828.407 1283.83,642.809 1238.42,642.809 1238.42,642.809 \n",
       "  \" fill=\"#009af9\" fill-rule=\"evenodd\" fill-opacity=\"0.7\"/>\n",
       "<polyline clip-path=\"url(#clip6703)\" style=\"stroke:#000000; stroke-width:4; stroke-opacity:1; fill:none\" points=\"\n",
       "  1238.42,642.809 1238.42,828.407 1283.83,828.407 1283.83,642.809 1238.42,642.809 \n",
       "  \"/>\n",
       "<polygon clip-path=\"url(#clip6703)\" points=\"\n",
       "1283.83,772.296 1283.83,828.407 1329.23,828.407 1329.23,772.296 1283.83,772.296 1283.83,772.296 \n",
       "  \" fill=\"#009af9\" fill-rule=\"evenodd\" fill-opacity=\"0.7\"/>\n",
       "<polyline clip-path=\"url(#clip6703)\" style=\"stroke:#000000; stroke-width:4; stroke-opacity:1; fill:none\" points=\"\n",
       "  1283.83,772.296 1283.83,828.407 1329.23,828.407 1329.23,772.296 1283.83,772.296 \n",
       "  \"/>\n",
       "<polygon clip-path=\"url(#clip6703)\" points=\"\n",
       "1329.23,802.51 1329.23,828.407 1374.63,828.407 1374.63,802.51 1329.23,802.51 1329.23,802.51 \n",
       "  \" fill=\"#009af9\" fill-rule=\"evenodd\" fill-opacity=\"0.7\"/>\n",
       "<polyline clip-path=\"url(#clip6703)\" style=\"stroke:#000000; stroke-width:4; stroke-opacity:1; fill:none\" points=\"\n",
       "  1329.23,802.51 1329.23,828.407 1374.63,828.407 1374.63,802.51 1329.23,802.51 \n",
       "  \"/>\n",
       "<polygon clip-path=\"url(#clip6703)\" points=\"\n",
       "1374.63,811.142 1374.63,828.407 1420.04,828.407 1420.04,811.142 1374.63,811.142 1374.63,811.142 \n",
       "  \" fill=\"#009af9\" fill-rule=\"evenodd\" fill-opacity=\"0.7\"/>\n",
       "<polyline clip-path=\"url(#clip6703)\" style=\"stroke:#000000; stroke-width:4; stroke-opacity:1; fill:none\" points=\"\n",
       "  1374.63,811.142 1374.63,828.407 1420.04,828.407 1420.04,811.142 1374.63,811.142 \n",
       "  \"/>\n",
       "<polygon clip-path=\"url(#clip6703)\" points=\"\n",
       "1420.04,828.407 1420.04,828.407 1465.44,828.407 1465.44,828.407 1420.04,828.407 1420.04,828.407 \n",
       "  \" fill=\"#009af9\" fill-rule=\"evenodd\" fill-opacity=\"0.7\"/>\n",
       "<polyline clip-path=\"url(#clip6703)\" style=\"stroke:#000000; stroke-width:4; stroke-opacity:1; fill:none\" points=\"\n",
       "  1420.04,828.407 1420.04,828.407 1465.44,828.407 1420.04,828.407 \n",
       "  \"/>\n",
       "<polygon clip-path=\"url(#clip6703)\" points=\"\n",
       "1465.44,828.407 1465.44,828.407 1510.84,828.407 1510.84,828.407 1465.44,828.407 1465.44,828.407 \n",
       "  \" fill=\"#009af9\" fill-rule=\"evenodd\" fill-opacity=\"0.7\"/>\n",
       "<polyline clip-path=\"url(#clip6703)\" style=\"stroke:#000000; stroke-width:4; stroke-opacity:1; fill:none\" points=\"\n",
       "  1465.44,828.407 1465.44,828.407 1510.84,828.407 1465.44,828.407 \n",
       "  \"/>\n",
       "<polygon clip-path=\"url(#clip6703)\" points=\"\n",
       "1510.84,828.407 1510.84,828.407 1556.25,828.407 1556.25,828.407 1510.84,828.407 1510.84,828.407 \n",
       "  \" fill=\"#009af9\" fill-rule=\"evenodd\" fill-opacity=\"0.7\"/>\n",
       "<polyline clip-path=\"url(#clip6703)\" style=\"stroke:#000000; stroke-width:4; stroke-opacity:1; fill:none\" points=\"\n",
       "  1510.84,828.407 1510.84,828.407 1556.25,828.407 1510.84,828.407 \n",
       "  \"/>\n",
       "<polygon clip-path=\"url(#clip6703)\" points=\"\n",
       "1556.25,824.091 1556.25,828.407 1601.65,828.407 1601.65,824.091 1556.25,824.091 1556.25,824.091 \n",
       "  \" fill=\"#009af9\" fill-rule=\"evenodd\" fill-opacity=\"0.7\"/>\n",
       "<polyline clip-path=\"url(#clip6703)\" style=\"stroke:#000000; stroke-width:4; stroke-opacity:1; fill:none\" points=\"\n",
       "  1556.25,824.091 1556.25,828.407 1601.65,828.407 1601.65,824.091 1556.25,824.091 \n",
       "  \"/>\n",
       "<polygon clip-path=\"url(#clip6703)\" points=\"\n",
       "1601.65,828.407 1601.65,828.407 1647.05,828.407 1647.05,828.407 1601.65,828.407 1601.65,828.407 \n",
       "  \" fill=\"#009af9\" fill-rule=\"evenodd\" fill-opacity=\"0.7\"/>\n",
       "<polyline clip-path=\"url(#clip6703)\" style=\"stroke:#000000; stroke-width:4; stroke-opacity:1; fill:none\" points=\"\n",
       "  1601.65,828.407 1601.65,828.407 1647.05,828.407 1601.65,828.407 \n",
       "  \"/>\n",
       "<polygon clip-path=\"url(#clip6703)\" points=\"\n",
       "1647.05,824.091 1647.05,828.407 1692.46,828.407 1692.46,824.091 1647.05,824.091 1647.05,824.091 \n",
       "  \" fill=\"#009af9\" fill-rule=\"evenodd\" fill-opacity=\"0.7\"/>\n",
       "<polyline clip-path=\"url(#clip6703)\" style=\"stroke:#000000; stroke-width:4; stroke-opacity:1; fill:none\" points=\"\n",
       "  1647.05,824.091 1647.05,828.407 1692.46,828.407 1692.46,824.091 1647.05,824.091 \n",
       "  \"/>\n",
       "<polygon clip-path=\"url(#clip6703)\" points=\"\n",
       "1692.46,828.407 1692.46,828.407 1737.86,828.407 1737.86,828.407 1692.46,828.407 1692.46,828.407 \n",
       "  \" fill=\"#009af9\" fill-rule=\"evenodd\" fill-opacity=\"0.7\"/>\n",
       "<polyline clip-path=\"url(#clip6703)\" style=\"stroke:#000000; stroke-width:4; stroke-opacity:1; fill:none\" points=\"\n",
       "  1692.46,828.407 1692.46,828.407 1737.86,828.407 1692.46,828.407 \n",
       "  \"/>\n",
       "<polygon clip-path=\"url(#clip6703)\" points=\"\n",
       "1737.86,828.407 1737.86,828.407 1783.26,828.407 1783.26,828.407 1737.86,828.407 1737.86,828.407 \n",
       "  \" fill=\"#009af9\" fill-rule=\"evenodd\" fill-opacity=\"0.7\"/>\n",
       "<polyline clip-path=\"url(#clip6703)\" style=\"stroke:#000000; stroke-width:4; stroke-opacity:1; fill:none\" points=\"\n",
       "  1737.86,828.407 1737.86,828.407 1783.26,828.407 1737.86,828.407 \n",
       "  \"/>\n",
       "<polygon clip-path=\"url(#clip6703)\" points=\"\n",
       "1783.26,824.091 1783.26,828.407 1828.66,828.407 1828.66,824.091 1783.26,824.091 1783.26,824.091 \n",
       "  \" fill=\"#009af9\" fill-rule=\"evenodd\" fill-opacity=\"0.7\"/>\n",
       "<polyline clip-path=\"url(#clip6703)\" style=\"stroke:#000000; stroke-width:4; stroke-opacity:1; fill:none\" points=\"\n",
       "  1783.26,824.091 1783.26,828.407 1828.66,828.407 1828.66,824.091 1783.26,824.091 \n",
       "  \"/>\n",
       "</svg>\n"
      ]
     },
     "execution_count": 34,
     "metadata": {},
     "output_type": "execute_result"
    }
   ],
   "source": [
    "# Construct summary of the sampling process for the parameter p, i.e. the probability of heads in a coin.\n",
    "p_summary = Chains(chain[:p])\n",
    "plot(p_summary, seriestype = :histogram)"
   ]
  },
  {
   "cell_type": "markdown",
   "metadata": {},
   "source": [
    "Now we can build our plot:"
   ]
  },
  {
   "cell_type": "code",
   "execution_count": 35,
   "metadata": {},
   "outputs": [],
   "source": [
    "# Compute the posterior distribution in closed-form.\n",
    "N = length(data)\n",
    "heads = sum(data)\n",
    "updated_belief = Beta(prior_belief.α + heads, prior_belief.β + N - heads)\n",
    "\n",
    "# Visualize a blue density plot of the approximate posterior distribution using HMC (see Chain 1 in the legend).\n",
    "p = plot(p_summary, seriestype = :density, xlim = (0,1), legend = :best, w = 2, c = :blue)\n",
    "\n",
    "# Visualize a green density plot of posterior distribution in closed-form.\n",
    "plot!(p, range(0, stop = 1, length = 100), pdf.(Ref(updated_belief), range(0, stop = 1, length = 100)), \n",
    "        xlabel = \"probability of heads\", ylabel = \"\", title = \"\", xlim = (0,1), label = \"Closed-form\",\n",
    "        fill=0, α=0.3, w=3, c = :lightgreen)\n",
    "\n",
    "# Visualize the true probability of heads in red.\n",
    "vline!(p, [p_true], label = \"True probability\", c = :red);"
   ]
  },
  {
   "cell_type": "markdown",
   "metadata": {},
   "source": [
    "![sdf](https://user-images.githubusercontent.com/7974003/44995682-25477880-af9c-11e8-850b-36e4b6d756ea.png)"
   ]
  },
  {
   "cell_type": "markdown",
   "metadata": {},
   "source": [
    "As we can see, the Turing model closely approximates the true probability. Hopefully this tutorial has provided an easy-to-follow, yet informative introduction to Turing's simpler applications. More advanced usage will be demonstrated in later tutorials."
   ]
  }
 ],
 "metadata": {
  "kernelspec": {
   "display_name": "Julia 1.1.0",
   "language": "julia",
   "name": "julia-1.1"
  },
  "language_info": {
   "file_extension": ".jl",
   "mimetype": "application/julia",
   "name": "julia",
   "version": "1.1.0"
  }
 },
 "nbformat": 4,
 "nbformat_minor": 2
}
