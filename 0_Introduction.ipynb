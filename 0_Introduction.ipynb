{
 "cells": [
  {
   "cell_type": "markdown",
   "metadata": {},
   "source": [
    "# Introduction to Turing\n",
    "\n",
    "## Introduction\n",
    "This is the first of a series of tutorials on the universal probabilistic programming language **Turing**.\n",
    "\n",
    "**Turing** is probabilistic programming system written entirely in *Julia*. It has an intuitive modelling syntax and supports a wide range of sampling-based inference algorithms. Most importantly, **Turing** inference is composable: it combines Markov chain sampling operations on subsets of model variables, e.g. using a combination of a Hamiltonian Monte Carlo (HMC) engine and a particle Gibbs (PG) engine. This composable inference engine allows the user to easily switch between black-box style inference methods such as HMC and customized inference methods.\n",
    " \n",
    "Familiarity with Julia is assumed through out this tutorial. If you are new to Julia, [Learning Julia](https://julialang.org/learning/) is a good starting point.\n",
    "\n",
    "For users new to Bayesian machine learning, please consider more thorough introductions to the field, such as [Pattern Recognition and Machine Learning](https://www.springer.com/us/book/9780387310732). This tutorial tries to provide an intuition for Bayesian inference and gives a simple example on how to use **Turing**. Note that this is not a comprehensive introduction to Bayesian machine learning."
   ]
  },
  {
   "cell_type": "markdown",
   "metadata": {},
   "source": [
    "### Coin-Flipping Without Turing\n",
    "The following example illustrates the effect of updating our beliefs with every piece of new evidence we observe. In particular, assume that we are unsure about the probability of heads in a coin flip. To get an intuitive understanding of what \"updating our beliefs\" is, we will visualize the probability of heads in a coin flip after each observed evidence.\n",
    "\n",
    "First, let's load some of the packages we need to flip a coin (`Random`, `Distributions`) and show our results (`Plots`). You will note that **Turing** is not an import here — we do not need it for this example. If you are already familiar with posterior updates, you can proceed to the next step."
   ]
  },
  {
   "cell_type": "code",
   "execution_count": 1,
   "metadata": {},
   "outputs": [],
   "source": [
    "# Using Base modules.\n",
    "using Random\n",
    "\n",
    "# Load a plotting library.\n",
    "using Plots\n",
    "\n",
    "# Load the distributions library.\n",
    "using Distributions"
   ]
  },
  {
   "cell_type": "markdown",
   "metadata": {},
   "source": [
    "Next, we configure our posterior update model. First, let's set the true probability that any coin flip will turn up heads and set the number of coin flips we will show our model:"
   ]
  },
  {
   "cell_type": "code",
   "execution_count": 2,
   "metadata": {},
   "outputs": [],
   "source": [
    "# Set the true probability of heads in a coin.\n",
    "p_true = 0.5\n",
    "\n",
    "# Iterate from having seen 0 observations to 100 observations.\n",
    "Ns = 0:100;"
   ]
  },
  {
   "cell_type": "markdown",
   "metadata": {},
   "source": [
    "We will now use the Bernoulli distribution to flip 100 coins, and collect the results in a variable called `data`:"
   ]
  },
  {
   "cell_type": "code",
   "execution_count": 3,
   "metadata": {},
   "outputs": [
    {
     "data": {
      "text/plain": [
       "5-element Array{Int64,1}:\n",
       " 1\n",
       " 0\n",
       " 1\n",
       " 1\n",
       " 0"
      ]
     },
     "execution_count": 3,
     "metadata": {},
     "output_type": "execute_result"
    }
   ],
   "source": [
    "# Draw data from a Bernoulli distribution, i.e. draw heads or tails.\n",
    "Random.seed!(12)\n",
    "data = rand(Bernoulli(p_true), last(Ns))\n",
    "\n",
    "# Here's what the first five coin flips look like:\n",
    "data[1:5]"
   ]
  },
  {
   "cell_type": "markdown",
   "metadata": {},
   "source": [
    "After flipping all our coins, we want to set a prior belief about what we think the distribution of coin flips look like. In this case, we are going to choose a common prior distribution called the [Beta](https://en.wikipedia.org/wiki/Beta_distribution) distribution."
   ]
  },
  {
   "cell_type": "code",
   "execution_count": 4,
   "metadata": {},
   "outputs": [],
   "source": [
    "# Our prior belief about the probability of heads in a coin toss.\n",
    "prior_belief = Beta(1, 1);"
   ]
  },
  {
   "cell_type": "markdown",
   "metadata": {},
   "source": [
    "With our priors set and our data at hand, we can perform Bayesian inference.\n",
    "\n",
    "This is a fairly simple process. We expose one additional coin flip to our model every iteration, such that the first run only sees the first coin flip, while the last iteration sees all the coin flips. Then, we set the `updated_belief` variable to an updated version of the original Beta distribution that accounts for the new proportion of heads and tails. "
   ]
  },
  {
   "cell_type": "markdown",
   "metadata": {},
   "source": [
    "For the mathematically inclined, the `Beta` distribution is updated by adding each coin flip to the distribution's $\\alpha$ and $\\beta$ parameters, which are initially defined as $\\alpha = 1, \\beta = 1$. Over time, with more and more coin flips, $\\alpha$ and $\\beta$ will be approximately equal to each other as we are equally likely to flip a heads or a tails, and the plot of the beta distribution will become more tightly centered around 0.5. \n",
    "\n",
    "This works because mean of the `Beta` distribution is defined as the following:\n",
    "\n",
    "$$ \\text{E}[\\text{Beta}] = \\dfrac{\\alpha}{\\alpha+\\beta} $$\n",
    "\n",
    "Which is 0.5 when $\\alpha = \\beta$, as we expect for a large enough number of coin flips. As we increase the number of samples, our variance will also decrease, such that the distribution will reflect less uncertainty about the probability of receiving a heads. The definition of the variance for the `Beta` distribution is the following:\n",
    "\n",
    "$$ \\text{var}[\\text{Beta}] = \\dfrac{\\alpha\\beta}{(\\alpha + \\beta)^2 (\\alpha + \\beta + 1)} $$\n",
    "\n",
    "The intuition about this definition is that the variance of the distribution will approach 0 with more and more samples, as the denominator will grow faster than will the numerator. More samples means less variance."
   ]
  },
  {
   "cell_type": "code",
   "execution_count": 5,
   "metadata": {},
   "outputs": [],
   "source": [
    "# Import StatsPlots for animating purposes.\n",
    "using StatsPlots\n",
    "\n",
    "# Make an animation.\n",
    "animation = @gif for (i, N) in enumerate(Ns)\n",
    "\n",
    "    # Count the number of heads and tails.\n",
    "    heads = sum(data[1:i-1])\n",
    "    tails = N - heads\n",
    "    \n",
    "    # Update our prior belief in closed form (this is possible because we use a conjugate prior).\n",
    "    updated_belief = Beta(prior_belief.α + heads, prior_belief.β + tails)\n",
    "\n",
    "    # Plotting\n",
    "    plot(updated_belief, \n",
    "        size = (500, 250), \n",
    "        title = \"Updated belief after $N observations\",\n",
    "        xlabel = \"probability of heads\", \n",
    "        ylabel = \"\", \n",
    "        legend = nothing,\n",
    "        xlim = (0,1),\n",
    "        fill=0, α=0.3, w=3)\n",
    "    vline!([p_true])\n",
    "end;"
   ]
  },
  {
   "cell_type": "markdown",
   "metadata": {},
   "source": [
    "![animation](https://user-images.githubusercontent.com/7974003/44995702-37c1b200-af9c-11e8-8b26-c88a528956af.gif)"
   ]
  },
  {
   "cell_type": "markdown",
   "metadata": {},
   "source": [
    "The animation above shows that with increasing evidence our belief about the probability of heads in a coin flip slowly adjusts towards the true value. The orange line in the animation represents the true probability of seeing heads on a single coin flip, while the mode of the distribution shows what the model believes the probability of a heads is given the evidence it has seen."
   ]
  },
  {
   "cell_type": "markdown",
   "metadata": {},
   "source": [
    "### Coin Flipping With Turing\n",
    "\n",
    "In the previous example, we used the fact that our prior distribution is a [conjugate prior](https://en.wikipedia.org/wiki/Conjugate_prior). Note that a closed-form expression (the `updated_belief` expression) for the posterior is not accessible in general and usually does not exist for more interesting models. \n",
    "\n",
    "We are now going to move away from the closed-form expression above and specify the same model using **Turing**. To do so, we will first need to import `Turing`, `MCMCChain`, `Distributions`, and `StatPlots`. `MCMChain` is a library built by the Turing team to help summarize Markov Chain Monte Carlo (MCMC) simulations, as well as a variety of utility functions for diagnostics and visualizations."
   ]
  },
  {
   "cell_type": "code",
   "execution_count": 6,
   "metadata": {},
   "outputs": [
    {
     "name": "stderr",
     "output_type": "stream",
     "text": [
      "┌ Info: Precompiling Turing [fce5fe82-541a-59a6-adf8-730c64b5f9a0]\n",
      "└ @ Base loading.jl:1186\n"
     ]
    }
   ],
   "source": [
    "# Load Turing and MCMCChain.\n",
    "using Turing, MCMCChain\n",
    "\n",
    "# Load the distributions library.\n",
    "using Distributions\n",
    "\n",
    "# Load stats plots for density plots.\n",
    "using StatsPlots"
   ]
  },
  {
   "cell_type": "markdown",
   "metadata": {},
   "source": [
    "First, we define the coin-flip model using Turing."
   ]
  },
  {
   "cell_type": "code",
   "execution_count": 7,
   "metadata": {},
   "outputs": [],
   "source": [
    "@model coinflip(y) = begin\n",
    "    \n",
    "    # Our prior belief about the probability of heads in a coin.\n",
    "    p ~ Beta(1, 1)\n",
    "    \n",
    "    # The number of observations.\n",
    "    N = length(y)\n",
    "    for n in 1:N\n",
    "        # Heads or tails of a coin are drawn from a Bernoulli distribution.\n",
    "        y[n] ~ Bernoulli(p)\n",
    "    end\n",
    "end;"
   ]
  },
  {
   "cell_type": "markdown",
   "metadata": {},
   "source": [
    "After defining the model, we can approximate the posterior distribution by drawing samples from the distribution. In this example, we use a [Hamiltonian Monte Carlo](https://en.wikipedia.org/wiki/Hamiltonian_Monte_Carlo) sampler to draw these samples. Later tutorials will give more information on the samplers available in Turing and discuss their use for different models."
   ]
  },
  {
   "cell_type": "code",
   "execution_count": 8,
   "metadata": {},
   "outputs": [
    {
     "name": "stderr",
     "output_type": "stream",
     "text": [
      "\u001b[32m[HMC] Sampling...  0%  ETA: 1:13:14\u001b[39m\n",
      "\u001b[34m  ϵ:         0.05\u001b[39m\n",
      "\u001b[34m  α:         1.0\u001b[39m\n",
      "\u001b[A4m  pre_cond:  [1.0]\u001b[39m\n",
      "\n",
      "\n",
      "\u001b[32m[HMC] Sampling... 39%  ETA: 0:00:09\u001b[39m\n",
      "\u001b[34m  ϵ:         0.05\u001b[39m\n",
      "\u001b[34m  α:         1.0\u001b[39m\n",
      "\u001b[A4m  pre_cond:  [1.0]\u001b[39m\n",
      "\n",
      "\n",
      "\u001b[32m[HMC] Sampling... 63%  ETA: 0:00:04\u001b[39m\n",
      "\u001b[34m  ϵ:         0.05\u001b[39m\n",
      "\u001b[34m  α:         0.994690509167363\u001b[39m\n",
      "\u001b[A4m  pre_cond:  [1.0]\u001b[39m\n",
      "\n",
      "\n",
      "\u001b[32m[HMC] Sampling... 90%  ETA: 0:00:01\u001b[39m\n",
      "\u001b[34m  ϵ:         0.05\u001b[39m\n",
      "\u001b[34m  α:         0.9986516215404824\u001b[39m\n",
      "\u001b[A4m  pre_cond:  [1.0]\u001b[39m\n",
      "\n",
      "\n",
      "\u001b[32m[HMC] Sampling...100% Time: 0:00:08\u001b[39m\n"
     ]
    },
    {
     "name": "stdout",
     "output_type": "stream",
     "text": [
      "[HMC] Finished with\n",
      "  Running time        = 7.922578884999986;\n",
      "  Accept rate         = 0.997;\n",
      "  #lf / sample        = 9.99;\n",
      "  #evals / sample     = 11.99;\n",
      "  pre-cond. metric    = [1.0].\n"
     ]
    }
   ],
   "source": [
    "# Settings of the Hamiltonian Monte Carlo (HMC) sampler.\n",
    "iterations = 1000\n",
    "ϵ = 0.05\n",
    "τ = 10\n",
    "\n",
    "# Start sampling.\n",
    "chain = sample(coinflip(data), HMC(iterations, ϵ, τ));"
   ]
  },
  {
   "cell_type": "markdown",
   "metadata": {},
   "source": [
    "After finishing the sampling process, we can visualize the posterior distribution approximated using Turing against the posterior distribution in closed-form. We can extract the chain data from the sampler using the `Chains(chain[:p])` function, exported from the `MCMCChain` module. `Chains(chain[:p])` creates an instance of the `Chain` type which summarizes the MCMC simulation — the `MCMCChain` module supports numerous tools for plotting, summarizing, and describing variables of type `Chain`."
   ]
  },
  {
   "cell_type": "code",
   "execution_count": 9,
   "metadata": {},
   "outputs": [
    {
     "data": {
      "image/svg+xml": [
       "<?xml version=\"1.0\" encoding=\"utf-8\"?>\n",
       "<svg xmlns=\"http://www.w3.org/2000/svg\" xmlns:xlink=\"http://www.w3.org/1999/xlink\" width=\"500\" height=\"250\" viewBox=\"0 0 2000 1000\">\n",
       "<defs>\n",
       "  <clipPath id=\"clip1000\">\n",
       "    <rect x=\"0\" y=\"0\" width=\"2000\" height=\"2000\"/>\n",
       "  </clipPath>\n",
       "</defs>\n",
       "<defs>\n",
       "  <clipPath id=\"clip1001\">\n",
       "    <rect x=\"0\" y=\"0\" width=\"2000\" height=\"1000\"/>\n",
       "  </clipPath>\n",
       "</defs>\n",
       "<polygon clip-path=\"url(#clip1001)\" points=\"\n",
       "0,1000 2000,1000 2000,0 0,0 \n",
       "  \" fill=\"#ffffff\" fill-rule=\"evenodd\" fill-opacity=\"1\"/>\n",
       "<defs>\n",
       "  <clipPath id=\"clip1002\">\n",
       "    <rect x=\"400\" y=\"0\" width=\"1401\" height=\"1000\"/>\n",
       "  </clipPath>\n",
       "</defs>\n",
       "<polygon clip-path=\"url(#clip1001)\" points=\"\n",
       "237.767,848.866 1921.26,848.866 1921.26,125.984 237.767,125.984 \n",
       "  \" fill=\"#ffffff\" fill-rule=\"evenodd\" fill-opacity=\"1\"/>\n",
       "<defs>\n",
       "  <clipPath id=\"clip1003\">\n",
       "    <rect x=\"237\" y=\"125\" width=\"1684\" height=\"724\"/>\n",
       "  </clipPath>\n",
       "</defs>\n",
       "<polyline clip-path=\"url(#clip1003)\" style=\"stroke:#000000; stroke-width:2; stroke-opacity:0.1; fill:none\" points=\"\n",
       "  330.362,848.866 330.362,125.984 \n",
       "  \"/>\n",
       "<polyline clip-path=\"url(#clip1003)\" style=\"stroke:#000000; stroke-width:2; stroke-opacity:0.1; fill:none\" points=\"\n",
       "  670.886,848.866 670.886,125.984 \n",
       "  \"/>\n",
       "<polyline clip-path=\"url(#clip1003)\" style=\"stroke:#000000; stroke-width:2; stroke-opacity:0.1; fill:none\" points=\"\n",
       "  1011.41,848.866 1011.41,125.984 \n",
       "  \"/>\n",
       "<polyline clip-path=\"url(#clip1003)\" style=\"stroke:#000000; stroke-width:2; stroke-opacity:0.1; fill:none\" points=\"\n",
       "  1351.93,848.866 1351.93,125.984 \n",
       "  \"/>\n",
       "<polyline clip-path=\"url(#clip1003)\" style=\"stroke:#000000; stroke-width:2; stroke-opacity:0.1; fill:none\" points=\"\n",
       "  1692.46,848.866 1692.46,125.984 \n",
       "  \"/>\n",
       "<polyline clip-path=\"url(#clip1003)\" style=\"stroke:#000000; stroke-width:2; stroke-opacity:0.1; fill:none\" points=\"\n",
       "  237.767,828.407 1921.26,828.407 \n",
       "  \"/>\n",
       "<polyline clip-path=\"url(#clip1003)\" style=\"stroke:#000000; stroke-width:2; stroke-opacity:0.1; fill:none\" points=\"\n",
       "  237.767,617.924 1921.26,617.924 \n",
       "  \"/>\n",
       "<polyline clip-path=\"url(#clip1003)\" style=\"stroke:#000000; stroke-width:2; stroke-opacity:0.1; fill:none\" points=\"\n",
       "  237.767,407.442 1921.26,407.442 \n",
       "  \"/>\n",
       "<polyline clip-path=\"url(#clip1003)\" style=\"stroke:#000000; stroke-width:2; stroke-opacity:0.1; fill:none\" points=\"\n",
       "  237.767,196.959 1921.26,196.959 \n",
       "  \"/>\n",
       "<polyline clip-path=\"url(#clip1001)\" style=\"stroke:#000000; stroke-width:4; stroke-opacity:1; fill:none\" points=\"\n",
       "  237.767,848.866 1921.26,848.866 \n",
       "  \"/>\n",
       "<polyline clip-path=\"url(#clip1001)\" style=\"stroke:#000000; stroke-width:4; stroke-opacity:1; fill:none\" points=\"\n",
       "  237.767,848.866 237.767,125.984 \n",
       "  \"/>\n",
       "<polyline clip-path=\"url(#clip1001)\" style=\"stroke:#000000; stroke-width:4; stroke-opacity:1; fill:none\" points=\"\n",
       "  330.362,848.866 330.362,838.023 \n",
       "  \"/>\n",
       "<polyline clip-path=\"url(#clip1001)\" style=\"stroke:#000000; stroke-width:4; stroke-opacity:1; fill:none\" points=\"\n",
       "  670.886,848.866 670.886,838.023 \n",
       "  \"/>\n",
       "<polyline clip-path=\"url(#clip1001)\" style=\"stroke:#000000; stroke-width:4; stroke-opacity:1; fill:none\" points=\"\n",
       "  1011.41,848.866 1011.41,838.023 \n",
       "  \"/>\n",
       "<polyline clip-path=\"url(#clip1001)\" style=\"stroke:#000000; stroke-width:4; stroke-opacity:1; fill:none\" points=\"\n",
       "  1351.93,848.866 1351.93,838.023 \n",
       "  \"/>\n",
       "<polyline clip-path=\"url(#clip1001)\" style=\"stroke:#000000; stroke-width:4; stroke-opacity:1; fill:none\" points=\"\n",
       "  1692.46,848.866 1692.46,838.023 \n",
       "  \"/>\n",
       "<polyline clip-path=\"url(#clip1001)\" style=\"stroke:#000000; stroke-width:4; stroke-opacity:1; fill:none\" points=\"\n",
       "  237.767,828.407 263.02,828.407 \n",
       "  \"/>\n",
       "<polyline clip-path=\"url(#clip1001)\" style=\"stroke:#000000; stroke-width:4; stroke-opacity:1; fill:none\" points=\"\n",
       "  237.767,617.924 263.02,617.924 \n",
       "  \"/>\n",
       "<polyline clip-path=\"url(#clip1001)\" style=\"stroke:#000000; stroke-width:4; stroke-opacity:1; fill:none\" points=\"\n",
       "  237.767,407.442 263.02,407.442 \n",
       "  \"/>\n",
       "<polyline clip-path=\"url(#clip1001)\" style=\"stroke:#000000; stroke-width:4; stroke-opacity:1; fill:none\" points=\"\n",
       "  237.767,196.959 263.02,196.959 \n",
       "  \"/>\n",
       "<g clip-path=\"url(#clip1001)\">\n",
       "<text style=\"fill:#000000; fill-opacity:1; font-family:Arial,Helvetica Neue,Helvetica,sans-serif; font-size:48px; text-anchor:middle;\" transform=\"rotate(0, 330.362, 900.866)\" x=\"330.362\" y=\"900.866\">0.3</text>\n",
       "</g>\n",
       "<g clip-path=\"url(#clip1001)\">\n",
       "<text style=\"fill:#000000; fill-opacity:1; font-family:Arial,Helvetica Neue,Helvetica,sans-serif; font-size:48px; text-anchor:middle;\" transform=\"rotate(0, 670.886, 900.866)\" x=\"670.886\" y=\"900.866\">0.4</text>\n",
       "</g>\n",
       "<g clip-path=\"url(#clip1001)\">\n",
       "<text style=\"fill:#000000; fill-opacity:1; font-family:Arial,Helvetica Neue,Helvetica,sans-serif; font-size:48px; text-anchor:middle;\" transform=\"rotate(0, 1011.41, 900.866)\" x=\"1011.41\" y=\"900.866\">0.5</text>\n",
       "</g>\n",
       "<g clip-path=\"url(#clip1001)\">\n",
       "<text style=\"fill:#000000; fill-opacity:1; font-family:Arial,Helvetica Neue,Helvetica,sans-serif; font-size:48px; text-anchor:middle;\" transform=\"rotate(0, 1351.93, 900.866)\" x=\"1351.93\" y=\"900.866\">0.6</text>\n",
       "</g>\n",
       "<g clip-path=\"url(#clip1001)\">\n",
       "<text style=\"fill:#000000; fill-opacity:1; font-family:Arial,Helvetica Neue,Helvetica,sans-serif; font-size:48px; text-anchor:middle;\" transform=\"rotate(0, 1692.46, 900.866)\" x=\"1692.46\" y=\"900.866\">0.7</text>\n",
       "</g>\n",
       "<g clip-path=\"url(#clip1001)\">\n",
       "<text style=\"fill:#000000; fill-opacity:1; font-family:Arial,Helvetica Neue,Helvetica,sans-serif; font-size:48px; text-anchor:end;\" transform=\"rotate(0, 217.767, 845.907)\" x=\"217.767\" y=\"845.907\">0</text>\n",
       "</g>\n",
       "<g clip-path=\"url(#clip1001)\">\n",
       "<text style=\"fill:#000000; fill-opacity:1; font-family:Arial,Helvetica Neue,Helvetica,sans-serif; font-size:48px; text-anchor:end;\" transform=\"rotate(0, 217.767, 635.424)\" x=\"217.767\" y=\"635.424\">50</text>\n",
       "</g>\n",
       "<g clip-path=\"url(#clip1001)\">\n",
       "<text style=\"fill:#000000; fill-opacity:1; font-family:Arial,Helvetica Neue,Helvetica,sans-serif; font-size:48px; text-anchor:end;\" transform=\"rotate(0, 217.767, 424.942)\" x=\"217.767\" y=\"424.942\">100</text>\n",
       "</g>\n",
       "<g clip-path=\"url(#clip1001)\">\n",
       "<text style=\"fill:#000000; fill-opacity:1; font-family:Arial,Helvetica Neue,Helvetica,sans-serif; font-size:48px; text-anchor:end;\" transform=\"rotate(0, 217.767, 214.459)\" x=\"217.767\" y=\"214.459\">150</text>\n",
       "</g>\n",
       "<g clip-path=\"url(#clip1001)\">\n",
       "<text style=\"fill:#000000; fill-opacity:1; font-family:Arial,Helvetica Neue,Helvetica,sans-serif; font-size:84px; text-anchor:middle;\" transform=\"rotate(0, 1079.51, 73.2)\" x=\"1079.51\" y=\"73.2\">Param#1</text>\n",
       "</g>\n",
       "<g clip-path=\"url(#clip1001)\">\n",
       "<text style=\"fill:#000000; fill-opacity:1; font-family:Arial,Helvetica Neue,Helvetica,sans-serif; font-size:66px; text-anchor:middle;\" transform=\"rotate(0, 1079.51, 990.4)\" x=\"1079.51\" y=\"990.4\">Sample value</text>\n",
       "</g>\n",
       "<g clip-path=\"url(#clip1001)\">\n",
       "<text style=\"fill:#000000; fill-opacity:1; font-family:Arial,Helvetica Neue,Helvetica,sans-serif; font-size:66px; text-anchor:middle;\" transform=\"rotate(-90, 57.6, 487.425)\" x=\"57.6\" y=\"487.425\">Frequency</text>\n",
       "</g>\n",
       "<polygon clip-path=\"url(#clip1003)\" points=\"\n",
       "330.362,824.197 330.362,828.407 398.467,828.407 398.467,824.197 330.362,824.197 330.362,824.197 \n",
       "  \" fill=\"#009af9\" fill-rule=\"evenodd\" fill-opacity=\"0.7\"/>\n",
       "<polyline clip-path=\"url(#clip1003)\" style=\"stroke:#000000; stroke-width:4; stroke-opacity:1; fill:none\" points=\"\n",
       "  330.362,824.197 330.362,828.407 398.467,828.407 398.467,824.197 330.362,824.197 \n",
       "  \"/>\n",
       "<polygon clip-path=\"url(#clip1003)\" points=\"\n",
       "398.467,828.407 398.467,828.407 466.572,828.407 466.572,828.407 398.467,828.407 398.467,828.407 \n",
       "  \" fill=\"#009af9\" fill-rule=\"evenodd\" fill-opacity=\"0.7\"/>\n",
       "<polyline clip-path=\"url(#clip1003)\" style=\"stroke:#000000; stroke-width:4; stroke-opacity:1; fill:none\" points=\"\n",
       "  398.467,828.407 398.467,828.407 466.572,828.407 398.467,828.407 \n",
       "  \"/>\n",
       "<polygon clip-path=\"url(#clip1003)\" points=\"\n",
       "466.572,828.407 466.572,828.407 534.676,828.407 534.676,828.407 466.572,828.407 466.572,828.407 \n",
       "  \" fill=\"#009af9\" fill-rule=\"evenodd\" fill-opacity=\"0.7\"/>\n",
       "<polyline clip-path=\"url(#clip1003)\" style=\"stroke:#000000; stroke-width:4; stroke-opacity:1; fill:none\" points=\"\n",
       "  466.572,828.407 466.572,828.407 534.676,828.407 466.572,828.407 \n",
       "  \"/>\n",
       "<polygon clip-path=\"url(#clip1003)\" points=\"\n",
       "534.676,811.568 534.676,828.407 602.781,828.407 602.781,811.568 534.676,811.568 534.676,811.568 \n",
       "  \" fill=\"#009af9\" fill-rule=\"evenodd\" fill-opacity=\"0.7\"/>\n",
       "<polyline clip-path=\"url(#clip1003)\" style=\"stroke:#000000; stroke-width:4; stroke-opacity:1; fill:none\" points=\"\n",
       "  534.676,811.568 534.676,828.407 602.781,828.407 602.781,811.568 534.676,811.568 \n",
       "  \"/>\n",
       "<polygon clip-path=\"url(#clip1003)\" points=\"\n",
       "602.781,794.73 602.781,828.407 670.886,828.407 670.886,794.73 602.781,794.73 602.781,794.73 \n",
       "  \" fill=\"#009af9\" fill-rule=\"evenodd\" fill-opacity=\"0.7\"/>\n",
       "<polyline clip-path=\"url(#clip1003)\" style=\"stroke:#000000; stroke-width:4; stroke-opacity:1; fill:none\" points=\"\n",
       "  602.781,794.73 602.781,828.407 670.886,828.407 670.886,794.73 602.781,794.73 \n",
       "  \"/>\n",
       "<polygon clip-path=\"url(#clip1003)\" points=\"\n",
       "670.886,744.214 670.886,828.407 738.99,828.407 738.99,744.214 670.886,744.214 670.886,744.214 \n",
       "  \" fill=\"#009af9\" fill-rule=\"evenodd\" fill-opacity=\"0.7\"/>\n",
       "<polyline clip-path=\"url(#clip1003)\" style=\"stroke:#000000; stroke-width:4; stroke-opacity:1; fill:none\" points=\"\n",
       "  670.886,744.214 670.886,828.407 738.99,828.407 738.99,744.214 670.886,744.214 \n",
       "  \"/>\n",
       "<polygon clip-path=\"url(#clip1003)\" points=\"\n",
       "738.99,689.488 738.99,828.407 807.095,828.407 807.095,689.488 738.99,689.488 738.99,689.488 \n",
       "  \" fill=\"#009af9\" fill-rule=\"evenodd\" fill-opacity=\"0.7\"/>\n",
       "<polyline clip-path=\"url(#clip1003)\" style=\"stroke:#000000; stroke-width:4; stroke-opacity:1; fill:none\" points=\"\n",
       "  738.99,689.488 738.99,828.407 807.095,828.407 807.095,689.488 738.99,689.488 \n",
       "  \"/>\n",
       "<polygon clip-path=\"url(#clip1003)\" points=\"\n",
       "807.095,575.828 807.095,828.407 875.2,828.407 875.2,575.828 807.095,575.828 807.095,575.828 \n",
       "  \" fill=\"#009af9\" fill-rule=\"evenodd\" fill-opacity=\"0.7\"/>\n",
       "<polyline clip-path=\"url(#clip1003)\" style=\"stroke:#000000; stroke-width:4; stroke-opacity:1; fill:none\" points=\"\n",
       "  807.095,575.828 807.095,828.407 875.2,828.407 875.2,575.828 807.095,575.828 \n",
       "  \"/>\n",
       "<polygon clip-path=\"url(#clip1003)\" points=\"\n",
       "875.2,449.538 875.2,828.407 943.304,828.407 943.304,449.538 875.2,449.538 875.2,449.538 \n",
       "  \" fill=\"#009af9\" fill-rule=\"evenodd\" fill-opacity=\"0.7\"/>\n",
       "<polyline clip-path=\"url(#clip1003)\" style=\"stroke:#000000; stroke-width:4; stroke-opacity:1; fill:none\" points=\"\n",
       "  875.2,449.538 875.2,828.407 943.304,828.407 943.304,449.538 875.2,449.538 \n",
       "  \"/>\n",
       "<polygon clip-path=\"url(#clip1003)\" points=\"\n",
       "943.304,289.571 943.304,828.407 1011.41,828.407 1011.41,289.571 943.304,289.571 943.304,289.571 \n",
       "  \" fill=\"#009af9\" fill-rule=\"evenodd\" fill-opacity=\"0.7\"/>\n",
       "<polyline clip-path=\"url(#clip1003)\" style=\"stroke:#000000; stroke-width:4; stroke-opacity:1; fill:none\" points=\"\n",
       "  943.304,289.571 943.304,828.407 1011.41,828.407 1011.41,289.571 943.304,289.571 \n",
       "  \"/>\n",
       "<polygon clip-path=\"url(#clip1003)\" points=\"\n",
       "1011.41,146.443 1011.41,828.407 1079.51,828.407 1079.51,146.443 1011.41,146.443 1011.41,146.443 \n",
       "  \" fill=\"#009af9\" fill-rule=\"evenodd\" fill-opacity=\"0.7\"/>\n",
       "<polyline clip-path=\"url(#clip1003)\" style=\"stroke:#000000; stroke-width:4; stroke-opacity:1; fill:none\" points=\"\n",
       "  1011.41,146.443 1011.41,828.407 1079.51,828.407 1079.51,146.443 1011.41,146.443 \n",
       "  \"/>\n",
       "<polygon clip-path=\"url(#clip1003)\" points=\"\n",
       "1079.51,184.33 1079.51,828.407 1147.62,828.407 1147.62,184.33 1079.51,184.33 1079.51,184.33 \n",
       "  \" fill=\"#009af9\" fill-rule=\"evenodd\" fill-opacity=\"0.7\"/>\n",
       "<polyline clip-path=\"url(#clip1003)\" style=\"stroke:#000000; stroke-width:4; stroke-opacity:1; fill:none\" points=\"\n",
       "  1079.51,184.33 1079.51,828.407 1147.62,828.407 1147.62,184.33 1079.51,184.33 \n",
       "  \"/>\n",
       "<polygon clip-path=\"url(#clip1003)\" points=\"\n",
       "1147.62,276.942 1147.62,828.407 1215.72,828.407 1215.72,276.942 1147.62,276.942 1147.62,276.942 \n",
       "  \" fill=\"#009af9\" fill-rule=\"evenodd\" fill-opacity=\"0.7\"/>\n",
       "<polyline clip-path=\"url(#clip1003)\" style=\"stroke:#000000; stroke-width:4; stroke-opacity:1; fill:none\" points=\"\n",
       "  1147.62,276.942 1147.62,828.407 1215.72,828.407 1215.72,276.942 1147.62,276.942 \n",
       "  \"/>\n",
       "<polygon clip-path=\"url(#clip1003)\" points=\"\n",
       "1215.72,449.538 1215.72,828.407 1283.83,828.407 1283.83,449.538 1215.72,449.538 1215.72,449.538 \n",
       "  \" fill=\"#009af9\" fill-rule=\"evenodd\" fill-opacity=\"0.7\"/>\n",
       "<polyline clip-path=\"url(#clip1003)\" style=\"stroke:#000000; stroke-width:4; stroke-opacity:1; fill:none\" points=\"\n",
       "  1215.72,449.538 1215.72,828.407 1283.83,828.407 1283.83,449.538 1215.72,449.538 \n",
       "  \"/>\n",
       "<polygon clip-path=\"url(#clip1003)\" points=\"\n",
       "1283.83,588.457 1283.83,828.407 1351.93,828.407 1351.93,588.457 1283.83,588.457 1283.83,588.457 \n",
       "  \" fill=\"#009af9\" fill-rule=\"evenodd\" fill-opacity=\"0.7\"/>\n",
       "<polyline clip-path=\"url(#clip1003)\" style=\"stroke:#000000; stroke-width:4; stroke-opacity:1; fill:none\" points=\"\n",
       "  1283.83,588.457 1283.83,828.407 1351.93,828.407 1351.93,588.457 1283.83,588.457 \n",
       "  \"/>\n",
       "<polygon clip-path=\"url(#clip1003)\" points=\"\n",
       "1351.93,668.44 1351.93,828.407 1420.04,828.407 1420.04,668.44 1351.93,668.44 1351.93,668.44 \n",
       "  \" fill=\"#009af9\" fill-rule=\"evenodd\" fill-opacity=\"0.7\"/>\n",
       "<polyline clip-path=\"url(#clip1003)\" style=\"stroke:#000000; stroke-width:4; stroke-opacity:1; fill:none\" points=\"\n",
       "  1351.93,668.44 1351.93,828.407 1420.04,828.407 1420.04,668.44 1351.93,668.44 \n",
       "  \"/>\n",
       "<polygon clip-path=\"url(#clip1003)\" points=\"\n",
       "1420.04,769.472 1420.04,828.407 1488.14,828.407 1488.14,769.472 1420.04,769.472 1420.04,769.472 \n",
       "  \" fill=\"#009af9\" fill-rule=\"evenodd\" fill-opacity=\"0.7\"/>\n",
       "<polyline clip-path=\"url(#clip1003)\" style=\"stroke:#000000; stroke-width:4; stroke-opacity:1; fill:none\" points=\"\n",
       "  1420.04,769.472 1420.04,828.407 1488.14,828.407 1488.14,769.472 1420.04,769.472 \n",
       "  \"/>\n",
       "<polygon clip-path=\"url(#clip1003)\" points=\"\n",
       "1488.14,803.149 1488.14,828.407 1556.25,828.407 1556.25,803.149 1488.14,803.149 1488.14,803.149 \n",
       "  \" fill=\"#009af9\" fill-rule=\"evenodd\" fill-opacity=\"0.7\"/>\n",
       "<polyline clip-path=\"url(#clip1003)\" style=\"stroke:#000000; stroke-width:4; stroke-opacity:1; fill:none\" points=\"\n",
       "  1488.14,803.149 1488.14,828.407 1556.25,828.407 1556.25,803.149 1488.14,803.149 \n",
       "  \"/>\n",
       "<polygon clip-path=\"url(#clip1003)\" points=\"\n",
       "1556.25,815.778 1556.25,828.407 1624.35,828.407 1624.35,815.778 1556.25,815.778 1556.25,815.778 \n",
       "  \" fill=\"#009af9\" fill-rule=\"evenodd\" fill-opacity=\"0.7\"/>\n",
       "<polyline clip-path=\"url(#clip1003)\" style=\"stroke:#000000; stroke-width:4; stroke-opacity:1; fill:none\" points=\"\n",
       "  1556.25,815.778 1556.25,828.407 1624.35,828.407 1624.35,815.778 1556.25,815.778 \n",
       "  \"/>\n",
       "<polygon clip-path=\"url(#clip1003)\" points=\"\n",
       "1624.35,824.197 1624.35,828.407 1692.46,828.407 1692.46,824.197 1624.35,824.197 1624.35,824.197 \n",
       "  \" fill=\"#009af9\" fill-rule=\"evenodd\" fill-opacity=\"0.7\"/>\n",
       "<polyline clip-path=\"url(#clip1003)\" style=\"stroke:#000000; stroke-width:4; stroke-opacity:1; fill:none\" points=\"\n",
       "  1624.35,824.197 1624.35,828.407 1692.46,828.407 1692.46,824.197 1624.35,824.197 \n",
       "  \"/>\n",
       "<polygon clip-path=\"url(#clip1003)\" points=\"\n",
       "1692.46,828.407 1692.46,828.407 1760.56,828.407 1760.56,828.407 1692.46,828.407 1692.46,828.407 \n",
       "  \" fill=\"#009af9\" fill-rule=\"evenodd\" fill-opacity=\"0.7\"/>\n",
       "<polyline clip-path=\"url(#clip1003)\" style=\"stroke:#000000; stroke-width:4; stroke-opacity:1; fill:none\" points=\"\n",
       "  1692.46,828.407 1692.46,828.407 1760.56,828.407 1692.46,828.407 \n",
       "  \"/>\n",
       "<polygon clip-path=\"url(#clip1003)\" points=\"\n",
       "1760.56,824.197 1760.56,828.407 1828.66,828.407 1828.66,824.197 1760.56,824.197 1760.56,824.197 \n",
       "  \" fill=\"#009af9\" fill-rule=\"evenodd\" fill-opacity=\"0.7\"/>\n",
       "<polyline clip-path=\"url(#clip1003)\" style=\"stroke:#000000; stroke-width:4; stroke-opacity:1; fill:none\" points=\"\n",
       "  1760.56,824.197 1760.56,828.407 1828.66,828.407 1828.66,824.197 1760.56,824.197 \n",
       "  \"/>\n",
       "</svg>\n"
      ]
     },
     "execution_count": 9,
     "metadata": {},
     "output_type": "execute_result"
    }
   ],
   "source": [
    "# Construct summary of the sampling process for the parameter p, i.e. the probability of heads in a coin.\n",
    "p_summary = Chains(chain[:p])\n",
    "plot(p_summary, seriestype = :histogram)"
   ]
  },
  {
   "cell_type": "markdown",
   "metadata": {},
   "source": [
    "Now we can build our plot:"
   ]
  },
  {
   "cell_type": "code",
   "execution_count": 10,
   "metadata": {},
   "outputs": [],
   "source": [
    "# Compute the posterior distribution in closed-form.\n",
    "N = length(data)\n",
    "heads = sum(data)\n",
    "updated_belief = Beta(prior_belief.α + heads, prior_belief.β + N - heads)\n",
    "\n",
    "# Visualize a blue density plot of the approximate posterior distribution using HMC (see Chain 1 in the legend).\n",
    "p = plot(p_summary, seriestype = :density, xlim = (0,1), legend = :best, w = 2, c = :blue)\n",
    "\n",
    "# Visualize a green density plot of posterior distribution in closed-form.\n",
    "plot!(p, range(0, stop = 1, length = 100), pdf.(Ref(updated_belief), range(0, stop = 1, length = 100)), \n",
    "        xlabel = \"probability of heads\", ylabel = \"\", title = \"\", xlim = (0,1), label = \"Closed-form\",\n",
    "        fill=0, α=0.3, w=3, c = :lightgreen)\n",
    "\n",
    "# Visualize the true probability of heads in red.\n",
    "vline!(p, [p_true], label = \"True probability\", c = :red);"
   ]
  },
  {
   "cell_type": "markdown",
   "metadata": {},
   "source": [
    "![sdf](https://user-images.githubusercontent.com/7974003/44995682-25477880-af9c-11e8-850b-36e4b6d756ea.png)"
   ]
  },
  {
   "cell_type": "markdown",
   "metadata": {},
   "source": [
    "As we can see, the Turing model closely approximates the true probability. Hopefully this tutorial has provided an easy-to-follow, yet informative introduction to Turing's simpler applications. More advanced usage will be demonstrated in later tutorials."
   ]
  }
 ],
 "metadata": {
  "kernelspec": {
   "display_name": "Julia 1.0.3",
   "language": "julia",
   "name": "julia-1.0"
  },
  "language_info": {
   "file_extension": ".jl",
   "mimetype": "application/julia",
   "name": "julia",
   "version": "1.0.3"
  }
 },
 "nbformat": 4,
 "nbformat_minor": 2
}
